{
 "cells": [
  {
   "cell_type": "code",
   "execution_count": 119,
   "metadata": {},
   "outputs": [],
   "source": [
    "import keras\n",
    "import pandas as pd\n",
    "import numpy as np\n",
    "import matplotlib.pyplot as plt\n",
    "\n",
    "# Setting seed for reproducability\n",
    "np.random.seed(1234)  \n",
    "PYTHONHASHSEED = 0\n",
    "from sklearn import preprocessing\n",
    "from sklearn.metrics import confusion_matrix, recall_score, precision_score\n",
    "from keras.models import Sequential, load_model\n",
    "from keras.layers import Dense, Dropout, LSTM, Activation, Conv1D, MaxPooling1D, Masking\n",
    "%matplotlib inline"
   ]
  },
  {
   "cell_type": "code",
   "execution_count": 120,
   "metadata": {},
   "outputs": [
    {
     "output_type": "execute_result",
     "data": {
      "text/plain": "   id  cycle  setting1  setting2  setting3      s1      s2       s3       s4  \\\n0   1      1   34.9983    0.8400     100.0  449.44  555.32  1358.61  1137.23   \n1   1      2   41.9982    0.8408     100.0  445.00  549.90  1353.22  1125.78   \n2   1      3   24.9988    0.6218      60.0  462.54  537.31  1256.76  1047.45   \n3   1      4   42.0077    0.8416     100.0  445.00  549.51  1354.03  1126.38   \n4   1      5   25.0005    0.6203      60.0  462.54  537.07  1257.71  1047.93   \n\n     s5  ...     s12      s13      s14      s15   s16  s17   s18     s19  \\\n0  5.48  ...  183.06  2387.72  8048.56   9.3461  0.02  334  2223  100.00   \n1  3.91  ...  130.42  2387.66  8072.30   9.3774  0.02  330  2212  100.00   \n2  7.05  ...  164.22  2028.03  7864.87  10.8941  0.02  309  1915   84.93   \n3  3.91  ...  130.72  2387.61  8068.66   9.3528  0.02  329  2212  100.00   \n4  7.05  ...  164.31  2028.00  7861.23  10.8963  0.02  309  1915   84.93   \n\n     s20     s21  \n0  14.73  8.8071  \n1  10.41  6.2665  \n2  14.08  8.6723  \n3  10.59  6.4701  \n4  14.13  8.5286  \n\n[5 rows x 26 columns]",
      "text/html": "<div>\n<style scoped>\n    .dataframe tbody tr th:only-of-type {\n        vertical-align: middle;\n    }\n\n    .dataframe tbody tr th {\n        vertical-align: top;\n    }\n\n    .dataframe thead th {\n        text-align: right;\n    }\n</style>\n<table border=\"1\" class=\"dataframe\">\n  <thead>\n    <tr style=\"text-align: right;\">\n      <th></th>\n      <th>id</th>\n      <th>cycle</th>\n      <th>setting1</th>\n      <th>setting2</th>\n      <th>setting3</th>\n      <th>s1</th>\n      <th>s2</th>\n      <th>s3</th>\n      <th>s4</th>\n      <th>s5</th>\n      <th>...</th>\n      <th>s12</th>\n      <th>s13</th>\n      <th>s14</th>\n      <th>s15</th>\n      <th>s16</th>\n      <th>s17</th>\n      <th>s18</th>\n      <th>s19</th>\n      <th>s20</th>\n      <th>s21</th>\n    </tr>\n  </thead>\n  <tbody>\n    <tr>\n      <th>0</th>\n      <td>1</td>\n      <td>1</td>\n      <td>34.9983</td>\n      <td>0.8400</td>\n      <td>100.0</td>\n      <td>449.44</td>\n      <td>555.32</td>\n      <td>1358.61</td>\n      <td>1137.23</td>\n      <td>5.48</td>\n      <td>...</td>\n      <td>183.06</td>\n      <td>2387.72</td>\n      <td>8048.56</td>\n      <td>9.3461</td>\n      <td>0.02</td>\n      <td>334</td>\n      <td>2223</td>\n      <td>100.00</td>\n      <td>14.73</td>\n      <td>8.8071</td>\n    </tr>\n    <tr>\n      <th>1</th>\n      <td>1</td>\n      <td>2</td>\n      <td>41.9982</td>\n      <td>0.8408</td>\n      <td>100.0</td>\n      <td>445.00</td>\n      <td>549.90</td>\n      <td>1353.22</td>\n      <td>1125.78</td>\n      <td>3.91</td>\n      <td>...</td>\n      <td>130.42</td>\n      <td>2387.66</td>\n      <td>8072.30</td>\n      <td>9.3774</td>\n      <td>0.02</td>\n      <td>330</td>\n      <td>2212</td>\n      <td>100.00</td>\n      <td>10.41</td>\n      <td>6.2665</td>\n    </tr>\n    <tr>\n      <th>2</th>\n      <td>1</td>\n      <td>3</td>\n      <td>24.9988</td>\n      <td>0.6218</td>\n      <td>60.0</td>\n      <td>462.54</td>\n      <td>537.31</td>\n      <td>1256.76</td>\n      <td>1047.45</td>\n      <td>7.05</td>\n      <td>...</td>\n      <td>164.22</td>\n      <td>2028.03</td>\n      <td>7864.87</td>\n      <td>10.8941</td>\n      <td>0.02</td>\n      <td>309</td>\n      <td>1915</td>\n      <td>84.93</td>\n      <td>14.08</td>\n      <td>8.6723</td>\n    </tr>\n    <tr>\n      <th>3</th>\n      <td>1</td>\n      <td>4</td>\n      <td>42.0077</td>\n      <td>0.8416</td>\n      <td>100.0</td>\n      <td>445.00</td>\n      <td>549.51</td>\n      <td>1354.03</td>\n      <td>1126.38</td>\n      <td>3.91</td>\n      <td>...</td>\n      <td>130.72</td>\n      <td>2387.61</td>\n      <td>8068.66</td>\n      <td>9.3528</td>\n      <td>0.02</td>\n      <td>329</td>\n      <td>2212</td>\n      <td>100.00</td>\n      <td>10.59</td>\n      <td>6.4701</td>\n    </tr>\n    <tr>\n      <th>4</th>\n      <td>1</td>\n      <td>5</td>\n      <td>25.0005</td>\n      <td>0.6203</td>\n      <td>60.0</td>\n      <td>462.54</td>\n      <td>537.07</td>\n      <td>1257.71</td>\n      <td>1047.93</td>\n      <td>7.05</td>\n      <td>...</td>\n      <td>164.31</td>\n      <td>2028.00</td>\n      <td>7861.23</td>\n      <td>10.8963</td>\n      <td>0.02</td>\n      <td>309</td>\n      <td>1915</td>\n      <td>84.93</td>\n      <td>14.13</td>\n      <td>8.5286</td>\n    </tr>\n  </tbody>\n</table>\n<p>5 rows × 26 columns</p>\n</div>"
     },
     "metadata": {},
     "execution_count": 120
    }
   ],
   "source": [
    "jet = pd.read_table('../train_data.txt',sep=' ',header=None)\n",
    "jet.drop([26,27],axis=1,inplace=True)\n",
    "jet.columns = ['id', 'cycle', 'setting1', 'setting2', 'setting3', 's1', 's2', 's3',\n",
    "                     's4', 's5', 's6', 's7', 's8', 's9', 's10', 's11', 's12', 's13', 's14',\n",
    "                     's15', 's16', 's17', 's18', 's19', 's20', 's21']\n",
    "train_df = jet\n",
    "train_df.head()"
   ]
  },
  {
   "cell_type": "code",
   "execution_count": 121,
   "metadata": {},
   "outputs": [
    {
     "output_type": "execute_result",
     "data": {
      "text/plain": "   id  cycle  setting1  setting2  setting3      s1      s2       s3       s4  \\\n0   1      1    9.9987    0.2502     100.0  489.05  605.03  1497.17  1304.99   \n1   1      2   20.0026    0.7000     100.0  491.19  607.82  1481.20  1246.11   \n2   1      3   35.0045    0.8400     100.0  449.44  556.00  1359.08  1128.36   \n3   1      4   42.0066    0.8410     100.0  445.00  550.17  1349.69  1127.89   \n4   1      5   24.9985    0.6213      60.0  462.54  536.72  1253.18  1050.69   \n\n      s5  ...     s12      s13      s14      s15   s16  s17   s18     s19  \\\n0  10.52  ...  371.69  2388.18  8114.10   8.6476  0.03  369  2319  100.00   \n1   9.35  ...  315.32  2388.12  8053.06   9.2405  0.02  364  2324  100.00   \n2   5.48  ...  183.04  2387.75  8053.04   9.3472  0.02  333  2223  100.00   \n3   3.91  ...  130.40  2387.72  8066.90   9.3961  0.02  332  2212  100.00   \n4   7.05  ...  164.56  2028.05  7865.66  10.8682  0.02  305  1915   84.93   \n\n     s20      s21  \n0  28.42  17.1551  \n1  24.29  14.8039  \n2  14.98   8.9125  \n3  10.35   6.4181  \n4  14.31   8.5740  \n\n[5 rows x 26 columns]",
      "text/html": "<div>\n<style scoped>\n    .dataframe tbody tr th:only-of-type {\n        vertical-align: middle;\n    }\n\n    .dataframe tbody tr th {\n        vertical-align: top;\n    }\n\n    .dataframe thead th {\n        text-align: right;\n    }\n</style>\n<table border=\"1\" class=\"dataframe\">\n  <thead>\n    <tr style=\"text-align: right;\">\n      <th></th>\n      <th>id</th>\n      <th>cycle</th>\n      <th>setting1</th>\n      <th>setting2</th>\n      <th>setting3</th>\n      <th>s1</th>\n      <th>s2</th>\n      <th>s3</th>\n      <th>s4</th>\n      <th>s5</th>\n      <th>...</th>\n      <th>s12</th>\n      <th>s13</th>\n      <th>s14</th>\n      <th>s15</th>\n      <th>s16</th>\n      <th>s17</th>\n      <th>s18</th>\n      <th>s19</th>\n      <th>s20</th>\n      <th>s21</th>\n    </tr>\n  </thead>\n  <tbody>\n    <tr>\n      <th>0</th>\n      <td>1</td>\n      <td>1</td>\n      <td>9.9987</td>\n      <td>0.2502</td>\n      <td>100.0</td>\n      <td>489.05</td>\n      <td>605.03</td>\n      <td>1497.17</td>\n      <td>1304.99</td>\n      <td>10.52</td>\n      <td>...</td>\n      <td>371.69</td>\n      <td>2388.18</td>\n      <td>8114.10</td>\n      <td>8.6476</td>\n      <td>0.03</td>\n      <td>369</td>\n      <td>2319</td>\n      <td>100.00</td>\n      <td>28.42</td>\n      <td>17.1551</td>\n    </tr>\n    <tr>\n      <th>1</th>\n      <td>1</td>\n      <td>2</td>\n      <td>20.0026</td>\n      <td>0.7000</td>\n      <td>100.0</td>\n      <td>491.19</td>\n      <td>607.82</td>\n      <td>1481.20</td>\n      <td>1246.11</td>\n      <td>9.35</td>\n      <td>...</td>\n      <td>315.32</td>\n      <td>2388.12</td>\n      <td>8053.06</td>\n      <td>9.2405</td>\n      <td>0.02</td>\n      <td>364</td>\n      <td>2324</td>\n      <td>100.00</td>\n      <td>24.29</td>\n      <td>14.8039</td>\n    </tr>\n    <tr>\n      <th>2</th>\n      <td>1</td>\n      <td>3</td>\n      <td>35.0045</td>\n      <td>0.8400</td>\n      <td>100.0</td>\n      <td>449.44</td>\n      <td>556.00</td>\n      <td>1359.08</td>\n      <td>1128.36</td>\n      <td>5.48</td>\n      <td>...</td>\n      <td>183.04</td>\n      <td>2387.75</td>\n      <td>8053.04</td>\n      <td>9.3472</td>\n      <td>0.02</td>\n      <td>333</td>\n      <td>2223</td>\n      <td>100.00</td>\n      <td>14.98</td>\n      <td>8.9125</td>\n    </tr>\n    <tr>\n      <th>3</th>\n      <td>1</td>\n      <td>4</td>\n      <td>42.0066</td>\n      <td>0.8410</td>\n      <td>100.0</td>\n      <td>445.00</td>\n      <td>550.17</td>\n      <td>1349.69</td>\n      <td>1127.89</td>\n      <td>3.91</td>\n      <td>...</td>\n      <td>130.40</td>\n      <td>2387.72</td>\n      <td>8066.90</td>\n      <td>9.3961</td>\n      <td>0.02</td>\n      <td>332</td>\n      <td>2212</td>\n      <td>100.00</td>\n      <td>10.35</td>\n      <td>6.4181</td>\n    </tr>\n    <tr>\n      <th>4</th>\n      <td>1</td>\n      <td>5</td>\n      <td>24.9985</td>\n      <td>0.6213</td>\n      <td>60.0</td>\n      <td>462.54</td>\n      <td>536.72</td>\n      <td>1253.18</td>\n      <td>1050.69</td>\n      <td>7.05</td>\n      <td>...</td>\n      <td>164.56</td>\n      <td>2028.05</td>\n      <td>7865.66</td>\n      <td>10.8682</td>\n      <td>0.02</td>\n      <td>305</td>\n      <td>1915</td>\n      <td>84.93</td>\n      <td>14.31</td>\n      <td>8.5740</td>\n    </tr>\n  </tbody>\n</table>\n<p>5 rows × 26 columns</p>\n</div>"
     },
     "metadata": {},
     "execution_count": 121
    }
   ],
   "source": [
    "td = pd.read_table('../test_data.txt',sep=' ',header=None)\n",
    "td.drop([26,27],axis=1,inplace=True)\n",
    "td.columns = ['id', 'cycle', 'setting1', 'setting2', 'setting3', 's1', 's2', 's3',\n",
    "                     's4', 's5', 's6', 's7', 's8', 's9', 's10', 's11', 's12', 's13', 's14',\n",
    "                     's15', 's16', 's17', 's18', 's19', 's20', 's21']\n",
    "td.head()"
   ]
  },
  {
   "cell_type": "code",
   "execution_count": 122,
   "metadata": {},
   "outputs": [
    {
     "output_type": "execute_result",
     "data": {
      "text/plain": "21"
     },
     "metadata": {},
     "execution_count": 122
    }
   ],
   "source": [
    "td.groupby('id').max()['cycle'].min()"
   ]
  },
  {
   "cell_type": "markdown",
   "metadata": {},
   "source": [
    "## Kmeans"
   ]
  },
  {
   "cell_type": "code",
   "execution_count": 123,
   "metadata": {},
   "outputs": [],
   "source": [
    "from sklearn import cluster"
   ]
  },
  {
   "cell_type": "code",
   "execution_count": 124,
   "metadata": {},
   "outputs": [],
   "source": [
    "k_cluster = cluster.KMeans(n_clusters=6)"
   ]
  },
  {
   "cell_type": "code",
   "execution_count": 125,
   "metadata": {},
   "outputs": [],
   "source": [
    "def max_min_normalize(df):\n",
    "    return (df-df.min())/(df.max()-df.min())"
   ]
  },
  {
   "cell_type": "code",
   "execution_count": 126,
   "metadata": {},
   "outputs": [],
   "source": [
    "feature = jet[['setting1','setting2','setting3']]\n",
    "test_feature = td[['setting1','setting2','setting3']]"
   ]
  },
  {
   "cell_type": "code",
   "execution_count": 127,
   "metadata": {},
   "outputs": [],
   "source": [
    "train_data = np.array(max_min_normalize(feature))\n",
    "test_data = np.array(max_min_normalize(test_feature))"
   ]
  },
  {
   "cell_type": "code",
   "execution_count": 128,
   "metadata": {},
   "outputs": [
    {
     "output_type": "execute_result",
     "data": {
      "text/plain": "KMeans(algorithm='auto', copy_x=True, init='k-means++', max_iter=300,\n       n_clusters=6, n_init=10, n_jobs=None, precompute_distances='auto',\n       random_state=None, tol=0.0001, verbose=0)"
     },
     "metadata": {},
     "execution_count": 128
    }
   ],
   "source": [
    "k_cluster.fit(train_data)"
   ]
  },
  {
   "cell_type": "code",
   "execution_count": 129,
   "metadata": {},
   "outputs": [],
   "source": [
    "train_mode = pd.DataFrame(k_cluster.labels_)\n",
    "test_mode = pd.DataFrame(k_cluster.predict(test_data))"
   ]
  },
  {
   "cell_type": "code",
   "execution_count": 130,
   "metadata": {},
   "outputs": [],
   "source": [
    "train_df['mode1']=0\n",
    "train_df['mode2']=0\n",
    "train_df['mode3']=0\n",
    "train_df['mode4']=0\n",
    "train_df['mode5']=0\n",
    "train_df['mode6']=0\n",
    "train_df.loc[train_mode[0]==0,['mode1','mode2','mode3','mode4','mode5','mode6']]=[1,0,0,0,0,0]\n",
    "train_df.loc[train_mode[0]==1,['mode1','mode2','mode3','mode4','mode5','mode6']]=[0,1,0,0,0,0]\n",
    "train_df.loc[train_mode[0]==2,['mode1','mode2','mode3','mode4','mode5','mode6']]=[0,0,1,0,0,0]\n",
    "train_df.loc[train_mode[0]==3,['mode1','mode2','mode3','mode4','mode5','mode6']]=[0,0,0,1,0,0]\n",
    "train_df.loc[train_mode[0]==4,['mode1','mode2','mode3','mode4','mode5','mode6']]=[0,0,0,0,1,0]\n",
    "train_df.loc[train_mode[0]==5,['mode1','mode2','mode3','mode4','mode5','mode6']]=[0,0,0,0,0,1]"
   ]
  },
  {
   "cell_type": "code",
   "execution_count": 131,
   "metadata": {},
   "outputs": [],
   "source": [
    "td['mode1']=0\n",
    "td['mode2']=0\n",
    "td['mode3']=0\n",
    "td['mode4']=0\n",
    "td['mode5']=0\n",
    "td['mode6']=0\n",
    "td.loc[test_mode[0]==0,['mode1','mode2','mode3','mode4','mode5','mode6']]=[1,0,0,0,0,0]\n",
    "td.loc[test_mode[0]==1,['mode1','mode2','mode3','mode4','mode5','mode6']]=[0,1,0,0,0,0]\n",
    "td.loc[test_mode[0]==2,['mode1','mode2','mode3','mode4','mode5','mode6']]=[0,0,1,0,0,0]\n",
    "td.loc[test_mode[0]==3,['mode1','mode2','mode3','mode4','mode5','mode6']]=[0,0,0,1,0,0]\n",
    "td.loc[test_mode[0]==4,['mode1','mode2','mode3','mode4','mode5','mode6']]=[0,0,0,0,1,0]\n",
    "td.loc[test_mode[0]==5,['mode1','mode2','mode3','mode4','mode5','mode6']]=[0,0,0,0,0,1]"
   ]
  },
  {
   "cell_type": "code",
   "execution_count": 132,
   "metadata": {},
   "outputs": [
    {
     "output_type": "execute_result",
     "data": {
      "text/plain": "   id  cycle  setting1  setting2  setting3      s1      s2       s3       s4  \\\n0   1      1   34.9983    0.8400     100.0  449.44  555.32  1358.61  1137.23   \n1   1      2   41.9982    0.8408     100.0  445.00  549.90  1353.22  1125.78   \n2   1      3   24.9988    0.6218      60.0  462.54  537.31  1256.76  1047.45   \n3   1      4   42.0077    0.8416     100.0  445.00  549.51  1354.03  1126.38   \n4   1      5   25.0005    0.6203      60.0  462.54  537.07  1257.71  1047.93   \n\n     s5  ...     s19    s20     s21  mode1  mode2  mode3  mode4  mode5  mode6  \\\n0  5.48  ...  100.00  14.73  8.8071      0      1      0      0      0      0   \n1  3.91  ...  100.00  10.41  6.2665      0      0      0      0      0      1   \n2  7.05  ...   84.93  14.08  8.6723      1      0      0      0      0      0   \n3  3.91  ...  100.00  10.59  6.4701      0      0      0      0      0      1   \n4  7.05  ...   84.93  14.13  8.5286      1      0      0      0      0      0   \n\n   RUL  \n0  130  \n1  130  \n2  130  \n3  130  \n4  130  \n\n[5 rows x 33 columns]",
      "text/html": "<div>\n<style scoped>\n    .dataframe tbody tr th:only-of-type {\n        vertical-align: middle;\n    }\n\n    .dataframe tbody tr th {\n        vertical-align: top;\n    }\n\n    .dataframe thead th {\n        text-align: right;\n    }\n</style>\n<table border=\"1\" class=\"dataframe\">\n  <thead>\n    <tr style=\"text-align: right;\">\n      <th></th>\n      <th>id</th>\n      <th>cycle</th>\n      <th>setting1</th>\n      <th>setting2</th>\n      <th>setting3</th>\n      <th>s1</th>\n      <th>s2</th>\n      <th>s3</th>\n      <th>s4</th>\n      <th>s5</th>\n      <th>...</th>\n      <th>s19</th>\n      <th>s20</th>\n      <th>s21</th>\n      <th>mode1</th>\n      <th>mode2</th>\n      <th>mode3</th>\n      <th>mode4</th>\n      <th>mode5</th>\n      <th>mode6</th>\n      <th>RUL</th>\n    </tr>\n  </thead>\n  <tbody>\n    <tr>\n      <th>0</th>\n      <td>1</td>\n      <td>1</td>\n      <td>34.9983</td>\n      <td>0.8400</td>\n      <td>100.0</td>\n      <td>449.44</td>\n      <td>555.32</td>\n      <td>1358.61</td>\n      <td>1137.23</td>\n      <td>5.48</td>\n      <td>...</td>\n      <td>100.00</td>\n      <td>14.73</td>\n      <td>8.8071</td>\n      <td>0</td>\n      <td>1</td>\n      <td>0</td>\n      <td>0</td>\n      <td>0</td>\n      <td>0</td>\n      <td>130</td>\n    </tr>\n    <tr>\n      <th>1</th>\n      <td>1</td>\n      <td>2</td>\n      <td>41.9982</td>\n      <td>0.8408</td>\n      <td>100.0</td>\n      <td>445.00</td>\n      <td>549.90</td>\n      <td>1353.22</td>\n      <td>1125.78</td>\n      <td>3.91</td>\n      <td>...</td>\n      <td>100.00</td>\n      <td>10.41</td>\n      <td>6.2665</td>\n      <td>0</td>\n      <td>0</td>\n      <td>0</td>\n      <td>0</td>\n      <td>0</td>\n      <td>1</td>\n      <td>130</td>\n    </tr>\n    <tr>\n      <th>2</th>\n      <td>1</td>\n      <td>3</td>\n      <td>24.9988</td>\n      <td>0.6218</td>\n      <td>60.0</td>\n      <td>462.54</td>\n      <td>537.31</td>\n      <td>1256.76</td>\n      <td>1047.45</td>\n      <td>7.05</td>\n      <td>...</td>\n      <td>84.93</td>\n      <td>14.08</td>\n      <td>8.6723</td>\n      <td>1</td>\n      <td>0</td>\n      <td>0</td>\n      <td>0</td>\n      <td>0</td>\n      <td>0</td>\n      <td>130</td>\n    </tr>\n    <tr>\n      <th>3</th>\n      <td>1</td>\n      <td>4</td>\n      <td>42.0077</td>\n      <td>0.8416</td>\n      <td>100.0</td>\n      <td>445.00</td>\n      <td>549.51</td>\n      <td>1354.03</td>\n      <td>1126.38</td>\n      <td>3.91</td>\n      <td>...</td>\n      <td>100.00</td>\n      <td>10.59</td>\n      <td>6.4701</td>\n      <td>0</td>\n      <td>0</td>\n      <td>0</td>\n      <td>0</td>\n      <td>0</td>\n      <td>1</td>\n      <td>130</td>\n    </tr>\n    <tr>\n      <th>4</th>\n      <td>1</td>\n      <td>5</td>\n      <td>25.0005</td>\n      <td>0.6203</td>\n      <td>60.0</td>\n      <td>462.54</td>\n      <td>537.07</td>\n      <td>1257.71</td>\n      <td>1047.93</td>\n      <td>7.05</td>\n      <td>...</td>\n      <td>84.93</td>\n      <td>14.13</td>\n      <td>8.5286</td>\n      <td>1</td>\n      <td>0</td>\n      <td>0</td>\n      <td>0</td>\n      <td>0</td>\n      <td>0</td>\n      <td>130</td>\n    </tr>\n  </tbody>\n</table>\n<p>5 rows × 33 columns</p>\n</div>"
     },
     "metadata": {},
     "execution_count": 132
    }
   ],
   "source": [
    "# Data Labeling - generate column RUL\n",
    "rul = pd.DataFrame(train_df.groupby('id')['cycle'].max()).reset_index()\n",
    "rul.columns = ['id', 'max']\n",
    "train_df = train_df.merge(rul, on=['id'], how='left')\n",
    "train_df['RUL'] = train_df['max'] - train_df['cycle']\n",
    "train_df.drop('max', axis=1, inplace=True)\n",
    "train_df.loc[train_df['RUL']>130,['RUL']]=130\n",
    "train_df.head()"
   ]
  },
  {
   "cell_type": "code",
   "execution_count": 133,
   "metadata": {},
   "outputs": [
    {
     "output_type": "execute_result",
     "data": {
      "text/plain": "        id  cycle  setting1  setting2  setting3        s1        s2        s3  \\\n0        1      1  0.833134  0.997625       1.0  0.060269  0.181576  0.311201   \n1        1      2  0.999767  0.998575       1.0  0.000000  0.131847  0.296600   \n2        1      3  0.595096  0.738480       0.0  0.238089  0.016332  0.035297   \n3        1      4  0.999993  0.999525       1.0  0.000000  0.128269  0.298795   \n4        1      5  0.595137  0.736698       0.0  0.238089  0.014130  0.037871   \n...    ...    ...       ...       ...       ...       ...       ...       ...   \n53754  260    312  0.476188  0.831354       1.0  0.626985  0.672172  0.682297   \n53755  260    313  0.238102  0.298100       1.0  0.597937  0.644830  0.733008   \n53756  260    314  0.595222  0.736342       0.0  0.238089  0.017892  0.088067   \n53757  260    315  0.595203  0.738717       0.0  0.238089  0.021195  0.079155   \n53758  260    316  0.833260  0.997625       1.0  0.060269  0.193687  0.354544   \n\n             s4        s5  ...       s20       s21  mode1  mode2  mode3  \\\n0      0.273095  0.146592  ...  0.156036  0.159082    0.0    1.0    0.0   \n1      0.245535  0.000000  ...  0.007888  0.014562    0.0    0.0    0.0   \n2      0.056997  0.293184  ...  0.133745  0.151414    1.0    0.0    0.0   \n3      0.246979  0.000000  ...  0.014060  0.026144    0.0    0.0    0.0   \n4      0.058152  0.293184  ...  0.135460  0.143240    1.0    0.0    0.0   \n...         ...       ...  ...       ...       ...    ...    ...    ...   \n53754  0.591489  0.507937  ...  0.486283  0.483993    0.0    0.0    0.0   \n53755  0.722934  0.617180  ...  0.614540  0.622022    0.0    0.0    0.0   \n53756  0.082198  0.293184  ...  0.137517  0.144474    1.0    0.0    0.0   \n53757  0.102368  0.293184  ...  0.132716  0.134383    1.0    0.0    0.0   \n53758  0.293049  0.146592  ...  0.156722  0.161215    0.0    1.0    0.0   \n\n       mode4  mode5  mode6  RUL  cycle_norm  \n0        0.0    0.0    0.0  130    0.000000  \n1        0.0    0.0    1.0  130    0.002653  \n2        0.0    0.0    0.0  130    0.005305  \n3        0.0    0.0    1.0  130    0.007958  \n4        0.0    0.0    0.0  130    0.010610  \n...      ...    ...    ...  ...         ...  \n53754    1.0    0.0    0.0    4    0.824934  \n53755    0.0    1.0    0.0    3    0.827586  \n53756    0.0    0.0    0.0    2    0.830239  \n53757    0.0    0.0    0.0    1    0.832891  \n53758    0.0    0.0    0.0    0    0.835544  \n\n[53759 rows x 34 columns]",
      "text/html": "<div>\n<style scoped>\n    .dataframe tbody tr th:only-of-type {\n        vertical-align: middle;\n    }\n\n    .dataframe tbody tr th {\n        vertical-align: top;\n    }\n\n    .dataframe thead th {\n        text-align: right;\n    }\n</style>\n<table border=\"1\" class=\"dataframe\">\n  <thead>\n    <tr style=\"text-align: right;\">\n      <th></th>\n      <th>id</th>\n      <th>cycle</th>\n      <th>setting1</th>\n      <th>setting2</th>\n      <th>setting3</th>\n      <th>s1</th>\n      <th>s2</th>\n      <th>s3</th>\n      <th>s4</th>\n      <th>s5</th>\n      <th>...</th>\n      <th>s20</th>\n      <th>s21</th>\n      <th>mode1</th>\n      <th>mode2</th>\n      <th>mode3</th>\n      <th>mode4</th>\n      <th>mode5</th>\n      <th>mode6</th>\n      <th>RUL</th>\n      <th>cycle_norm</th>\n    </tr>\n  </thead>\n  <tbody>\n    <tr>\n      <th>0</th>\n      <td>1</td>\n      <td>1</td>\n      <td>0.833134</td>\n      <td>0.997625</td>\n      <td>1.0</td>\n      <td>0.060269</td>\n      <td>0.181576</td>\n      <td>0.311201</td>\n      <td>0.273095</td>\n      <td>0.146592</td>\n      <td>...</td>\n      <td>0.156036</td>\n      <td>0.159082</td>\n      <td>0.0</td>\n      <td>1.0</td>\n      <td>0.0</td>\n      <td>0.0</td>\n      <td>0.0</td>\n      <td>0.0</td>\n      <td>130</td>\n      <td>0.000000</td>\n    </tr>\n    <tr>\n      <th>1</th>\n      <td>1</td>\n      <td>2</td>\n      <td>0.999767</td>\n      <td>0.998575</td>\n      <td>1.0</td>\n      <td>0.000000</td>\n      <td>0.131847</td>\n      <td>0.296600</td>\n      <td>0.245535</td>\n      <td>0.000000</td>\n      <td>...</td>\n      <td>0.007888</td>\n      <td>0.014562</td>\n      <td>0.0</td>\n      <td>0.0</td>\n      <td>0.0</td>\n      <td>0.0</td>\n      <td>0.0</td>\n      <td>1.0</td>\n      <td>130</td>\n      <td>0.002653</td>\n    </tr>\n    <tr>\n      <th>2</th>\n      <td>1</td>\n      <td>3</td>\n      <td>0.595096</td>\n      <td>0.738480</td>\n      <td>0.0</td>\n      <td>0.238089</td>\n      <td>0.016332</td>\n      <td>0.035297</td>\n      <td>0.056997</td>\n      <td>0.293184</td>\n      <td>...</td>\n      <td>0.133745</td>\n      <td>0.151414</td>\n      <td>1.0</td>\n      <td>0.0</td>\n      <td>0.0</td>\n      <td>0.0</td>\n      <td>0.0</td>\n      <td>0.0</td>\n      <td>130</td>\n      <td>0.005305</td>\n    </tr>\n    <tr>\n      <th>3</th>\n      <td>1</td>\n      <td>4</td>\n      <td>0.999993</td>\n      <td>0.999525</td>\n      <td>1.0</td>\n      <td>0.000000</td>\n      <td>0.128269</td>\n      <td>0.298795</td>\n      <td>0.246979</td>\n      <td>0.000000</td>\n      <td>...</td>\n      <td>0.014060</td>\n      <td>0.026144</td>\n      <td>0.0</td>\n      <td>0.0</td>\n      <td>0.0</td>\n      <td>0.0</td>\n      <td>0.0</td>\n      <td>1.0</td>\n      <td>130</td>\n      <td>0.007958</td>\n    </tr>\n    <tr>\n      <th>4</th>\n      <td>1</td>\n      <td>5</td>\n      <td>0.595137</td>\n      <td>0.736698</td>\n      <td>0.0</td>\n      <td>0.238089</td>\n      <td>0.014130</td>\n      <td>0.037871</td>\n      <td>0.058152</td>\n      <td>0.293184</td>\n      <td>...</td>\n      <td>0.135460</td>\n      <td>0.143240</td>\n      <td>1.0</td>\n      <td>0.0</td>\n      <td>0.0</td>\n      <td>0.0</td>\n      <td>0.0</td>\n      <td>0.0</td>\n      <td>130</td>\n      <td>0.010610</td>\n    </tr>\n    <tr>\n      <th>...</th>\n      <td>...</td>\n      <td>...</td>\n      <td>...</td>\n      <td>...</td>\n      <td>...</td>\n      <td>...</td>\n      <td>...</td>\n      <td>...</td>\n      <td>...</td>\n      <td>...</td>\n      <td>...</td>\n      <td>...</td>\n      <td>...</td>\n      <td>...</td>\n      <td>...</td>\n      <td>...</td>\n      <td>...</td>\n      <td>...</td>\n      <td>...</td>\n      <td>...</td>\n      <td>...</td>\n    </tr>\n    <tr>\n      <th>53754</th>\n      <td>260</td>\n      <td>312</td>\n      <td>0.476188</td>\n      <td>0.831354</td>\n      <td>1.0</td>\n      <td>0.626985</td>\n      <td>0.672172</td>\n      <td>0.682297</td>\n      <td>0.591489</td>\n      <td>0.507937</td>\n      <td>...</td>\n      <td>0.486283</td>\n      <td>0.483993</td>\n      <td>0.0</td>\n      <td>0.0</td>\n      <td>0.0</td>\n      <td>1.0</td>\n      <td>0.0</td>\n      <td>0.0</td>\n      <td>4</td>\n      <td>0.824934</td>\n    </tr>\n    <tr>\n      <th>53755</th>\n      <td>260</td>\n      <td>313</td>\n      <td>0.238102</td>\n      <td>0.298100</td>\n      <td>1.0</td>\n      <td>0.597937</td>\n      <td>0.644830</td>\n      <td>0.733008</td>\n      <td>0.722934</td>\n      <td>0.617180</td>\n      <td>...</td>\n      <td>0.614540</td>\n      <td>0.622022</td>\n      <td>0.0</td>\n      <td>0.0</td>\n      <td>0.0</td>\n      <td>0.0</td>\n      <td>1.0</td>\n      <td>0.0</td>\n      <td>3</td>\n      <td>0.827586</td>\n    </tr>\n    <tr>\n      <th>53756</th>\n      <td>260</td>\n      <td>314</td>\n      <td>0.595222</td>\n      <td>0.736342</td>\n      <td>0.0</td>\n      <td>0.238089</td>\n      <td>0.017892</td>\n      <td>0.088067</td>\n      <td>0.082198</td>\n      <td>0.293184</td>\n      <td>...</td>\n      <td>0.137517</td>\n      <td>0.144474</td>\n      <td>1.0</td>\n      <td>0.0</td>\n      <td>0.0</td>\n      <td>0.0</td>\n      <td>0.0</td>\n      <td>0.0</td>\n      <td>2</td>\n      <td>0.830239</td>\n    </tr>\n    <tr>\n      <th>53757</th>\n      <td>260</td>\n      <td>315</td>\n      <td>0.595203</td>\n      <td>0.738717</td>\n      <td>0.0</td>\n      <td>0.238089</td>\n      <td>0.021195</td>\n      <td>0.079155</td>\n      <td>0.102368</td>\n      <td>0.293184</td>\n      <td>...</td>\n      <td>0.132716</td>\n      <td>0.134383</td>\n      <td>1.0</td>\n      <td>0.0</td>\n      <td>0.0</td>\n      <td>0.0</td>\n      <td>0.0</td>\n      <td>0.0</td>\n      <td>1</td>\n      <td>0.832891</td>\n    </tr>\n    <tr>\n      <th>53758</th>\n      <td>260</td>\n      <td>316</td>\n      <td>0.833260</td>\n      <td>0.997625</td>\n      <td>1.0</td>\n      <td>0.060269</td>\n      <td>0.193687</td>\n      <td>0.354544</td>\n      <td>0.293049</td>\n      <td>0.146592</td>\n      <td>...</td>\n      <td>0.156722</td>\n      <td>0.161215</td>\n      <td>0.0</td>\n      <td>1.0</td>\n      <td>0.0</td>\n      <td>0.0</td>\n      <td>0.0</td>\n      <td>0.0</td>\n      <td>0</td>\n      <td>0.835544</td>\n    </tr>\n  </tbody>\n</table>\n<p>53759 rows × 34 columns</p>\n</div>"
     },
     "metadata": {},
     "execution_count": 133
    }
   ],
   "source": [
    "# normalize the columns in the training data.\n",
    "# MinMax normalization\n",
    "train_df['cycle_norm'] = train_df['cycle']\n",
    "cols_normalize = train_df.columns.difference(['id','cycle','RUL'])\n",
    "min_max_scaler = preprocessing.MinMaxScaler()\n",
    "norm_train_df = pd.DataFrame(min_max_scaler.fit_transform(train_df[cols_normalize]), \n",
    "                             columns=cols_normalize, \n",
    "                             index=train_df.index)\n",
    "join_df = train_df[train_df.columns.difference(cols_normalize)].join(norm_train_df)\n",
    "train_df = join_df.reindex(columns = train_df.columns)\n",
    "train_df"
   ]
  },
  {
   "cell_type": "code",
   "execution_count": 134,
   "metadata": {},
   "outputs": [
    {
     "output_type": "execute_result",
     "data": {
      "text/plain": "        id  cycle  setting1  setting2  setting3        s1        s2        s3  \\\n0        1      1  0.238019  0.297150       1.0  0.597937  0.639243  0.691329   \n1        1      2  0.476162  0.831354       1.0  0.626985  0.664861  0.647519   \n2        1      3  0.833282  0.997625       1.0  0.060269  0.189055  0.312512   \n3        1      4  0.999967  0.998812       1.0  0.000000  0.135525  0.286753   \n4        1      5  0.595089  0.737886       0.0  0.238089  0.012028  0.022001   \n...    ...    ...       ...       ...       ...       ...       ...       ...   \n33986  259    119  0.833210  0.997981       1.0  0.060269  0.185015  0.331523   \n33987  259    120  0.999967  0.998219       1.0  0.000000  0.128638  0.290703   \n33988  259    121  0.999955  0.997625       1.0  0.000000  0.130750  0.285244   \n33989  259    122  0.000057  0.000356       1.0  1.000000  0.984024  0.944915   \n33990  259    123  0.999888  0.997625       1.0  0.000000  0.131852  0.267029   \n\n             s4        s5  ...  s19       s20       s21  mode1  mode2  mode3  \\\n0      0.680395  0.617180  ...  1.0  0.625944  0.630724    0.0    0.0    0.0   \n1      0.534663  0.507937  ...  1.0  0.484214  0.496301    0.0    0.0    0.0   \n2      0.243225  0.146592  ...  1.0  0.164722  0.159476    0.0    1.0    0.0   \n3      0.242061  0.000000  ...  1.0  0.005834  0.016866    0.0    0.0    0.0   \n4      0.050986  0.293184  ...  0.0  0.141730  0.140123    1.0    0.0    0.0   \n...         ...       ...  ...  ...       ...       ...    ...    ...    ...   \n33986  0.245972  0.146592  ...  1.0  0.163349  0.159133    0.0    1.0    0.0   \n33987  0.232087  0.000000  ...  1.0  0.013384  0.016260    0.0    0.0    0.0   \n33988  0.219835  0.000000  ...  1.0  0.013384  0.020433    0.0    0.0    0.0   \n33989  0.935747  1.000000  ...  1.0  0.991764  0.985410    0.0    0.0    1.0   \n33990  0.239759  0.000000  ...  1.0  0.015443  0.012858    0.0    0.0    0.0   \n\n       mode4  mode5  mode6  cycle_norm  \n0        0.0    1.0    0.0    0.000000  \n1        1.0    0.0    0.0    0.002732  \n2        0.0    0.0    0.0    0.005464  \n3        0.0    0.0    1.0    0.008197  \n4        0.0    0.0    0.0    0.010929  \n...      ...    ...    ...         ...  \n33986    0.0    0.0    0.0    0.322404  \n33987    0.0    0.0    1.0    0.325137  \n33988    0.0    0.0    1.0    0.327869  \n33989    0.0    0.0    0.0    0.330601  \n33990    0.0    0.0    1.0    0.333333  \n\n[33991 rows x 33 columns]",
      "text/html": "<div>\n<style scoped>\n    .dataframe tbody tr th:only-of-type {\n        vertical-align: middle;\n    }\n\n    .dataframe tbody tr th {\n        vertical-align: top;\n    }\n\n    .dataframe thead th {\n        text-align: right;\n    }\n</style>\n<table border=\"1\" class=\"dataframe\">\n  <thead>\n    <tr style=\"text-align: right;\">\n      <th></th>\n      <th>id</th>\n      <th>cycle</th>\n      <th>setting1</th>\n      <th>setting2</th>\n      <th>setting3</th>\n      <th>s1</th>\n      <th>s2</th>\n      <th>s3</th>\n      <th>s4</th>\n      <th>s5</th>\n      <th>...</th>\n      <th>s19</th>\n      <th>s20</th>\n      <th>s21</th>\n      <th>mode1</th>\n      <th>mode2</th>\n      <th>mode3</th>\n      <th>mode4</th>\n      <th>mode5</th>\n      <th>mode6</th>\n      <th>cycle_norm</th>\n    </tr>\n  </thead>\n  <tbody>\n    <tr>\n      <th>0</th>\n      <td>1</td>\n      <td>1</td>\n      <td>0.238019</td>\n      <td>0.297150</td>\n      <td>1.0</td>\n      <td>0.597937</td>\n      <td>0.639243</td>\n      <td>0.691329</td>\n      <td>0.680395</td>\n      <td>0.617180</td>\n      <td>...</td>\n      <td>1.0</td>\n      <td>0.625944</td>\n      <td>0.630724</td>\n      <td>0.0</td>\n      <td>0.0</td>\n      <td>0.0</td>\n      <td>0.0</td>\n      <td>1.0</td>\n      <td>0.0</td>\n      <td>0.000000</td>\n    </tr>\n    <tr>\n      <th>1</th>\n      <td>1</td>\n      <td>2</td>\n      <td>0.476162</td>\n      <td>0.831354</td>\n      <td>1.0</td>\n      <td>0.626985</td>\n      <td>0.664861</td>\n      <td>0.647519</td>\n      <td>0.534663</td>\n      <td>0.507937</td>\n      <td>...</td>\n      <td>1.0</td>\n      <td>0.484214</td>\n      <td>0.496301</td>\n      <td>0.0</td>\n      <td>0.0</td>\n      <td>0.0</td>\n      <td>1.0</td>\n      <td>0.0</td>\n      <td>0.0</td>\n      <td>0.002732</td>\n    </tr>\n    <tr>\n      <th>2</th>\n      <td>1</td>\n      <td>3</td>\n      <td>0.833282</td>\n      <td>0.997625</td>\n      <td>1.0</td>\n      <td>0.060269</td>\n      <td>0.189055</td>\n      <td>0.312512</td>\n      <td>0.243225</td>\n      <td>0.146592</td>\n      <td>...</td>\n      <td>1.0</td>\n      <td>0.164722</td>\n      <td>0.159476</td>\n      <td>0.0</td>\n      <td>1.0</td>\n      <td>0.0</td>\n      <td>0.0</td>\n      <td>0.0</td>\n      <td>0.0</td>\n      <td>0.005464</td>\n    </tr>\n    <tr>\n      <th>3</th>\n      <td>1</td>\n      <td>4</td>\n      <td>0.999967</td>\n      <td>0.998812</td>\n      <td>1.0</td>\n      <td>0.000000</td>\n      <td>0.135525</td>\n      <td>0.286753</td>\n      <td>0.242061</td>\n      <td>0.000000</td>\n      <td>...</td>\n      <td>1.0</td>\n      <td>0.005834</td>\n      <td>0.016866</td>\n      <td>0.0</td>\n      <td>0.0</td>\n      <td>0.0</td>\n      <td>0.0</td>\n      <td>0.0</td>\n      <td>1.0</td>\n      <td>0.008197</td>\n    </tr>\n    <tr>\n      <th>4</th>\n      <td>1</td>\n      <td>5</td>\n      <td>0.595089</td>\n      <td>0.737886</td>\n      <td>0.0</td>\n      <td>0.238089</td>\n      <td>0.012028</td>\n      <td>0.022001</td>\n      <td>0.050986</td>\n      <td>0.293184</td>\n      <td>...</td>\n      <td>0.0</td>\n      <td>0.141730</td>\n      <td>0.140123</td>\n      <td>1.0</td>\n      <td>0.0</td>\n      <td>0.0</td>\n      <td>0.0</td>\n      <td>0.0</td>\n      <td>0.0</td>\n      <td>0.010929</td>\n    </tr>\n    <tr>\n      <th>...</th>\n      <td>...</td>\n      <td>...</td>\n      <td>...</td>\n      <td>...</td>\n      <td>...</td>\n      <td>...</td>\n      <td>...</td>\n      <td>...</td>\n      <td>...</td>\n      <td>...</td>\n      <td>...</td>\n      <td>...</td>\n      <td>...</td>\n      <td>...</td>\n      <td>...</td>\n      <td>...</td>\n      <td>...</td>\n      <td>...</td>\n      <td>...</td>\n      <td>...</td>\n      <td>...</td>\n    </tr>\n    <tr>\n      <th>33986</th>\n      <td>259</td>\n      <td>119</td>\n      <td>0.833210</td>\n      <td>0.997981</td>\n      <td>1.0</td>\n      <td>0.060269</td>\n      <td>0.185015</td>\n      <td>0.331523</td>\n      <td>0.245972</td>\n      <td>0.146592</td>\n      <td>...</td>\n      <td>1.0</td>\n      <td>0.163349</td>\n      <td>0.159133</td>\n      <td>0.0</td>\n      <td>1.0</td>\n      <td>0.0</td>\n      <td>0.0</td>\n      <td>0.0</td>\n      <td>0.0</td>\n      <td>0.322404</td>\n    </tr>\n    <tr>\n      <th>33987</th>\n      <td>259</td>\n      <td>120</td>\n      <td>0.999967</td>\n      <td>0.998219</td>\n      <td>1.0</td>\n      <td>0.000000</td>\n      <td>0.128638</td>\n      <td>0.290703</td>\n      <td>0.232087</td>\n      <td>0.000000</td>\n      <td>...</td>\n      <td>1.0</td>\n      <td>0.013384</td>\n      <td>0.016260</td>\n      <td>0.0</td>\n      <td>0.0</td>\n      <td>0.0</td>\n      <td>0.0</td>\n      <td>0.0</td>\n      <td>1.0</td>\n      <td>0.325137</td>\n    </tr>\n    <tr>\n      <th>33988</th>\n      <td>259</td>\n      <td>121</td>\n      <td>0.999955</td>\n      <td>0.997625</td>\n      <td>1.0</td>\n      <td>0.000000</td>\n      <td>0.130750</td>\n      <td>0.285244</td>\n      <td>0.219835</td>\n      <td>0.000000</td>\n      <td>...</td>\n      <td>1.0</td>\n      <td>0.013384</td>\n      <td>0.020433</td>\n      <td>0.0</td>\n      <td>0.0</td>\n      <td>0.0</td>\n      <td>0.0</td>\n      <td>0.0</td>\n      <td>1.0</td>\n      <td>0.327869</td>\n    </tr>\n    <tr>\n      <th>33989</th>\n      <td>259</td>\n      <td>122</td>\n      <td>0.000057</td>\n      <td>0.000356</td>\n      <td>1.0</td>\n      <td>1.000000</td>\n      <td>0.984024</td>\n      <td>0.944915</td>\n      <td>0.935747</td>\n      <td>1.000000</td>\n      <td>...</td>\n      <td>1.0</td>\n      <td>0.991764</td>\n      <td>0.985410</td>\n      <td>0.0</td>\n      <td>0.0</td>\n      <td>1.0</td>\n      <td>0.0</td>\n      <td>0.0</td>\n      <td>0.0</td>\n      <td>0.330601</td>\n    </tr>\n    <tr>\n      <th>33990</th>\n      <td>259</td>\n      <td>123</td>\n      <td>0.999888</td>\n      <td>0.997625</td>\n      <td>1.0</td>\n      <td>0.000000</td>\n      <td>0.131852</td>\n      <td>0.267029</td>\n      <td>0.239759</td>\n      <td>0.000000</td>\n      <td>...</td>\n      <td>1.0</td>\n      <td>0.015443</td>\n      <td>0.012858</td>\n      <td>0.0</td>\n      <td>0.0</td>\n      <td>0.0</td>\n      <td>0.0</td>\n      <td>0.0</td>\n      <td>1.0</td>\n      <td>0.333333</td>\n    </tr>\n  </tbody>\n</table>\n<p>33991 rows × 33 columns</p>\n</div>"
     },
     "metadata": {},
     "execution_count": 134
    }
   ],
   "source": [
    "# normalize the columns in the test data.\n",
    "# MinMax normalization\n",
    "td['cycle_norm'] = td['cycle']\n",
    "cols_normalize = td.columns.difference(['id','cycle'])\n",
    "min_max_scaler = preprocessing.MinMaxScaler()\n",
    "norm_train_df = pd.DataFrame(min_max_scaler.fit_transform(td[cols_normalize]), \n",
    "                             columns=cols_normalize, \n",
    "                             index=td.index)\n",
    "join_df = td[td.columns.difference(cols_normalize)].join(norm_train_df)\n",
    "td = join_df.reindex(columns = td.columns)\n",
    "td"
   ]
  },
  {
   "cell_type": "markdown",
   "metadata": {},
   "source": [
    "### 准备输入"
   ]
  },
  {
   "cell_type": "code",
   "execution_count": 135,
   "metadata": {},
   "outputs": [
    {
     "output_type": "execute_result",
     "data": {
      "text/plain": "        id  cycle  setting1  setting2  setting3        s1        s2        s3  \\\n0        1      1  0.833134  0.997625       1.0  0.060269  0.181576  0.311201   \n1        1      2  0.999767  0.998575       1.0  0.000000  0.131847  0.296600   \n2        1      3  0.595096  0.738480       0.0  0.238089  0.016332  0.035297   \n3        1      4  0.999993  0.999525       1.0  0.000000  0.128269  0.298795   \n4        1      5  0.595137  0.736698       0.0  0.238089  0.014130  0.037871   \n...    ...    ...       ...       ...       ...       ...       ...       ...   \n53754  260    312  0.476188  0.831354       1.0  0.626985  0.672172  0.682297   \n53755  260    313  0.238102  0.298100       1.0  0.597937  0.644830  0.733008   \n53756  260    314  0.595222  0.736342       0.0  0.238089  0.017892  0.088067   \n53757  260    315  0.595203  0.738717       0.0  0.238089  0.021195  0.079155   \n53758  260    316  0.833260  0.997625       1.0  0.060269  0.193687  0.354544   \n\n             s4        s5  ...       s20       s21  mode1  mode2  mode3  \\\n0      0.273095  0.146592  ...  0.156036  0.159082    0.0    1.0    0.0   \n1      0.245535  0.000000  ...  0.007888  0.014562    0.0    0.0    0.0   \n2      0.056997  0.293184  ...  0.133745  0.151414    1.0    0.0    0.0   \n3      0.246979  0.000000  ...  0.014060  0.026144    0.0    0.0    0.0   \n4      0.058152  0.293184  ...  0.135460  0.143240    1.0    0.0    0.0   \n...         ...       ...  ...       ...       ...    ...    ...    ...   \n53754  0.591489  0.507937  ...  0.486283  0.483993    0.0    0.0    0.0   \n53755  0.722934  0.617180  ...  0.614540  0.622022    0.0    0.0    0.0   \n53756  0.082198  0.293184  ...  0.137517  0.144474    1.0    0.0    0.0   \n53757  0.102368  0.293184  ...  0.132716  0.134383    1.0    0.0    0.0   \n53758  0.293049  0.146592  ...  0.156722  0.161215    0.0    1.0    0.0   \n\n       mode4  mode5  mode6  RUL  cycle_norm  \n0        0.0    0.0    0.0  130    0.000000  \n1        0.0    0.0    1.0  130    0.002653  \n2        0.0    0.0    0.0  130    0.005305  \n3        0.0    0.0    1.0  130    0.007958  \n4        0.0    0.0    0.0  130    0.010610  \n...      ...    ...    ...  ...         ...  \n53754    1.0    0.0    0.0    4    0.824934  \n53755    0.0    1.0    0.0    3    0.827586  \n53756    0.0    0.0    0.0    2    0.830239  \n53757    0.0    0.0    0.0    1    0.832891  \n53758    0.0    0.0    0.0    0    0.835544  \n\n[53759 rows x 34 columns]",
      "text/html": "<div>\n<style scoped>\n    .dataframe tbody tr th:only-of-type {\n        vertical-align: middle;\n    }\n\n    .dataframe tbody tr th {\n        vertical-align: top;\n    }\n\n    .dataframe thead th {\n        text-align: right;\n    }\n</style>\n<table border=\"1\" class=\"dataframe\">\n  <thead>\n    <tr style=\"text-align: right;\">\n      <th></th>\n      <th>id</th>\n      <th>cycle</th>\n      <th>setting1</th>\n      <th>setting2</th>\n      <th>setting3</th>\n      <th>s1</th>\n      <th>s2</th>\n      <th>s3</th>\n      <th>s4</th>\n      <th>s5</th>\n      <th>...</th>\n      <th>s20</th>\n      <th>s21</th>\n      <th>mode1</th>\n      <th>mode2</th>\n      <th>mode3</th>\n      <th>mode4</th>\n      <th>mode5</th>\n      <th>mode6</th>\n      <th>RUL</th>\n      <th>cycle_norm</th>\n    </tr>\n  </thead>\n  <tbody>\n    <tr>\n      <th>0</th>\n      <td>1</td>\n      <td>1</td>\n      <td>0.833134</td>\n      <td>0.997625</td>\n      <td>1.0</td>\n      <td>0.060269</td>\n      <td>0.181576</td>\n      <td>0.311201</td>\n      <td>0.273095</td>\n      <td>0.146592</td>\n      <td>...</td>\n      <td>0.156036</td>\n      <td>0.159082</td>\n      <td>0.0</td>\n      <td>1.0</td>\n      <td>0.0</td>\n      <td>0.0</td>\n      <td>0.0</td>\n      <td>0.0</td>\n      <td>130</td>\n      <td>0.000000</td>\n    </tr>\n    <tr>\n      <th>1</th>\n      <td>1</td>\n      <td>2</td>\n      <td>0.999767</td>\n      <td>0.998575</td>\n      <td>1.0</td>\n      <td>0.000000</td>\n      <td>0.131847</td>\n      <td>0.296600</td>\n      <td>0.245535</td>\n      <td>0.000000</td>\n      <td>...</td>\n      <td>0.007888</td>\n      <td>0.014562</td>\n      <td>0.0</td>\n      <td>0.0</td>\n      <td>0.0</td>\n      <td>0.0</td>\n      <td>0.0</td>\n      <td>1.0</td>\n      <td>130</td>\n      <td>0.002653</td>\n    </tr>\n    <tr>\n      <th>2</th>\n      <td>1</td>\n      <td>3</td>\n      <td>0.595096</td>\n      <td>0.738480</td>\n      <td>0.0</td>\n      <td>0.238089</td>\n      <td>0.016332</td>\n      <td>0.035297</td>\n      <td>0.056997</td>\n      <td>0.293184</td>\n      <td>...</td>\n      <td>0.133745</td>\n      <td>0.151414</td>\n      <td>1.0</td>\n      <td>0.0</td>\n      <td>0.0</td>\n      <td>0.0</td>\n      <td>0.0</td>\n      <td>0.0</td>\n      <td>130</td>\n      <td>0.005305</td>\n    </tr>\n    <tr>\n      <th>3</th>\n      <td>1</td>\n      <td>4</td>\n      <td>0.999993</td>\n      <td>0.999525</td>\n      <td>1.0</td>\n      <td>0.000000</td>\n      <td>0.128269</td>\n      <td>0.298795</td>\n      <td>0.246979</td>\n      <td>0.000000</td>\n      <td>...</td>\n      <td>0.014060</td>\n      <td>0.026144</td>\n      <td>0.0</td>\n      <td>0.0</td>\n      <td>0.0</td>\n      <td>0.0</td>\n      <td>0.0</td>\n      <td>1.0</td>\n      <td>130</td>\n      <td>0.007958</td>\n    </tr>\n    <tr>\n      <th>4</th>\n      <td>1</td>\n      <td>5</td>\n      <td>0.595137</td>\n      <td>0.736698</td>\n      <td>0.0</td>\n      <td>0.238089</td>\n      <td>0.014130</td>\n      <td>0.037871</td>\n      <td>0.058152</td>\n      <td>0.293184</td>\n      <td>...</td>\n      <td>0.135460</td>\n      <td>0.143240</td>\n      <td>1.0</td>\n      <td>0.0</td>\n      <td>0.0</td>\n      <td>0.0</td>\n      <td>0.0</td>\n      <td>0.0</td>\n      <td>130</td>\n      <td>0.010610</td>\n    </tr>\n    <tr>\n      <th>...</th>\n      <td>...</td>\n      <td>...</td>\n      <td>...</td>\n      <td>...</td>\n      <td>...</td>\n      <td>...</td>\n      <td>...</td>\n      <td>...</td>\n      <td>...</td>\n      <td>...</td>\n      <td>...</td>\n      <td>...</td>\n      <td>...</td>\n      <td>...</td>\n      <td>...</td>\n      <td>...</td>\n      <td>...</td>\n      <td>...</td>\n      <td>...</td>\n      <td>...</td>\n      <td>...</td>\n    </tr>\n    <tr>\n      <th>53754</th>\n      <td>260</td>\n      <td>312</td>\n      <td>0.476188</td>\n      <td>0.831354</td>\n      <td>1.0</td>\n      <td>0.626985</td>\n      <td>0.672172</td>\n      <td>0.682297</td>\n      <td>0.591489</td>\n      <td>0.507937</td>\n      <td>...</td>\n      <td>0.486283</td>\n      <td>0.483993</td>\n      <td>0.0</td>\n      <td>0.0</td>\n      <td>0.0</td>\n      <td>1.0</td>\n      <td>0.0</td>\n      <td>0.0</td>\n      <td>4</td>\n      <td>0.824934</td>\n    </tr>\n    <tr>\n      <th>53755</th>\n      <td>260</td>\n      <td>313</td>\n      <td>0.238102</td>\n      <td>0.298100</td>\n      <td>1.0</td>\n      <td>0.597937</td>\n      <td>0.644830</td>\n      <td>0.733008</td>\n      <td>0.722934</td>\n      <td>0.617180</td>\n      <td>...</td>\n      <td>0.614540</td>\n      <td>0.622022</td>\n      <td>0.0</td>\n      <td>0.0</td>\n      <td>0.0</td>\n      <td>0.0</td>\n      <td>1.0</td>\n      <td>0.0</td>\n      <td>3</td>\n      <td>0.827586</td>\n    </tr>\n    <tr>\n      <th>53756</th>\n      <td>260</td>\n      <td>314</td>\n      <td>0.595222</td>\n      <td>0.736342</td>\n      <td>0.0</td>\n      <td>0.238089</td>\n      <td>0.017892</td>\n      <td>0.088067</td>\n      <td>0.082198</td>\n      <td>0.293184</td>\n      <td>...</td>\n      <td>0.137517</td>\n      <td>0.144474</td>\n      <td>1.0</td>\n      <td>0.0</td>\n      <td>0.0</td>\n      <td>0.0</td>\n      <td>0.0</td>\n      <td>0.0</td>\n      <td>2</td>\n      <td>0.830239</td>\n    </tr>\n    <tr>\n      <th>53757</th>\n      <td>260</td>\n      <td>315</td>\n      <td>0.595203</td>\n      <td>0.738717</td>\n      <td>0.0</td>\n      <td>0.238089</td>\n      <td>0.021195</td>\n      <td>0.079155</td>\n      <td>0.102368</td>\n      <td>0.293184</td>\n      <td>...</td>\n      <td>0.132716</td>\n      <td>0.134383</td>\n      <td>1.0</td>\n      <td>0.0</td>\n      <td>0.0</td>\n      <td>0.0</td>\n      <td>0.0</td>\n      <td>0.0</td>\n      <td>1</td>\n      <td>0.832891</td>\n    </tr>\n    <tr>\n      <th>53758</th>\n      <td>260</td>\n      <td>316</td>\n      <td>0.833260</td>\n      <td>0.997625</td>\n      <td>1.0</td>\n      <td>0.060269</td>\n      <td>0.193687</td>\n      <td>0.354544</td>\n      <td>0.293049</td>\n      <td>0.146592</td>\n      <td>...</td>\n      <td>0.156722</td>\n      <td>0.161215</td>\n      <td>0.0</td>\n      <td>1.0</td>\n      <td>0.0</td>\n      <td>0.0</td>\n      <td>0.0</td>\n      <td>0.0</td>\n      <td>0</td>\n      <td>0.835544</td>\n    </tr>\n  </tbody>\n</table>\n<p>53759 rows × 34 columns</p>\n</div>"
     },
     "metadata": {},
     "execution_count": 135
    }
   ],
   "source": [
    "train_df"
   ]
  },
  {
   "cell_type": "code",
   "execution_count": 136,
   "metadata": {},
   "outputs": [
    {
     "output_type": "execute_result",
     "data": {
      "text/plain": "128"
     },
     "metadata": {},
     "execution_count": 136
    }
   ],
   "source": [
    "train_df.groupby('id').max()['cycle'].min()"
   ]
  },
  {
   "cell_type": "code",
   "execution_count": 137,
   "metadata": {},
   "outputs": [],
   "source": [
    "# function to reshape features into (samples, time steps, features) \n",
    "def gen_sequence(id_df, seq_length, seq_cols):\n",
    "    \"\"\" Only sequences that meet the window-length are considered, no padding is used. This means for testing\n",
    "    we need to drop those which are below the window-length. An alternative would be to pad sequences so that\n",
    "    we can use shorter ones \"\"\"\n",
    "    data_array = id_df[seq_cols].values\n",
    "    num_elements = data_array.shape[0]\n",
    "    for start, stop in zip(range(0, num_elements-seq_length), range(seq_length, num_elements)):\n",
    "        yield data_array[start:stop, :]\n",
    "    # For example id1 have 192 rows and sequence_length is equal to 50\n",
    "    # so zip iterate over two following list of numbers (0,112),(50,192)\n",
    "    # 0 50 -> from row 0 to row 50\n",
    "    # 1 51 -> from row 1 to row 51\n",
    "    # 2 52 -> from row 2 to row 52\n",
    "    # ...\n",
    "    # 111 191 -> from row 111 to 191"
   ]
  },
  {
   "cell_type": "code",
   "execution_count": 138,
   "metadata": {},
   "outputs": [],
   "source": [
    "# pick the feature columns \n",
    "sensor_cols = ['s' + str(i) for i in range(1,22)]\n",
    "sequence_cols = ['setting1', 'setting2', 'setting3','cycle_norm','mode1','mode2','mode3','mode4','mode5','mode6']\n",
    "# sequence_cols = ['setting1', 'setting2', 'setting3','cycle_norm']\n",
    "sequence_cols.extend(sensor_cols)"
   ]
  },
  {
   "cell_type": "code",
   "execution_count": 139,
   "metadata": {},
   "outputs": [],
   "source": [
    "sequence_length = 50"
   ]
  },
  {
   "cell_type": "code",
   "execution_count": 140,
   "metadata": {},
   "outputs": [
    {
     "output_type": "execute_result",
     "data": {
      "text/plain": "(40759, 50, 31)"
     },
     "metadata": {},
     "execution_count": 140
    }
   ],
   "source": [
    "# generator for the sequences\n",
    "seq_gen = (list(gen_sequence(train_df[train_df['id']==id], sequence_length, sequence_cols)) \n",
    "           for id in train_df['id'].unique())\n",
    "\n",
    "# generate sequences and convert to numpy array\n",
    "seq_array = np.concatenate(list(seq_gen)).astype(np.float32)\n",
    "seq_array.shape"
   ]
  },
  {
   "cell_type": "code",
   "execution_count": 141,
   "metadata": {},
   "outputs": [],
   "source": [
    "# function to generate labels\n",
    "def gen_labels(id_df, seq_length, label):\n",
    "    data_array = id_df[label].values\n",
    "    num_elements = data_array.shape[0]\n",
    "    return data_array[seq_length:num_elements, :]"
   ]
  },
  {
   "cell_type": "code",
   "execution_count": 142,
   "metadata": {},
   "outputs": [
    {
     "output_type": "stream",
     "name": "stdout",
     "text": "[[98.]\n [97.]\n [96.]\n ...\n [ 2.]\n [ 1.]\n [ 0.]]\n"
    }
   ],
   "source": [
    "# generate labels\n",
    "label_gen = [gen_labels(train_df[train_df['id']==id], sequence_length, ['RUL']) \n",
    "             for id in train_df['id'].unique()]\n",
    "label_array = np.concatenate(label_gen).astype(np.float32)\n",
    "print(label_array)"
   ]
  },
  {
   "cell_type": "markdown",
   "metadata": {},
   "source": [
    "### Build model with mask"
   ]
  },
  {
   "cell_type": "code",
   "execution_count": 143,
   "metadata": {},
   "outputs": [],
   "source": [
    "import keras.backend as K\n",
    "import tensorflow as tf "
   ]
  },
  {
   "cell_type": "code",
   "execution_count": 144,
   "metadata": {},
   "outputs": [],
   "source": [
    "# multi CPU\n",
    "num_cores = 8\n",
    "config = tf.compat.v1.ConfigProto(intra_op_parallelism_threads=num_cores, inter_op_parallelism_threads=num_cores,\n",
    "                        allow_soft_placement=True, device_count={'CPU': 8})\n",
    "session = tf.compat.v1.Session(config=config)\n",
    "tf.compat.v1.keras.backend.set_session(session)"
   ]
  },
  {
   "cell_type": "code",
   "execution_count": 145,
   "metadata": {},
   "outputs": [],
   "source": [
    "def r2_keras(y_true, y_pred):\n",
    "    \"\"\"Coefficient of Determination \n",
    "    \"\"\"\n",
    "    SS_res =  K.sum(K.square( y_true - y_pred ))\n",
    "    SS_tot = K.sum(K.square( y_true - K.mean(y_true) ) )\n",
    "    return ( 1 - SS_res/(SS_tot + K.epsilon()) )"
   ]
  },
  {
   "cell_type": "code",
   "execution_count": 146,
   "metadata": {},
   "outputs": [
    {
     "output_type": "stream",
     "name": "stdout",
     "text": "_________________________________________________________________\nLayer (type)                 Output Shape              Param #   \n=================================================================\nmasking_3 (Masking)          (None, 50, 31)            0         \n_________________________________________________________________\nlstm_5 (LSTM)                (None, 50, 80)            35840     \n_________________________________________________________________\ndropout_5 (Dropout)          (None, 50, 80)            0         \n_________________________________________________________________\nlstm_6 (LSTM)                (None, 40)                19360     \n_________________________________________________________________\ndropout_6 (Dropout)          (None, 40)                0         \n_________________________________________________________________\ndense_3 (Dense)              (None, 1)                 41        \n_________________________________________________________________\nactivation_3 (Activation)    (None, 1)                 0         \n=================================================================\nTotal params: 55,241\nTrainable params: 55,241\nNon-trainable params: 0\n_________________________________________________________________\nNone\n"
    }
   ],
   "source": [
    "# Build model with mask\n",
    "nb_features = seq_array.shape[2]\n",
    "nb_out = label_array.shape[1]\n",
    "\n",
    "model = Sequential()\n",
    "\n",
    "model.add(Masking(mask_value=0., input_shape=(sequence_length, nb_features)))\n",
    "\n",
    "model.add(LSTM(\n",
    "         units=80,\n",
    "         return_sequences=True))\n",
    "model.add(Dropout(0.2))\n",
    "model.add(LSTM(\n",
    "          units=40,\n",
    "          return_sequences=False))\n",
    "model.add(Dropout(0.2))\n",
    "model.add(Dense(units=nb_out))\n",
    "model.add(Activation(\"linear\"))\n",
    "model.compile(loss='mean_squared_error', optimizer='rmsprop',metrics=['mae',r2_keras])\n",
    "# model.compile(loss=scoring_error, optimizer='rmsprop',metrics=['mae',r2_keras])\n",
    "\n",
    "print(model.summary())"
   ]
  },
  {
   "cell_type": "code",
   "execution_count": 167,
   "metadata": {},
   "outputs": [
    {
     "output_type": "stream",
     "name": "stdout",
     "text": "Train on 38721 samples, validate on 2038 samples\nEpoch 1/100\n - 69s - loss: 204.5545 - mean_absolute_error: 10.8753 - r2_keras: 0.8868 - val_loss: 754.2018 - val_mean_absolute_error: 21.1279 - val_r2_keras: 0.5389\nEpoch 2/100\n - 69s - loss: 192.2541 - mean_absolute_error: 10.5617 - r2_keras: 0.8931 - val_loss: 734.1610 - val_mean_absolute_error: 21.4674 - val_r2_keras: 0.5555\nEpoch 3/100\n - 71s - loss: 186.9014 - mean_absolute_error: 10.4040 - r2_keras: 0.8964 - val_loss: 776.7267 - val_mean_absolute_error: 20.8966 - val_r2_keras: 0.5357\nEpoch 4/100\n - 70s - loss: 179.6421 - mean_absolute_error: 10.1964 - r2_keras: 0.9005 - val_loss: 873.8059 - val_mean_absolute_error: 22.7081 - val_r2_keras: 0.4583\nEpoch 5/100\n - 69s - loss: 172.8335 - mean_absolute_error: 10.0208 - r2_keras: 0.9043 - val_loss: 616.1372 - val_mean_absolute_error: 19.9080 - val_r2_keras: 0.6298\nEpoch 6/100\n - 72s - loss: 162.2129 - mean_absolute_error: 9.6794 - r2_keras: 0.9101 - val_loss: 681.0962 - val_mean_absolute_error: 20.0039 - val_r2_keras: 0.5932\nEpoch 7/100\n - 68s - loss: 160.9154 - mean_absolute_error: 9.6626 - r2_keras: 0.9109 - val_loss: 808.2177 - val_mean_absolute_error: 22.9165 - val_r2_keras: 0.4895\nEpoch 8/100\n - 70s - loss: 153.7399 - mean_absolute_error: 9.4797 - r2_keras: 0.9146 - val_loss: 775.4024 - val_mean_absolute_error: 21.8748 - val_r2_keras: 0.5216\nEpoch 9/100\n - 71s - loss: 153.3234 - mean_absolute_error: 9.4037 - r2_keras: 0.9152 - val_loss: 598.3303 - val_mean_absolute_error: 19.5775 - val_r2_keras: 0.6146\nEpoch 10/100\n - 69s - loss: 145.5214 - mean_absolute_error: 9.2287 - r2_keras: 0.9196 - val_loss: 771.8762 - val_mean_absolute_error: 21.2721 - val_r2_keras: 0.5346\nEpoch 11/100\n - 72s - loss: 135.8543 - mean_absolute_error: 8.9161 - r2_keras: 0.9247 - val_loss: 792.6123 - val_mean_absolute_error: 21.5537 - val_r2_keras: 0.5225\nEpoch 12/100\n - 68s - loss: 136.0054 - mean_absolute_error: 8.9243 - r2_keras: 0.9248 - val_loss: 774.4166 - val_mean_absolute_error: 21.5935 - val_r2_keras: 0.5309\nEpoch 13/100\n - 66s - loss: 131.8368 - mean_absolute_error: 8.7853 - r2_keras: 0.9271 - val_loss: 1027.3385 - val_mean_absolute_error: 24.3438 - val_r2_keras: 0.3773\nEpoch 14/100\n - 67s - loss: 126.4894 - mean_absolute_error: 8.6341 - r2_keras: 0.9300 - val_loss: 707.8265 - val_mean_absolute_error: 20.5035 - val_r2_keras: 0.5746\nEpoch 15/100\n - 66s - loss: 127.8238 - mean_absolute_error: 8.6130 - r2_keras: 0.9292 - val_loss: 811.3477 - val_mean_absolute_error: 21.9601 - val_r2_keras: 0.5108\nEpoch 16/100\n - 66s - loss: 121.4003 - mean_absolute_error: 8.4496 - r2_keras: 0.9326 - val_loss: 747.1036 - val_mean_absolute_error: 21.6726 - val_r2_keras: 0.5310\nEpoch 17/100\n - 66s - loss: 117.8006 - mean_absolute_error: 8.2681 - r2_keras: 0.9347 - val_loss: 707.6908 - val_mean_absolute_error: 19.9332 - val_r2_keras: 0.5676\nEpoch 18/100\n - 67s - loss: 118.8580 - mean_absolute_error: 8.3326 - r2_keras: 0.9341 - val_loss: 779.4053 - val_mean_absolute_error: 21.2451 - val_r2_keras: 0.5240\nEpoch 19/100\n - 66s - loss: 115.9160 - mean_absolute_error: 8.1813 - r2_keras: 0.9358 - val_loss: 846.7108 - val_mean_absolute_error: 22.6610 - val_r2_keras: 0.4853\nEpoch 20/100\n - 67s - loss: 111.9682 - mean_absolute_error: 8.1026 - r2_keras: 0.9379 - val_loss: 811.1754 - val_mean_absolute_error: 22.0212 - val_r2_keras: 0.5126\nEpoch 21/100\n - 66s - loss: 108.5644 - mean_absolute_error: 7.9722 - r2_keras: 0.9398 - val_loss: 960.2008 - val_mean_absolute_error: 24.4808 - val_r2_keras: 0.4169\nEpoch 22/100\n - 68s - loss: 106.5181 - mean_absolute_error: 7.8997 - r2_keras: 0.9410 - val_loss: 909.6333 - val_mean_absolute_error: 23.2049 - val_r2_keras: 0.4473\ndict_keys(['val_loss', 'val_mean_absolute_error', 'val_r2_keras', 'loss', 'mean_absolute_error', 'r2_keras'])\n"
    }
   ],
   "source": [
    "# fit the network\n",
    "model_path='re_use_mask.h5'\n",
    "history = model.fit(seq_array, label_array, epochs=100, batch_size=250, validation_split=0.05, verbose=2,\n",
    "          callbacks = [keras.callbacks.EarlyStopping(monitor='val_loss', min_delta=0, patience=13, verbose=0, mode='min'),\n",
    "                       keras.callbacks.ModelCheckpoint('re_use_mask2.h5',monitor='val_loss', save_best_only=True, mode='min', verbose=0)]\n",
    "          )\n",
    "\n",
    "# list all data in history\n",
    "print(history.history.keys())"
   ]
  },
  {
   "cell_type": "code",
   "execution_count": 168,
   "metadata": {},
   "outputs": [
    {
     "output_type": "stream",
     "name": "stdout",
     "text": "40759/40759 [==============================] - 28s 695us/step\nLoss: 90.4649625487269\n"
    }
   ],
   "source": [
    "# training metrics\n",
    "scores = model.evaluate(seq_array, label_array, verbose=1, batch_size=200)\n",
    "print('Loss: {}'.format(scores[0]))"
   ]
  },
  {
   "cell_type": "code",
   "execution_count": 169,
   "metadata": {},
   "outputs": [],
   "source": [
    "from matplotlib import pyplot"
   ]
  },
  {
   "cell_type": "code",
   "execution_count": 170,
   "metadata": {},
   "outputs": [
    {
     "output_type": "display_data",
     "data": {
      "text/plain": "<Figure size 432x288 with 1 Axes>",
      "image/svg+xml": "<?xml version=\"1.0\" encoding=\"utf-8\" standalone=\"no\"?>\n<!DOCTYPE svg PUBLIC \"-//W3C//DTD SVG 1.1//EN\"\n  \"http://www.w3.org/Graphics/SVG/1.1/DTD/svg11.dtd\">\n<!-- Created with matplotlib (https://matplotlib.org/) -->\n<svg height=\"277.314375pt\" version=\"1.1\" viewBox=\"0 0 395.328125 277.314375\" width=\"395.328125pt\" xmlns=\"http://www.w3.org/2000/svg\" xmlns:xlink=\"http://www.w3.org/1999/xlink\">\n <defs>\n  <style type=\"text/css\">\n*{stroke-linecap:butt;stroke-linejoin:round;}\n  </style>\n </defs>\n <g id=\"figure_1\">\n  <g id=\"patch_1\">\n   <path d=\"M 0 277.314375 \nL 395.328125 277.314375 \nL 395.328125 0 \nL 0 0 \nz\n\" style=\"fill:none;\"/>\n  </g>\n  <g id=\"axes_1\">\n   <g id=\"patch_2\">\n    <path d=\"M 53.328125 239.758125 \nL 388.128125 239.758125 \nL 388.128125 22.318125 \nL 53.328125 22.318125 \nz\n\" style=\"fill:#ffffff;\"/>\n   </g>\n   <g id=\"matplotlib.axis_1\">\n    <g id=\"xtick_1\">\n     <g id=\"line2d_1\">\n      <defs>\n       <path d=\"M 0 0 \nL 0 3.5 \n\" id=\"m5f7d545739\" style=\"stroke:#000000;stroke-width:0.8;\"/>\n      </defs>\n      <g>\n       <use style=\"stroke:#000000;stroke-width:0.8;\" x=\"68.546307\" xlink:href=\"#m5f7d545739\" y=\"239.758125\"/>\n      </g>\n     </g>\n     <g id=\"text_1\">\n      <!-- 0 -->\n      <defs>\n       <path d=\"M 31.78125 66.40625 \nQ 24.171875 66.40625 20.328125 58.90625 \nQ 16.5 51.421875 16.5 36.375 \nQ 16.5 21.390625 20.328125 13.890625 \nQ 24.171875 6.390625 31.78125 6.390625 \nQ 39.453125 6.390625 43.28125 13.890625 \nQ 47.125 21.390625 47.125 36.375 \nQ 47.125 51.421875 43.28125 58.90625 \nQ 39.453125 66.40625 31.78125 66.40625 \nz\nM 31.78125 74.21875 \nQ 44.046875 74.21875 50.515625 64.515625 \nQ 56.984375 54.828125 56.984375 36.375 \nQ 56.984375 17.96875 50.515625 8.265625 \nQ 44.046875 -1.421875 31.78125 -1.421875 \nQ 19.53125 -1.421875 13.0625 8.265625 \nQ 6.59375 17.96875 6.59375 36.375 \nQ 6.59375 54.828125 13.0625 64.515625 \nQ 19.53125 74.21875 31.78125 74.21875 \nz\n\" id=\"DejaVuSans-48\"/>\n      </defs>\n      <g transform=\"translate(65.365057 254.356562)scale(0.1 -0.1)\">\n       <use xlink:href=\"#DejaVuSans-48\"/>\n      </g>\n     </g>\n    </g>\n    <g id=\"xtick_2\">\n     <g id=\"line2d_2\">\n      <g>\n       <use style=\"stroke:#000000;stroke-width:0.8;\" x=\"141.013839\" xlink:href=\"#m5f7d545739\" y=\"239.758125\"/>\n      </g>\n     </g>\n     <g id=\"text_2\">\n      <!-- 5 -->\n      <defs>\n       <path d=\"M 10.796875 72.90625 \nL 49.515625 72.90625 \nL 49.515625 64.59375 \nL 19.828125 64.59375 \nL 19.828125 46.734375 \nQ 21.96875 47.46875 24.109375 47.828125 \nQ 26.265625 48.1875 28.421875 48.1875 \nQ 40.625 48.1875 47.75 41.5 \nQ 54.890625 34.8125 54.890625 23.390625 \nQ 54.890625 11.625 47.5625 5.09375 \nQ 40.234375 -1.421875 26.90625 -1.421875 \nQ 22.3125 -1.421875 17.546875 -0.640625 \nQ 12.796875 0.140625 7.71875 1.703125 \nL 7.71875 11.625 \nQ 12.109375 9.234375 16.796875 8.0625 \nQ 21.484375 6.890625 26.703125 6.890625 \nQ 35.15625 6.890625 40.078125 11.328125 \nQ 45.015625 15.765625 45.015625 23.390625 \nQ 45.015625 31 40.078125 35.4375 \nQ 35.15625 39.890625 26.703125 39.890625 \nQ 22.75 39.890625 18.8125 39.015625 \nQ 14.890625 38.140625 10.796875 36.28125 \nz\n\" id=\"DejaVuSans-53\"/>\n      </defs>\n      <g transform=\"translate(137.832589 254.356562)scale(0.1 -0.1)\">\n       <use xlink:href=\"#DejaVuSans-53\"/>\n      </g>\n     </g>\n    </g>\n    <g id=\"xtick_3\">\n     <g id=\"line2d_3\">\n      <g>\n       <use style=\"stroke:#000000;stroke-width:0.8;\" x=\"213.481372\" xlink:href=\"#m5f7d545739\" y=\"239.758125\"/>\n      </g>\n     </g>\n     <g id=\"text_3\">\n      <!-- 10 -->\n      <defs>\n       <path d=\"M 12.40625 8.296875 \nL 28.515625 8.296875 \nL 28.515625 63.921875 \nL 10.984375 60.40625 \nL 10.984375 69.390625 \nL 28.421875 72.90625 \nL 38.28125 72.90625 \nL 38.28125 8.296875 \nL 54.390625 8.296875 \nL 54.390625 0 \nL 12.40625 0 \nz\n\" id=\"DejaVuSans-49\"/>\n      </defs>\n      <g transform=\"translate(207.118872 254.356562)scale(0.1 -0.1)\">\n       <use xlink:href=\"#DejaVuSans-49\"/>\n       <use x=\"63.623047\" xlink:href=\"#DejaVuSans-48\"/>\n      </g>\n     </g>\n    </g>\n    <g id=\"xtick_4\">\n     <g id=\"line2d_4\">\n      <g>\n       <use style=\"stroke:#000000;stroke-width:0.8;\" x=\"285.948904\" xlink:href=\"#m5f7d545739\" y=\"239.758125\"/>\n      </g>\n     </g>\n     <g id=\"text_4\">\n      <!-- 15 -->\n      <g transform=\"translate(279.586404 254.356562)scale(0.1 -0.1)\">\n       <use xlink:href=\"#DejaVuSans-49\"/>\n       <use x=\"63.623047\" xlink:href=\"#DejaVuSans-53\"/>\n      </g>\n     </g>\n    </g>\n    <g id=\"xtick_5\">\n     <g id=\"line2d_5\">\n      <g>\n       <use style=\"stroke:#000000;stroke-width:0.8;\" x=\"358.416437\" xlink:href=\"#m5f7d545739\" y=\"239.758125\"/>\n      </g>\n     </g>\n     <g id=\"text_5\">\n      <!-- 20 -->\n      <defs>\n       <path d=\"M 19.1875 8.296875 \nL 53.609375 8.296875 \nL 53.609375 0 \nL 7.328125 0 \nL 7.328125 8.296875 \nQ 12.9375 14.109375 22.625 23.890625 \nQ 32.328125 33.6875 34.8125 36.53125 \nQ 39.546875 41.84375 41.421875 45.53125 \nQ 43.3125 49.21875 43.3125 52.78125 \nQ 43.3125 58.59375 39.234375 62.25 \nQ 35.15625 65.921875 28.609375 65.921875 \nQ 23.96875 65.921875 18.8125 64.3125 \nQ 13.671875 62.703125 7.8125 59.421875 \nL 7.8125 69.390625 \nQ 13.765625 71.78125 18.9375 73 \nQ 24.125 74.21875 28.421875 74.21875 \nQ 39.75 74.21875 46.484375 68.546875 \nQ 53.21875 62.890625 53.21875 53.421875 \nQ 53.21875 48.921875 51.53125 44.890625 \nQ 49.859375 40.875 45.40625 35.40625 \nQ 44.1875 33.984375 37.640625 27.21875 \nQ 31.109375 20.453125 19.1875 8.296875 \nz\n\" id=\"DejaVuSans-50\"/>\n      </defs>\n      <g transform=\"translate(352.053937 254.356562)scale(0.1 -0.1)\">\n       <use xlink:href=\"#DejaVuSans-50\"/>\n       <use x=\"63.623047\" xlink:href=\"#DejaVuSans-48\"/>\n      </g>\n     </g>\n    </g>\n    <g id=\"text_6\">\n     <!-- epoch -->\n     <defs>\n      <path d=\"M 56.203125 29.59375 \nL 56.203125 25.203125 \nL 14.890625 25.203125 \nQ 15.484375 15.921875 20.484375 11.0625 \nQ 25.484375 6.203125 34.421875 6.203125 \nQ 39.59375 6.203125 44.453125 7.46875 \nQ 49.3125 8.734375 54.109375 11.28125 \nL 54.109375 2.78125 \nQ 49.265625 0.734375 44.1875 -0.34375 \nQ 39.109375 -1.421875 33.890625 -1.421875 \nQ 20.796875 -1.421875 13.15625 6.1875 \nQ 5.515625 13.8125 5.515625 26.8125 \nQ 5.515625 40.234375 12.765625 48.109375 \nQ 20.015625 56 32.328125 56 \nQ 43.359375 56 49.78125 48.890625 \nQ 56.203125 41.796875 56.203125 29.59375 \nz\nM 47.21875 32.234375 \nQ 47.125 39.59375 43.09375 43.984375 \nQ 39.0625 48.390625 32.421875 48.390625 \nQ 24.90625 48.390625 20.390625 44.140625 \nQ 15.875 39.890625 15.1875 32.171875 \nz\n\" id=\"DejaVuSans-101\"/>\n      <path d=\"M 18.109375 8.203125 \nL 18.109375 -20.796875 \nL 9.078125 -20.796875 \nL 9.078125 54.6875 \nL 18.109375 54.6875 \nL 18.109375 46.390625 \nQ 20.953125 51.265625 25.265625 53.625 \nQ 29.59375 56 35.59375 56 \nQ 45.5625 56 51.78125 48.09375 \nQ 58.015625 40.1875 58.015625 27.296875 \nQ 58.015625 14.40625 51.78125 6.484375 \nQ 45.5625 -1.421875 35.59375 -1.421875 \nQ 29.59375 -1.421875 25.265625 0.953125 \nQ 20.953125 3.328125 18.109375 8.203125 \nz\nM 48.6875 27.296875 \nQ 48.6875 37.203125 44.609375 42.84375 \nQ 40.53125 48.484375 33.40625 48.484375 \nQ 26.265625 48.484375 22.1875 42.84375 \nQ 18.109375 37.203125 18.109375 27.296875 \nQ 18.109375 17.390625 22.1875 11.75 \nQ 26.265625 6.109375 33.40625 6.109375 \nQ 40.53125 6.109375 44.609375 11.75 \nQ 48.6875 17.390625 48.6875 27.296875 \nz\n\" id=\"DejaVuSans-112\"/>\n      <path d=\"M 30.609375 48.390625 \nQ 23.390625 48.390625 19.1875 42.75 \nQ 14.984375 37.109375 14.984375 27.296875 \nQ 14.984375 17.484375 19.15625 11.84375 \nQ 23.34375 6.203125 30.609375 6.203125 \nQ 37.796875 6.203125 41.984375 11.859375 \nQ 46.1875 17.53125 46.1875 27.296875 \nQ 46.1875 37.015625 41.984375 42.703125 \nQ 37.796875 48.390625 30.609375 48.390625 \nz\nM 30.609375 56 \nQ 42.328125 56 49.015625 48.375 \nQ 55.71875 40.765625 55.71875 27.296875 \nQ 55.71875 13.875 49.015625 6.21875 \nQ 42.328125 -1.421875 30.609375 -1.421875 \nQ 18.84375 -1.421875 12.171875 6.21875 \nQ 5.515625 13.875 5.515625 27.296875 \nQ 5.515625 40.765625 12.171875 48.375 \nQ 18.84375 56 30.609375 56 \nz\n\" id=\"DejaVuSans-111\"/>\n      <path d=\"M 48.78125 52.59375 \nL 48.78125 44.1875 \nQ 44.96875 46.296875 41.140625 47.34375 \nQ 37.3125 48.390625 33.40625 48.390625 \nQ 24.65625 48.390625 19.8125 42.84375 \nQ 14.984375 37.3125 14.984375 27.296875 \nQ 14.984375 17.28125 19.8125 11.734375 \nQ 24.65625 6.203125 33.40625 6.203125 \nQ 37.3125 6.203125 41.140625 7.25 \nQ 44.96875 8.296875 48.78125 10.40625 \nL 48.78125 2.09375 \nQ 45.015625 0.34375 40.984375 -0.53125 \nQ 36.96875 -1.421875 32.421875 -1.421875 \nQ 20.0625 -1.421875 12.78125 6.34375 \nQ 5.515625 14.109375 5.515625 27.296875 \nQ 5.515625 40.671875 12.859375 48.328125 \nQ 20.21875 56 33.015625 56 \nQ 37.15625 56 41.109375 55.140625 \nQ 45.0625 54.296875 48.78125 52.59375 \nz\n\" id=\"DejaVuSans-99\"/>\n      <path d=\"M 54.890625 33.015625 \nL 54.890625 0 \nL 45.90625 0 \nL 45.90625 32.71875 \nQ 45.90625 40.484375 42.875 44.328125 \nQ 39.84375 48.1875 33.796875 48.1875 \nQ 26.515625 48.1875 22.3125 43.546875 \nQ 18.109375 38.921875 18.109375 30.90625 \nL 18.109375 0 \nL 9.078125 0 \nL 9.078125 75.984375 \nL 18.109375 75.984375 \nL 18.109375 46.1875 \nQ 21.34375 51.125 25.703125 53.5625 \nQ 30.078125 56 35.796875 56 \nQ 45.21875 56 50.046875 50.171875 \nQ 54.890625 44.34375 54.890625 33.015625 \nz\n\" id=\"DejaVuSans-104\"/>\n     </defs>\n     <g transform=\"translate(205.5 268.034687)scale(0.1 -0.1)\">\n      <use xlink:href=\"#DejaVuSans-101\"/>\n      <use x=\"61.523438\" xlink:href=\"#DejaVuSans-112\"/>\n      <use x=\"125\" xlink:href=\"#DejaVuSans-111\"/>\n      <use x=\"186.181641\" xlink:href=\"#DejaVuSans-99\"/>\n      <use x=\"241.162109\" xlink:href=\"#DejaVuSans-104\"/>\n     </g>\n    </g>\n   </g>\n   <g id=\"matplotlib.axis_2\">\n    <g id=\"ytick_1\">\n     <g id=\"line2d_6\">\n      <defs>\n       <path d=\"M 0 0 \nL -3.5 0 \n\" id=\"mcfc57c1114\" style=\"stroke:#000000;stroke-width:0.8;\"/>\n      </defs>\n      <g>\n       <use style=\"stroke:#000000;stroke-width:0.8;\" x=\"53.328125\" xlink:href=\"#mcfc57c1114\" y=\"209.806712\"/>\n      </g>\n     </g>\n     <g id=\"text_7\">\n      <!-- 200 -->\n      <g transform=\"translate(27.240625 213.605931)scale(0.1 -0.1)\">\n       <use xlink:href=\"#DejaVuSans-50\"/>\n       <use x=\"63.623047\" xlink:href=\"#DejaVuSans-48\"/>\n       <use x=\"127.246094\" xlink:href=\"#DejaVuSans-48\"/>\n      </g>\n     </g>\n    </g>\n    <g id=\"ytick_2\">\n     <g id=\"line2d_7\">\n      <g>\n       <use style=\"stroke:#000000;stroke-width:0.8;\" x=\"53.328125\" xlink:href=\"#mcfc57c1114\" y=\"166.872662\"/>\n      </g>\n     </g>\n     <g id=\"text_8\">\n      <!-- 400 -->\n      <defs>\n       <path d=\"M 37.796875 64.3125 \nL 12.890625 25.390625 \nL 37.796875 25.390625 \nz\nM 35.203125 72.90625 \nL 47.609375 72.90625 \nL 47.609375 25.390625 \nL 58.015625 25.390625 \nL 58.015625 17.1875 \nL 47.609375 17.1875 \nL 47.609375 0 \nL 37.796875 0 \nL 37.796875 17.1875 \nL 4.890625 17.1875 \nL 4.890625 26.703125 \nz\n\" id=\"DejaVuSans-52\"/>\n      </defs>\n      <g transform=\"translate(27.240625 170.671881)scale(0.1 -0.1)\">\n       <use xlink:href=\"#DejaVuSans-52\"/>\n       <use x=\"63.623047\" xlink:href=\"#DejaVuSans-48\"/>\n       <use x=\"127.246094\" xlink:href=\"#DejaVuSans-48\"/>\n      </g>\n     </g>\n    </g>\n    <g id=\"ytick_3\">\n     <g id=\"line2d_8\">\n      <g>\n       <use style=\"stroke:#000000;stroke-width:0.8;\" x=\"53.328125\" xlink:href=\"#mcfc57c1114\" y=\"123.938613\"/>\n      </g>\n     </g>\n     <g id=\"text_9\">\n      <!-- 600 -->\n      <defs>\n       <path d=\"M 33.015625 40.375 \nQ 26.375 40.375 22.484375 35.828125 \nQ 18.609375 31.296875 18.609375 23.390625 \nQ 18.609375 15.53125 22.484375 10.953125 \nQ 26.375 6.390625 33.015625 6.390625 \nQ 39.65625 6.390625 43.53125 10.953125 \nQ 47.40625 15.53125 47.40625 23.390625 \nQ 47.40625 31.296875 43.53125 35.828125 \nQ 39.65625 40.375 33.015625 40.375 \nz\nM 52.59375 71.296875 \nL 52.59375 62.3125 \nQ 48.875 64.0625 45.09375 64.984375 \nQ 41.3125 65.921875 37.59375 65.921875 \nQ 27.828125 65.921875 22.671875 59.328125 \nQ 17.53125 52.734375 16.796875 39.40625 \nQ 19.671875 43.65625 24.015625 45.921875 \nQ 28.375 48.1875 33.59375 48.1875 \nQ 44.578125 48.1875 50.953125 41.515625 \nQ 57.328125 34.859375 57.328125 23.390625 \nQ 57.328125 12.15625 50.6875 5.359375 \nQ 44.046875 -1.421875 33.015625 -1.421875 \nQ 20.359375 -1.421875 13.671875 8.265625 \nQ 6.984375 17.96875 6.984375 36.375 \nQ 6.984375 53.65625 15.1875 63.9375 \nQ 23.390625 74.21875 37.203125 74.21875 \nQ 40.921875 74.21875 44.703125 73.484375 \nQ 48.484375 72.75 52.59375 71.296875 \nz\n\" id=\"DejaVuSans-54\"/>\n      </defs>\n      <g transform=\"translate(27.240625 127.737832)scale(0.1 -0.1)\">\n       <use xlink:href=\"#DejaVuSans-54\"/>\n       <use x=\"63.623047\" xlink:href=\"#DejaVuSans-48\"/>\n       <use x=\"127.246094\" xlink:href=\"#DejaVuSans-48\"/>\n      </g>\n     </g>\n    </g>\n    <g id=\"ytick_4\">\n     <g id=\"line2d_9\">\n      <g>\n       <use style=\"stroke:#000000;stroke-width:0.8;\" x=\"53.328125\" xlink:href=\"#mcfc57c1114\" y=\"81.004563\"/>\n      </g>\n     </g>\n     <g id=\"text_10\">\n      <!-- 800 -->\n      <defs>\n       <path d=\"M 31.78125 34.625 \nQ 24.75 34.625 20.71875 30.859375 \nQ 16.703125 27.09375 16.703125 20.515625 \nQ 16.703125 13.921875 20.71875 10.15625 \nQ 24.75 6.390625 31.78125 6.390625 \nQ 38.8125 6.390625 42.859375 10.171875 \nQ 46.921875 13.96875 46.921875 20.515625 \nQ 46.921875 27.09375 42.890625 30.859375 \nQ 38.875 34.625 31.78125 34.625 \nz\nM 21.921875 38.8125 \nQ 15.578125 40.375 12.03125 44.71875 \nQ 8.5 49.078125 8.5 55.328125 \nQ 8.5 64.0625 14.71875 69.140625 \nQ 20.953125 74.21875 31.78125 74.21875 \nQ 42.671875 74.21875 48.875 69.140625 \nQ 55.078125 64.0625 55.078125 55.328125 \nQ 55.078125 49.078125 51.53125 44.71875 \nQ 48 40.375 41.703125 38.8125 \nQ 48.828125 37.15625 52.796875 32.3125 \nQ 56.78125 27.484375 56.78125 20.515625 \nQ 56.78125 9.90625 50.3125 4.234375 \nQ 43.84375 -1.421875 31.78125 -1.421875 \nQ 19.734375 -1.421875 13.25 4.234375 \nQ 6.78125 9.90625 6.78125 20.515625 \nQ 6.78125 27.484375 10.78125 32.3125 \nQ 14.796875 37.15625 21.921875 38.8125 \nz\nM 18.3125 54.390625 \nQ 18.3125 48.734375 21.84375 45.5625 \nQ 25.390625 42.390625 31.78125 42.390625 \nQ 38.140625 42.390625 41.71875 45.5625 \nQ 45.3125 48.734375 45.3125 54.390625 \nQ 45.3125 60.0625 41.71875 63.234375 \nQ 38.140625 66.40625 31.78125 66.40625 \nQ 25.390625 66.40625 21.84375 63.234375 \nQ 18.3125 60.0625 18.3125 54.390625 \nz\n\" id=\"DejaVuSans-56\"/>\n      </defs>\n      <g transform=\"translate(27.240625 84.803782)scale(0.1 -0.1)\">\n       <use xlink:href=\"#DejaVuSans-56\"/>\n       <use x=\"63.623047\" xlink:href=\"#DejaVuSans-48\"/>\n       <use x=\"127.246094\" xlink:href=\"#DejaVuSans-48\"/>\n      </g>\n     </g>\n    </g>\n    <g id=\"ytick_5\">\n     <g id=\"line2d_10\">\n      <g>\n       <use style=\"stroke:#000000;stroke-width:0.8;\" x=\"53.328125\" xlink:href=\"#mcfc57c1114\" y=\"38.070514\"/>\n      </g>\n     </g>\n     <g id=\"text_11\">\n      <!-- 1000 -->\n      <g transform=\"translate(20.878125 41.869733)scale(0.1 -0.1)\">\n       <use xlink:href=\"#DejaVuSans-49\"/>\n       <use x=\"63.623047\" xlink:href=\"#DejaVuSans-48\"/>\n       <use x=\"127.246094\" xlink:href=\"#DejaVuSans-48\"/>\n       <use x=\"190.869141\" xlink:href=\"#DejaVuSans-48\"/>\n      </g>\n     </g>\n    </g>\n    <g id=\"text_12\">\n     <!-- loss -->\n     <defs>\n      <path d=\"M 9.421875 75.984375 \nL 18.40625 75.984375 \nL 18.40625 0 \nL 9.421875 0 \nz\n\" id=\"DejaVuSans-108\"/>\n      <path d=\"M 44.28125 53.078125 \nL 44.28125 44.578125 \nQ 40.484375 46.53125 36.375 47.5 \nQ 32.28125 48.484375 27.875 48.484375 \nQ 21.1875 48.484375 17.84375 46.4375 \nQ 14.5 44.390625 14.5 40.28125 \nQ 14.5 37.15625 16.890625 35.375 \nQ 19.28125 33.59375 26.515625 31.984375 \nL 29.59375 31.296875 \nQ 39.15625 29.25 43.1875 25.515625 \nQ 47.21875 21.78125 47.21875 15.09375 \nQ 47.21875 7.46875 41.1875 3.015625 \nQ 35.15625 -1.421875 24.609375 -1.421875 \nQ 20.21875 -1.421875 15.453125 -0.5625 \nQ 10.6875 0.296875 5.421875 2 \nL 5.421875 11.28125 \nQ 10.40625 8.6875 15.234375 7.390625 \nQ 20.0625 6.109375 24.8125 6.109375 \nQ 31.15625 6.109375 34.5625 8.28125 \nQ 37.984375 10.453125 37.984375 14.40625 \nQ 37.984375 18.0625 35.515625 20.015625 \nQ 33.0625 21.96875 24.703125 23.78125 \nL 21.578125 24.515625 \nQ 13.234375 26.265625 9.515625 29.90625 \nQ 5.8125 33.546875 5.8125 39.890625 \nQ 5.8125 47.609375 11.28125 51.796875 \nQ 16.75 56 26.8125 56 \nQ 31.78125 56 36.171875 55.265625 \nQ 40.578125 54.546875 44.28125 53.078125 \nz\n\" id=\"DejaVuSans-115\"/>\n     </defs>\n     <g transform=\"translate(14.798438 140.695937)rotate(-90)scale(0.1 -0.1)\">\n      <use xlink:href=\"#DejaVuSans-108\"/>\n      <use x=\"27.783203\" xlink:href=\"#DejaVuSans-111\"/>\n      <use x=\"88.964844\" xlink:href=\"#DejaVuSans-115\"/>\n      <use x=\"141.064453\" xlink:href=\"#DejaVuSans-115\"/>\n     </g>\n    </g>\n   </g>\n   <g id=\"line2d_11\">\n    <path clip-path=\"url(#p1fa4d45355)\" d=\"M 68.546307 208.828988 \nL 83.039813 211.469534 \nL 97.53332 212.618591 \nL 112.026826 214.17694 \nL 126.520333 215.638541 \nL 141.013839 217.918485 \nL 155.507346 218.197019 \nL 170.000852 219.737387 \nL 184.494359 219.82679 \nL 198.987865 221.501647 \nL 213.481372 223.576888 \nL 227.974878 223.544438 \nL 242.468385 224.439314 \nL 256.961891 225.587258 \nL 271.455398 225.300786 \nL 285.948904 226.679729 \nL 300.442411 227.452486 \nL 314.935917 227.225479 \nL 329.429424 227.857037 \nL 343.92293 228.704525 \nL 358.416437 229.435205 \nL 372.909943 229.874489 \n\" style=\"fill:none;stroke:#0000ff;stroke-linecap:square;stroke-width:1.5;\"/>\n   </g>\n   <g id=\"line2d_12\">\n    <path clip-path=\"url(#p1fa4d45355)\" d=\"M 68.546307 90.836068 \nL 83.039813 95.138235 \nL 97.53332 86.000649 \nL 112.026826 65.160635 \nL 126.520333 120.474434 \nL 141.013839 106.529666 \nL 155.507346 79.240469 \nL 170.000852 86.284938 \nL 184.494359 124.297039 \nL 198.987865 87.041915 \nL 213.481372 82.590484 \nL 227.974878 86.49656 \nL 242.468385 32.201761 \nL 256.961891 100.791474 \nL 271.455398 78.568542 \nL 285.948904 92.359857 \nL 300.442411 100.820598 \nL 314.935917 85.425629 \nL 329.429424 70.977142 \nL 343.92293 78.605531 \nL 358.416437 46.614228 \nL 372.909943 57.469556 \n\" style=\"fill:none;stroke:#ffa500;stroke-linecap:square;stroke-width:1.5;\"/>\n   </g>\n   <g id=\"patch_3\">\n    <path d=\"M 53.328125 239.758125 \nL 53.328125 22.318125 \n\" style=\"fill:none;stroke:#000000;stroke-linecap:square;stroke-linejoin:miter;stroke-width:0.8;\"/>\n   </g>\n   <g id=\"patch_4\">\n    <path d=\"M 388.128125 239.758125 \nL 388.128125 22.318125 \n\" style=\"fill:none;stroke:#000000;stroke-linecap:square;stroke-linejoin:miter;stroke-width:0.8;\"/>\n   </g>\n   <g id=\"patch_5\">\n    <path d=\"M 53.328125 239.758125 \nL 388.128125 239.758125 \n\" style=\"fill:none;stroke:#000000;stroke-linecap:square;stroke-linejoin:miter;stroke-width:0.8;\"/>\n   </g>\n   <g id=\"patch_6\">\n    <path d=\"M 53.328125 22.318125 \nL 388.128125 22.318125 \n\" style=\"fill:none;stroke:#000000;stroke-linecap:square;stroke-linejoin:miter;stroke-width:0.8;\"/>\n   </g>\n   <g id=\"text_13\">\n    <!-- model train vs validation loss -->\n    <defs>\n     <path d=\"M 52 44.1875 \nQ 55.375 50.25 60.0625 53.125 \nQ 64.75 56 71.09375 56 \nQ 79.640625 56 84.28125 50.015625 \nQ 88.921875 44.046875 88.921875 33.015625 \nL 88.921875 0 \nL 79.890625 0 \nL 79.890625 32.71875 \nQ 79.890625 40.578125 77.09375 44.375 \nQ 74.3125 48.1875 68.609375 48.1875 \nQ 61.625 48.1875 57.5625 43.546875 \nQ 53.515625 38.921875 53.515625 30.90625 \nL 53.515625 0 \nL 44.484375 0 \nL 44.484375 32.71875 \nQ 44.484375 40.625 41.703125 44.40625 \nQ 38.921875 48.1875 33.109375 48.1875 \nQ 26.21875 48.1875 22.15625 43.53125 \nQ 18.109375 38.875 18.109375 30.90625 \nL 18.109375 0 \nL 9.078125 0 \nL 9.078125 54.6875 \nL 18.109375 54.6875 \nL 18.109375 46.1875 \nQ 21.1875 51.21875 25.484375 53.609375 \nQ 29.78125 56 35.6875 56 \nQ 41.65625 56 45.828125 52.96875 \nQ 50 49.953125 52 44.1875 \nz\n\" id=\"DejaVuSans-109\"/>\n     <path d=\"M 45.40625 46.390625 \nL 45.40625 75.984375 \nL 54.390625 75.984375 \nL 54.390625 0 \nL 45.40625 0 \nL 45.40625 8.203125 \nQ 42.578125 3.328125 38.25 0.953125 \nQ 33.9375 -1.421875 27.875 -1.421875 \nQ 17.96875 -1.421875 11.734375 6.484375 \nQ 5.515625 14.40625 5.515625 27.296875 \nQ 5.515625 40.1875 11.734375 48.09375 \nQ 17.96875 56 27.875 56 \nQ 33.9375 56 38.25 53.625 \nQ 42.578125 51.265625 45.40625 46.390625 \nz\nM 14.796875 27.296875 \nQ 14.796875 17.390625 18.875 11.75 \nQ 22.953125 6.109375 30.078125 6.109375 \nQ 37.203125 6.109375 41.296875 11.75 \nQ 45.40625 17.390625 45.40625 27.296875 \nQ 45.40625 37.203125 41.296875 42.84375 \nQ 37.203125 48.484375 30.078125 48.484375 \nQ 22.953125 48.484375 18.875 42.84375 \nQ 14.796875 37.203125 14.796875 27.296875 \nz\n\" id=\"DejaVuSans-100\"/>\n     <path id=\"DejaVuSans-32\"/>\n     <path d=\"M 18.3125 70.21875 \nL 18.3125 54.6875 \nL 36.8125 54.6875 \nL 36.8125 47.703125 \nL 18.3125 47.703125 \nL 18.3125 18.015625 \nQ 18.3125 11.328125 20.140625 9.421875 \nQ 21.96875 7.515625 27.59375 7.515625 \nL 36.8125 7.515625 \nL 36.8125 0 \nL 27.59375 0 \nQ 17.1875 0 13.234375 3.875 \nQ 9.28125 7.765625 9.28125 18.015625 \nL 9.28125 47.703125 \nL 2.6875 47.703125 \nL 2.6875 54.6875 \nL 9.28125 54.6875 \nL 9.28125 70.21875 \nz\n\" id=\"DejaVuSans-116\"/>\n     <path d=\"M 41.109375 46.296875 \nQ 39.59375 47.171875 37.8125 47.578125 \nQ 36.03125 48 33.890625 48 \nQ 26.265625 48 22.1875 43.046875 \nQ 18.109375 38.09375 18.109375 28.8125 \nL 18.109375 0 \nL 9.078125 0 \nL 9.078125 54.6875 \nL 18.109375 54.6875 \nL 18.109375 46.1875 \nQ 20.953125 51.171875 25.484375 53.578125 \nQ 30.03125 56 36.53125 56 \nQ 37.453125 56 38.578125 55.875 \nQ 39.703125 55.765625 41.0625 55.515625 \nz\n\" id=\"DejaVuSans-114\"/>\n     <path d=\"M 34.28125 27.484375 \nQ 23.390625 27.484375 19.1875 25 \nQ 14.984375 22.515625 14.984375 16.5 \nQ 14.984375 11.71875 18.140625 8.90625 \nQ 21.296875 6.109375 26.703125 6.109375 \nQ 34.1875 6.109375 38.703125 11.40625 \nQ 43.21875 16.703125 43.21875 25.484375 \nL 43.21875 27.484375 \nz\nM 52.203125 31.203125 \nL 52.203125 0 \nL 43.21875 0 \nL 43.21875 8.296875 \nQ 40.140625 3.328125 35.546875 0.953125 \nQ 30.953125 -1.421875 24.3125 -1.421875 \nQ 15.921875 -1.421875 10.953125 3.296875 \nQ 6 8.015625 6 15.921875 \nQ 6 25.140625 12.171875 29.828125 \nQ 18.359375 34.515625 30.609375 34.515625 \nL 43.21875 34.515625 \nL 43.21875 35.40625 \nQ 43.21875 41.609375 39.140625 45 \nQ 35.0625 48.390625 27.6875 48.390625 \nQ 23 48.390625 18.546875 47.265625 \nQ 14.109375 46.140625 10.015625 43.890625 \nL 10.015625 52.203125 \nQ 14.9375 54.109375 19.578125 55.046875 \nQ 24.21875 56 28.609375 56 \nQ 40.484375 56 46.34375 49.84375 \nQ 52.203125 43.703125 52.203125 31.203125 \nz\n\" id=\"DejaVuSans-97\"/>\n     <path d=\"M 9.421875 54.6875 \nL 18.40625 54.6875 \nL 18.40625 0 \nL 9.421875 0 \nz\nM 9.421875 75.984375 \nL 18.40625 75.984375 \nL 18.40625 64.59375 \nL 9.421875 64.59375 \nz\n\" id=\"DejaVuSans-105\"/>\n     <path d=\"M 54.890625 33.015625 \nL 54.890625 0 \nL 45.90625 0 \nL 45.90625 32.71875 \nQ 45.90625 40.484375 42.875 44.328125 \nQ 39.84375 48.1875 33.796875 48.1875 \nQ 26.515625 48.1875 22.3125 43.546875 \nQ 18.109375 38.921875 18.109375 30.90625 \nL 18.109375 0 \nL 9.078125 0 \nL 9.078125 54.6875 \nL 18.109375 54.6875 \nL 18.109375 46.1875 \nQ 21.34375 51.125 25.703125 53.5625 \nQ 30.078125 56 35.796875 56 \nQ 45.21875 56 50.046875 50.171875 \nQ 54.890625 44.34375 54.890625 33.015625 \nz\n\" id=\"DejaVuSans-110\"/>\n     <path d=\"M 2.984375 54.6875 \nL 12.5 54.6875 \nL 29.59375 8.796875 \nL 46.6875 54.6875 \nL 56.203125 54.6875 \nL 35.6875 0 \nL 23.484375 0 \nz\n\" id=\"DejaVuSans-118\"/>\n    </defs>\n    <g transform=\"translate(132.645312 16.318125)scale(0.12 -0.12)\">\n     <use xlink:href=\"#DejaVuSans-109\"/>\n     <use x=\"97.412109\" xlink:href=\"#DejaVuSans-111\"/>\n     <use x=\"158.59375\" xlink:href=\"#DejaVuSans-100\"/>\n     <use x=\"222.070312\" xlink:href=\"#DejaVuSans-101\"/>\n     <use x=\"283.59375\" xlink:href=\"#DejaVuSans-108\"/>\n     <use x=\"311.376953\" xlink:href=\"#DejaVuSans-32\"/>\n     <use x=\"343.164062\" xlink:href=\"#DejaVuSans-116\"/>\n     <use x=\"382.373047\" xlink:href=\"#DejaVuSans-114\"/>\n     <use x=\"423.486328\" xlink:href=\"#DejaVuSans-97\"/>\n     <use x=\"484.765625\" xlink:href=\"#DejaVuSans-105\"/>\n     <use x=\"512.548828\" xlink:href=\"#DejaVuSans-110\"/>\n     <use x=\"575.927734\" xlink:href=\"#DejaVuSans-32\"/>\n     <use x=\"607.714844\" xlink:href=\"#DejaVuSans-118\"/>\n     <use x=\"666.894531\" xlink:href=\"#DejaVuSans-115\"/>\n     <use x=\"718.994141\" xlink:href=\"#DejaVuSans-32\"/>\n     <use x=\"750.78125\" xlink:href=\"#DejaVuSans-118\"/>\n     <use x=\"809.960938\" xlink:href=\"#DejaVuSans-97\"/>\n     <use x=\"871.240234\" xlink:href=\"#DejaVuSans-108\"/>\n     <use x=\"899.023438\" xlink:href=\"#DejaVuSans-105\"/>\n     <use x=\"926.806641\" xlink:href=\"#DejaVuSans-100\"/>\n     <use x=\"990.283203\" xlink:href=\"#DejaVuSans-97\"/>\n     <use x=\"1051.5625\" xlink:href=\"#DejaVuSans-116\"/>\n     <use x=\"1090.771484\" xlink:href=\"#DejaVuSans-105\"/>\n     <use x=\"1118.554688\" xlink:href=\"#DejaVuSans-111\"/>\n     <use x=\"1179.736328\" xlink:href=\"#DejaVuSans-110\"/>\n     <use x=\"1243.115234\" xlink:href=\"#DejaVuSans-32\"/>\n     <use x=\"1274.902344\" xlink:href=\"#DejaVuSans-108\"/>\n     <use x=\"1302.685547\" xlink:href=\"#DejaVuSans-111\"/>\n     <use x=\"1363.867188\" xlink:href=\"#DejaVuSans-115\"/>\n     <use x=\"1415.966797\" xlink:href=\"#DejaVuSans-115\"/>\n    </g>\n   </g>\n  </g>\n </g>\n <defs>\n  <clipPath id=\"p1fa4d45355\">\n   <rect height=\"217.44\" width=\"334.8\" x=\"53.328125\" y=\"22.318125\"/>\n  </clipPath>\n </defs>\n</svg>\n",
      "image/png": "[encoded data removed]"
     },
     "metadata": {
      "needs_background": "light"
     }
    }
   ],
   "source": [
    "train = pd.DataFrame()\n",
    "val = pd.DataFrame()\n",
    "train[str(i)] = history.history['loss']\n",
    "val[str(i)] = history.history['val_loss']\n",
    "# plot train and validation loss across multiple runs\n",
    "pyplot.plot(train, color='blue', label='train')\n",
    "pyplot.plot(val, color='orange', label='validation')\n",
    "pyplot.title('model train vs validation loss')\n",
    "pyplot.ylabel('loss')\n",
    "pyplot.xlabel('epoch')\n",
    "pyplot.show()"
   ]
  },
  {
   "cell_type": "markdown",
   "metadata": {},
   "source": [
    "### Use padding in test samples"
   ]
  },
  {
   "cell_type": "code",
   "execution_count": 171,
   "metadata": {},
   "outputs": [
    {
     "output_type": "execute_result",
     "data": {
      "text/plain": "        id  cycle  setting1  setting2  setting3        s1        s2        s3  \\\n0        1      1  0.238019  0.297150       1.0  0.597937  0.639243  0.691329   \n1        1      2  0.476162  0.831354       1.0  0.626985  0.664861  0.647519   \n2        1      3  0.833282  0.997625       1.0  0.060269  0.189055  0.312512   \n3        1      4  0.999967  0.998812       1.0  0.000000  0.135525  0.286753   \n4        1      5  0.595089  0.737886       0.0  0.238089  0.012028  0.022001   \n...    ...    ...       ...       ...       ...       ...       ...       ...   \n33986  259    119  0.833210  0.997981       1.0  0.060269  0.185015  0.331523   \n33987  259    120  0.999967  0.998219       1.0  0.000000  0.128638  0.290703   \n33988  259    121  0.999955  0.997625       1.0  0.000000  0.130750  0.285244   \n33989  259    122  0.000057  0.000356       1.0  1.000000  0.984024  0.944915   \n33990  259    123  0.999888  0.997625       1.0  0.000000  0.131852  0.267029   \n\n             s4        s5  ...  s19       s20       s21  mode1  mode2  mode3  \\\n0      0.680395  0.617180  ...  1.0  0.625944  0.630724    0.0    0.0    0.0   \n1      0.534663  0.507937  ...  1.0  0.484214  0.496301    0.0    0.0    0.0   \n2      0.243225  0.146592  ...  1.0  0.164722  0.159476    0.0    1.0    0.0   \n3      0.242061  0.000000  ...  1.0  0.005834  0.016866    0.0    0.0    0.0   \n4      0.050986  0.293184  ...  0.0  0.141730  0.140123    1.0    0.0    0.0   \n...         ...       ...  ...  ...       ...       ...    ...    ...    ...   \n33986  0.245972  0.146592  ...  1.0  0.163349  0.159133    0.0    1.0    0.0   \n33987  0.232087  0.000000  ...  1.0  0.013384  0.016260    0.0    0.0    0.0   \n33988  0.219835  0.000000  ...  1.0  0.013384  0.020433    0.0    0.0    0.0   \n33989  0.935747  1.000000  ...  1.0  0.991764  0.985410    0.0    0.0    1.0   \n33990  0.239759  0.000000  ...  1.0  0.015443  0.012858    0.0    0.0    0.0   \n\n       mode4  mode5  mode6  cycle_norm  \n0        0.0    1.0    0.0    0.000000  \n1        1.0    0.0    0.0    0.002732  \n2        0.0    0.0    0.0    0.005464  \n3        0.0    0.0    1.0    0.008197  \n4        0.0    0.0    0.0    0.010929  \n...      ...    ...    ...         ...  \n33986    0.0    0.0    0.0    0.322404  \n33987    0.0    0.0    1.0    0.325137  \n33988    0.0    0.0    1.0    0.327869  \n33989    0.0    0.0    0.0    0.330601  \n33990    0.0    0.0    1.0    0.333333  \n\n[33991 rows x 33 columns]",
      "text/html": "<div>\n<style scoped>\n    .dataframe tbody tr th:only-of-type {\n        vertical-align: middle;\n    }\n\n    .dataframe tbody tr th {\n        vertical-align: top;\n    }\n\n    .dataframe thead th {\n        text-align: right;\n    }\n</style>\n<table border=\"1\" class=\"dataframe\">\n  <thead>\n    <tr style=\"text-align: right;\">\n      <th></th>\n      <th>id</th>\n      <th>cycle</th>\n      <th>setting1</th>\n      <th>setting2</th>\n      <th>setting3</th>\n      <th>s1</th>\n      <th>s2</th>\n      <th>s3</th>\n      <th>s4</th>\n      <th>s5</th>\n      <th>...</th>\n      <th>s19</th>\n      <th>s20</th>\n      <th>s21</th>\n      <th>mode1</th>\n      <th>mode2</th>\n      <th>mode3</th>\n      <th>mode4</th>\n      <th>mode5</th>\n      <th>mode6</th>\n      <th>cycle_norm</th>\n    </tr>\n  </thead>\n  <tbody>\n    <tr>\n      <th>0</th>\n      <td>1</td>\n      <td>1</td>\n      <td>0.238019</td>\n      <td>0.297150</td>\n      <td>1.0</td>\n      <td>0.597937</td>\n      <td>0.639243</td>\n      <td>0.691329</td>\n      <td>0.680395</td>\n      <td>0.617180</td>\n      <td>...</td>\n      <td>1.0</td>\n      <td>0.625944</td>\n      <td>0.630724</td>\n      <td>0.0</td>\n      <td>0.0</td>\n      <td>0.0</td>\n      <td>0.0</td>\n      <td>1.0</td>\n      <td>0.0</td>\n      <td>0.000000</td>\n    </tr>\n    <tr>\n      <th>1</th>\n      <td>1</td>\n      <td>2</td>\n      <td>0.476162</td>\n      <td>0.831354</td>\n      <td>1.0</td>\n      <td>0.626985</td>\n      <td>0.664861</td>\n      <td>0.647519</td>\n      <td>0.534663</td>\n      <td>0.507937</td>\n      <td>...</td>\n      <td>1.0</td>\n      <td>0.484214</td>\n      <td>0.496301</td>\n      <td>0.0</td>\n      <td>0.0</td>\n      <td>0.0</td>\n      <td>1.0</td>\n      <td>0.0</td>\n      <td>0.0</td>\n      <td>0.002732</td>\n    </tr>\n    <tr>\n      <th>2</th>\n      <td>1</td>\n      <td>3</td>\n      <td>0.833282</td>\n      <td>0.997625</td>\n      <td>1.0</td>\n      <td>0.060269</td>\n      <td>0.189055</td>\n      <td>0.312512</td>\n      <td>0.243225</td>\n      <td>0.146592</td>\n      <td>...</td>\n      <td>1.0</td>\n      <td>0.164722</td>\n      <td>0.159476</td>\n      <td>0.0</td>\n      <td>1.0</td>\n      <td>0.0</td>\n      <td>0.0</td>\n      <td>0.0</td>\n      <td>0.0</td>\n      <td>0.005464</td>\n    </tr>\n    <tr>\n      <th>3</th>\n      <td>1</td>\n      <td>4</td>\n      <td>0.999967</td>\n      <td>0.998812</td>\n      <td>1.0</td>\n      <td>0.000000</td>\n      <td>0.135525</td>\n      <td>0.286753</td>\n      <td>0.242061</td>\n      <td>0.000000</td>\n      <td>...</td>\n      <td>1.0</td>\n      <td>0.005834</td>\n      <td>0.016866</td>\n      <td>0.0</td>\n      <td>0.0</td>\n      <td>0.0</td>\n      <td>0.0</td>\n      <td>0.0</td>\n      <td>1.0</td>\n      <td>0.008197</td>\n    </tr>\n    <tr>\n      <th>4</th>\n      <td>1</td>\n      <td>5</td>\n      <td>0.595089</td>\n      <td>0.737886</td>\n      <td>0.0</td>\n      <td>0.238089</td>\n      <td>0.012028</td>\n      <td>0.022001</td>\n      <td>0.050986</td>\n      <td>0.293184</td>\n      <td>...</td>\n      <td>0.0</td>\n      <td>0.141730</td>\n      <td>0.140123</td>\n      <td>1.0</td>\n      <td>0.0</td>\n      <td>0.0</td>\n      <td>0.0</td>\n      <td>0.0</td>\n      <td>0.0</td>\n      <td>0.010929</td>\n    </tr>\n    <tr>\n      <th>...</th>\n      <td>...</td>\n      <td>...</td>\n      <td>...</td>\n      <td>...</td>\n      <td>...</td>\n      <td>...</td>\n      <td>...</td>\n      <td>...</td>\n      <td>...</td>\n      <td>...</td>\n      <td>...</td>\n      <td>...</td>\n      <td>...</td>\n      <td>...</td>\n      <td>...</td>\n      <td>...</td>\n      <td>...</td>\n      <td>...</td>\n      <td>...</td>\n      <td>...</td>\n      <td>...</td>\n    </tr>\n    <tr>\n      <th>33986</th>\n      <td>259</td>\n      <td>119</td>\n      <td>0.833210</td>\n      <td>0.997981</td>\n      <td>1.0</td>\n      <td>0.060269</td>\n      <td>0.185015</td>\n      <td>0.331523</td>\n      <td>0.245972</td>\n      <td>0.146592</td>\n      <td>...</td>\n      <td>1.0</td>\n      <td>0.163349</td>\n      <td>0.159133</td>\n      <td>0.0</td>\n      <td>1.0</td>\n      <td>0.0</td>\n      <td>0.0</td>\n      <td>0.0</td>\n      <td>0.0</td>\n      <td>0.322404</td>\n    </tr>\n    <tr>\n      <th>33987</th>\n      <td>259</td>\n      <td>120</td>\n      <td>0.999967</td>\n      <td>0.998219</td>\n      <td>1.0</td>\n      <td>0.000000</td>\n      <td>0.128638</td>\n      <td>0.290703</td>\n      <td>0.232087</td>\n      <td>0.000000</td>\n      <td>...</td>\n      <td>1.0</td>\n      <td>0.013384</td>\n      <td>0.016260</td>\n      <td>0.0</td>\n      <td>0.0</td>\n      <td>0.0</td>\n      <td>0.0</td>\n      <td>0.0</td>\n      <td>1.0</td>\n      <td>0.325137</td>\n    </tr>\n    <tr>\n      <th>33988</th>\n      <td>259</td>\n      <td>121</td>\n      <td>0.999955</td>\n      <td>0.997625</td>\n      <td>1.0</td>\n      <td>0.000000</td>\n      <td>0.130750</td>\n      <td>0.285244</td>\n      <td>0.219835</td>\n      <td>0.000000</td>\n      <td>...</td>\n      <td>1.0</td>\n      <td>0.013384</td>\n      <td>0.020433</td>\n      <td>0.0</td>\n      <td>0.0</td>\n      <td>0.0</td>\n      <td>0.0</td>\n      <td>0.0</td>\n      <td>1.0</td>\n      <td>0.327869</td>\n    </tr>\n    <tr>\n      <th>33989</th>\n      <td>259</td>\n      <td>122</td>\n      <td>0.000057</td>\n      <td>0.000356</td>\n      <td>1.0</td>\n      <td>1.000000</td>\n      <td>0.984024</td>\n      <td>0.944915</td>\n      <td>0.935747</td>\n      <td>1.000000</td>\n      <td>...</td>\n      <td>1.0</td>\n      <td>0.991764</td>\n      <td>0.985410</td>\n      <td>0.0</td>\n      <td>0.0</td>\n      <td>1.0</td>\n      <td>0.0</td>\n      <td>0.0</td>\n      <td>0.0</td>\n      <td>0.330601</td>\n    </tr>\n    <tr>\n      <th>33990</th>\n      <td>259</td>\n      <td>123</td>\n      <td>0.999888</td>\n      <td>0.997625</td>\n      <td>1.0</td>\n      <td>0.000000</td>\n      <td>0.131852</td>\n      <td>0.267029</td>\n      <td>0.239759</td>\n      <td>0.000000</td>\n      <td>...</td>\n      <td>1.0</td>\n      <td>0.015443</td>\n      <td>0.012858</td>\n      <td>0.0</td>\n      <td>0.0</td>\n      <td>0.0</td>\n      <td>0.0</td>\n      <td>0.0</td>\n      <td>1.0</td>\n      <td>0.333333</td>\n    </tr>\n  </tbody>\n</table>\n<p>33991 rows × 33 columns</p>\n</div>"
     },
     "metadata": {},
     "execution_count": 171
    }
   ],
   "source": [
    "td"
   ]
  },
  {
   "cell_type": "code",
   "execution_count": 172,
   "metadata": {},
   "outputs": [
    {
     "output_type": "execute_result",
     "data": {
      "text/plain": "259"
     },
     "metadata": {},
     "execution_count": 172
    }
   ],
   "source": [
    "len(td.groupby('id'))"
   ]
  },
  {
   "cell_type": "code",
   "execution_count": 173,
   "metadata": {},
   "outputs": [
    {
     "output_type": "execute_result",
     "data": {
      "text/plain": "        id  cycle  setting1  setting2  setting3        s1        s2        s3  \\\n0        1      1  0.238019  0.297150       1.0  0.597937  0.639243  0.691329   \n1        1      2  0.476162  0.831354       1.0  0.626985  0.664861  0.647519   \n2        1      3  0.833282  0.997625       1.0  0.060269  0.189055  0.312512   \n3        1      4  0.999967  0.998812       1.0  0.000000  0.135525  0.286753   \n4        1      5  0.595089  0.737886       0.0  0.238089  0.012028  0.022001   \n...    ...    ...       ...       ...       ...       ...       ...       ...   \n33986  259    119  0.833210  0.997981       1.0  0.060269  0.185015  0.331523   \n33987  259    120  0.999967  0.998219       1.0  0.000000  0.128638  0.290703   \n33988  259    121  0.999955  0.997625       1.0  0.000000  0.130750  0.285244   \n33989  259    122  0.000057  0.000356       1.0  1.000000  0.984024  0.944915   \n33990  259    123  0.999888  0.997625       1.0  0.000000  0.131852  0.267029   \n\n             s4        s5  ...  s19       s20       s21  mode1  mode2  mode3  \\\n0      0.680395  0.617180  ...  1.0  0.625944  0.630724    0.0    0.0    0.0   \n1      0.534663  0.507937  ...  1.0  0.484214  0.496301    0.0    0.0    0.0   \n2      0.243225  0.146592  ...  1.0  0.164722  0.159476    0.0    1.0    0.0   \n3      0.242061  0.000000  ...  1.0  0.005834  0.016866    0.0    0.0    0.0   \n4      0.050986  0.293184  ...  0.0  0.141730  0.140123    1.0    0.0    0.0   \n...         ...       ...  ...  ...       ...       ...    ...    ...    ...   \n33986  0.245972  0.146592  ...  1.0  0.163349  0.159133    0.0    1.0    0.0   \n33987  0.232087  0.000000  ...  1.0  0.013384  0.016260    0.0    0.0    0.0   \n33988  0.219835  0.000000  ...  1.0  0.013384  0.020433    0.0    0.0    0.0   \n33989  0.935747  1.000000  ...  1.0  0.991764  0.985410    0.0    0.0    1.0   \n33990  0.239759  0.000000  ...  1.0  0.015443  0.012858    0.0    0.0    0.0   \n\n       mode4  mode5  mode6  cycle_norm  \n0        0.0    1.0    0.0    0.000000  \n1        1.0    0.0    0.0    0.002732  \n2        0.0    0.0    0.0    0.005464  \n3        0.0    0.0    1.0    0.008197  \n4        0.0    0.0    0.0    0.010929  \n...      ...    ...    ...         ...  \n33986    0.0    0.0    0.0    0.322404  \n33987    0.0    0.0    1.0    0.325137  \n33988    0.0    0.0    1.0    0.327869  \n33989    0.0    0.0    0.0    0.330601  \n33990    0.0    0.0    1.0    0.333333  \n\n[33991 rows x 33 columns]",
      "text/html": "<div>\n<style scoped>\n    .dataframe tbody tr th:only-of-type {\n        vertical-align: middle;\n    }\n\n    .dataframe tbody tr th {\n        vertical-align: top;\n    }\n\n    .dataframe thead th {\n        text-align: right;\n    }\n</style>\n<table border=\"1\" class=\"dataframe\">\n  <thead>\n    <tr style=\"text-align: right;\">\n      <th></th>\n      <th>id</th>\n      <th>cycle</th>\n      <th>setting1</th>\n      <th>setting2</th>\n      <th>setting3</th>\n      <th>s1</th>\n      <th>s2</th>\n      <th>s3</th>\n      <th>s4</th>\n      <th>s5</th>\n      <th>...</th>\n      <th>s19</th>\n      <th>s20</th>\n      <th>s21</th>\n      <th>mode1</th>\n      <th>mode2</th>\n      <th>mode3</th>\n      <th>mode4</th>\n      <th>mode5</th>\n      <th>mode6</th>\n      <th>cycle_norm</th>\n    </tr>\n  </thead>\n  <tbody>\n    <tr>\n      <th>0</th>\n      <td>1</td>\n      <td>1</td>\n      <td>0.238019</td>\n      <td>0.297150</td>\n      <td>1.0</td>\n      <td>0.597937</td>\n      <td>0.639243</td>\n      <td>0.691329</td>\n      <td>0.680395</td>\n      <td>0.617180</td>\n      <td>...</td>\n      <td>1.0</td>\n      <td>0.625944</td>\n      <td>0.630724</td>\n      <td>0.0</td>\n      <td>0.0</td>\n      <td>0.0</td>\n      <td>0.0</td>\n      <td>1.0</td>\n      <td>0.0</td>\n      <td>0.000000</td>\n    </tr>\n    <tr>\n      <th>1</th>\n      <td>1</td>\n      <td>2</td>\n      <td>0.476162</td>\n      <td>0.831354</td>\n      <td>1.0</td>\n      <td>0.626985</td>\n      <td>0.664861</td>\n      <td>0.647519</td>\n      <td>0.534663</td>\n      <td>0.507937</td>\n      <td>...</td>\n      <td>1.0</td>\n      <td>0.484214</td>\n      <td>0.496301</td>\n      <td>0.0</td>\n      <td>0.0</td>\n      <td>0.0</td>\n      <td>1.0</td>\n      <td>0.0</td>\n      <td>0.0</td>\n      <td>0.002732</td>\n    </tr>\n    <tr>\n      <th>2</th>\n      <td>1</td>\n      <td>3</td>\n      <td>0.833282</td>\n      <td>0.997625</td>\n      <td>1.0</td>\n      <td>0.060269</td>\n      <td>0.189055</td>\n      <td>0.312512</td>\n      <td>0.243225</td>\n      <td>0.146592</td>\n      <td>...</td>\n      <td>1.0</td>\n      <td>0.164722</td>\n      <td>0.159476</td>\n      <td>0.0</td>\n      <td>1.0</td>\n      <td>0.0</td>\n      <td>0.0</td>\n      <td>0.0</td>\n      <td>0.0</td>\n      <td>0.005464</td>\n    </tr>\n    <tr>\n      <th>3</th>\n      <td>1</td>\n      <td>4</td>\n      <td>0.999967</td>\n      <td>0.998812</td>\n      <td>1.0</td>\n      <td>0.000000</td>\n      <td>0.135525</td>\n      <td>0.286753</td>\n      <td>0.242061</td>\n      <td>0.000000</td>\n      <td>...</td>\n      <td>1.0</td>\n      <td>0.005834</td>\n      <td>0.016866</td>\n      <td>0.0</td>\n      <td>0.0</td>\n      <td>0.0</td>\n      <td>0.0</td>\n      <td>0.0</td>\n      <td>1.0</td>\n      <td>0.008197</td>\n    </tr>\n    <tr>\n      <th>4</th>\n      <td>1</td>\n      <td>5</td>\n      <td>0.595089</td>\n      <td>0.737886</td>\n      <td>0.0</td>\n      <td>0.238089</td>\n      <td>0.012028</td>\n      <td>0.022001</td>\n      <td>0.050986</td>\n      <td>0.293184</td>\n      <td>...</td>\n      <td>0.0</td>\n      <td>0.141730</td>\n      <td>0.140123</td>\n      <td>1.0</td>\n      <td>0.0</td>\n      <td>0.0</td>\n      <td>0.0</td>\n      <td>0.0</td>\n      <td>0.0</td>\n      <td>0.010929</td>\n    </tr>\n    <tr>\n      <th>...</th>\n      <td>...</td>\n      <td>...</td>\n      <td>...</td>\n      <td>...</td>\n      <td>...</td>\n      <td>...</td>\n      <td>...</td>\n      <td>...</td>\n      <td>...</td>\n      <td>...</td>\n      <td>...</td>\n      <td>...</td>\n      <td>...</td>\n      <td>...</td>\n      <td>...</td>\n      <td>...</td>\n      <td>...</td>\n      <td>...</td>\n      <td>...</td>\n      <td>...</td>\n      <td>...</td>\n    </tr>\n    <tr>\n      <th>33986</th>\n      <td>259</td>\n      <td>119</td>\n      <td>0.833210</td>\n      <td>0.997981</td>\n      <td>1.0</td>\n      <td>0.060269</td>\n      <td>0.185015</td>\n      <td>0.331523</td>\n      <td>0.245972</td>\n      <td>0.146592</td>\n      <td>...</td>\n      <td>1.0</td>\n      <td>0.163349</td>\n      <td>0.159133</td>\n      <td>0.0</td>\n      <td>1.0</td>\n      <td>0.0</td>\n      <td>0.0</td>\n      <td>0.0</td>\n      <td>0.0</td>\n      <td>0.322404</td>\n    </tr>\n    <tr>\n      <th>33987</th>\n      <td>259</td>\n      <td>120</td>\n      <td>0.999967</td>\n      <td>0.998219</td>\n      <td>1.0</td>\n      <td>0.000000</td>\n      <td>0.128638</td>\n      <td>0.290703</td>\n      <td>0.232087</td>\n      <td>0.000000</td>\n      <td>...</td>\n      <td>1.0</td>\n      <td>0.013384</td>\n      <td>0.016260</td>\n      <td>0.0</td>\n      <td>0.0</td>\n      <td>0.0</td>\n      <td>0.0</td>\n      <td>0.0</td>\n      <td>1.0</td>\n      <td>0.325137</td>\n    </tr>\n    <tr>\n      <th>33988</th>\n      <td>259</td>\n      <td>121</td>\n      <td>0.999955</td>\n      <td>0.997625</td>\n      <td>1.0</td>\n      <td>0.000000</td>\n      <td>0.130750</td>\n      <td>0.285244</td>\n      <td>0.219835</td>\n      <td>0.000000</td>\n      <td>...</td>\n      <td>1.0</td>\n      <td>0.013384</td>\n      <td>0.020433</td>\n      <td>0.0</td>\n      <td>0.0</td>\n      <td>0.0</td>\n      <td>0.0</td>\n      <td>0.0</td>\n      <td>1.0</td>\n      <td>0.327869</td>\n    </tr>\n    <tr>\n      <th>33989</th>\n      <td>259</td>\n      <td>122</td>\n      <td>0.000057</td>\n      <td>0.000356</td>\n      <td>1.0</td>\n      <td>1.000000</td>\n      <td>0.984024</td>\n      <td>0.944915</td>\n      <td>0.935747</td>\n      <td>1.000000</td>\n      <td>...</td>\n      <td>1.0</td>\n      <td>0.991764</td>\n      <td>0.985410</td>\n      <td>0.0</td>\n      <td>0.0</td>\n      <td>1.0</td>\n      <td>0.0</td>\n      <td>0.0</td>\n      <td>0.0</td>\n      <td>0.330601</td>\n    </tr>\n    <tr>\n      <th>33990</th>\n      <td>259</td>\n      <td>123</td>\n      <td>0.999888</td>\n      <td>0.997625</td>\n      <td>1.0</td>\n      <td>0.000000</td>\n      <td>0.131852</td>\n      <td>0.267029</td>\n      <td>0.239759</td>\n      <td>0.000000</td>\n      <td>...</td>\n      <td>1.0</td>\n      <td>0.015443</td>\n      <td>0.012858</td>\n      <td>0.0</td>\n      <td>0.0</td>\n      <td>0.0</td>\n      <td>0.0</td>\n      <td>0.0</td>\n      <td>1.0</td>\n      <td>0.333333</td>\n    </tr>\n  </tbody>\n</table>\n<p>33991 rows × 33 columns</p>\n</div>"
     },
     "metadata": {},
     "execution_count": 173
    }
   ],
   "source": [
    "td"
   ]
  },
  {
   "cell_type": "code",
   "execution_count": 174,
   "metadata": {},
   "outputs": [],
   "source": [
    "test = []\n",
    "for i in range(len(td.groupby('id'))):\n",
    "    if len(td[td['id']==(i+1)]) >= sequence_length:\n",
    "        test.append(np.asarray(td[td['id']==(i+1)][sequence_cols].values[-sequence_length:]).astype(np.float32).tolist())\n",
    "    else:\n",
    "        test.append(np.asarray(td[td['id']==(i+1)][sequence_cols].values[:]).astype(np.float32).tolist())"
   ]
  },
  {
   "cell_type": "code",
   "execution_count": 175,
   "metadata": {},
   "outputs": [],
   "source": [
    "padded_inputs = keras.preprocessing.sequence.pad_sequences(test,dtype='float32',                                padding='post')"
   ]
  },
  {
   "cell_type": "code",
   "execution_count": 183,
   "metadata": {},
   "outputs": [
    {
     "output_type": "stream",
     "name": "stdout",
     "text": "259/259 [==============================] - 0s 2ms/step\n"
    }
   ],
   "source": [
    "result = model.predict(padded_inputs,verbose=1)"
   ]
  },
  {
   "cell_type": "markdown",
   "metadata": {},
   "source": [
    "## .csv"
   ]
  },
  {
   "cell_type": "code",
   "execution_count": 184,
   "metadata": {},
   "outputs": [],
   "source": [
    "import time"
   ]
  },
  {
   "cell_type": "code",
   "execution_count": 185,
   "metadata": {},
   "outputs": [],
   "source": [
    "submit = pd.read_excel('../results_submission.xls')\n",
    "submit['RUL prediction']=result\n",
    "submit.to_csv('re_use_mask.csv')"
   ]
  },
  {
   "cell_type": "markdown",
   "metadata": {},
   "source": [
    "## 算分"
   ]
  },
  {
   "cell_type": "code",
   "execution_count": 186,
   "metadata": {},
   "outputs": [
    {
     "output_type": "execute_result",
     "data": {
      "text/plain": "(259,)"
     },
     "metadata": {},
     "execution_count": 186
    }
   ],
   "source": [
    "ans = np.loadtxt('../RUL_FD002.txt')\n",
    "ans.shape"
   ]
  },
  {
   "cell_type": "code",
   "execution_count": 187,
   "metadata": {},
   "outputs": [],
   "source": [
    "def score(user_ans):\n",
    "    user_ans_arr = np.array(user_ans)\n",
    "    score = 0\n",
    "    diff = user_ans_arr - ans\n",
    "    diff_pos = diff[diff>=0]\n",
    "    diff_neg = diff[diff<0]\n",
    "    score = np.sum((np.exp(-1./13.*diff_neg)-1))+np.sum((np.exp(1./10.*diff_pos)-1))\n",
    "    return score"
   ]
  },
  {
   "cell_type": "code",
   "execution_count": 188,
   "metadata": {},
   "outputs": [],
   "source": [
    "re = pd.read_csv('./re_use_mask.csv')\n",
    "pred_rul=re['RUL prediction']"
   ]
  },
  {
   "cell_type": "code",
   "execution_count": 189,
   "metadata": {},
   "outputs": [
    {
     "output_type": "execute_result",
     "data": {
      "text/plain": "27638.475487402255"
     },
     "metadata": {},
     "execution_count": 189
    }
   ],
   "source": [
    "score(pred_rul)"
   ]
  },
  {
   "cell_type": "code",
   "execution_count": null,
   "metadata": {},
   "outputs": [],
   "source": []
  }
 ],
 "metadata": {
  "language_info": {
   "name": "python",
   "codemirror_mode": {
    "name": "ipython",
    "version": 3
   },
   "version": "3.7.3-final"
  },
  "orig_nbformat": 2,
  "file_extension": ".py",
  "mimetype": "text/x-python",
  "name": "python",
  "npconvert_exporter": "python",
  "pygments_lexer": "ipython3",
  "version": 3,
  "kernelspec": {
   "name": "python3",
   "display_name": "Python 3"
  }
 },
 "nbformat": 4,
 "nbformat_minor": 2
}