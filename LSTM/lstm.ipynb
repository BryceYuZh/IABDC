{
 "cells": [
  {
   "cell_type": "markdown",
   "metadata": {},
   "source": [
    "Reference:\n",
    "https://github.com/umbertogriffo/Predictive-Maintenance-using-LSTM/blob/master/src/lstm/regression.py"
   ],
   "execution_count": null,
   "outputs": []
  },
  {
   "cell_type": "code",
   "execution_count": 2,
   "metadata": {},
   "outputs": [
    {
     "output_type": "stream",
     "name": "stderr",
     "text": "Using TensorFlow backend.\n"
    }
   ],
   "source": [
    "import keras"
   ]
  },
  {
   "cell_type": "code",
   "execution_count": 3,
   "metadata": {},
   "outputs": [],
   "source": [
    "import pandas as pd\n",
    "import numpy as np\n",
    "import matplotlib.pyplot as plt\n",
    "\n",
    "# Setting seed for reproducability\n",
    "np.random.seed(1234)  \n",
    "PYTHONHASHSEED = 0\n",
    "from sklearn import preprocessing\n",
    "from sklearn.metrics import confusion_matrix, recall_score, precision_score\n",
    "from keras.models import Sequential, load_model\n",
    "from keras.layers import Dense, Dropout, LSTM, Activation, Conv1D, MaxPooling1D\n",
    "%matplotlib inline"
   ]
  },
  {
   "cell_type": "code",
   "execution_count": 4,
   "metadata": {},
   "outputs": [
    {
     "output_type": "execute_result",
     "data": {
      "text/plain": "   id  cycle  setting1  setting2  setting3      s1      s2       s3       s4  \\\n0   1      1   34.9983    0.8400     100.0  449.44  555.32  1358.61  1137.23   \n1   1      2   41.9982    0.8408     100.0  445.00  549.90  1353.22  1125.78   \n2   1      3   24.9988    0.6218      60.0  462.54  537.31  1256.76  1047.45   \n3   1      4   42.0077    0.8416     100.0  445.00  549.51  1354.03  1126.38   \n4   1      5   25.0005    0.6203      60.0  462.54  537.07  1257.71  1047.93   \n\n     s5  ...     s12      s13      s14      s15   s16  s17   s18     s19  \\\n0  5.48  ...  183.06  2387.72  8048.56   9.3461  0.02  334  2223  100.00   \n1  3.91  ...  130.42  2387.66  8072.30   9.3774  0.02  330  2212  100.00   \n2  7.05  ...  164.22  2028.03  7864.87  10.8941  0.02  309  1915   84.93   \n3  3.91  ...  130.72  2387.61  8068.66   9.3528  0.02  329  2212  100.00   \n4  7.05  ...  164.31  2028.00  7861.23  10.8963  0.02  309  1915   84.93   \n\n     s20     s21  \n0  14.73  8.8071  \n1  10.41  6.2665  \n2  14.08  8.6723  \n3  10.59  6.4701  \n4  14.13  8.5286  \n\n[5 rows x 26 columns]",
      "text/html": "<div>\n<style scoped>\n    .dataframe tbody tr th:only-of-type {\n        vertical-align: middle;\n    }\n\n    .dataframe tbody tr th {\n        vertical-align: top;\n    }\n\n    .dataframe thead th {\n        text-align: right;\n    }\n</style>\n<table border=\"1\" class=\"dataframe\">\n  <thead>\n    <tr style=\"text-align: right;\">\n      <th></th>\n      <th>id</th>\n      <th>cycle</th>\n      <th>setting1</th>\n      <th>setting2</th>\n      <th>setting3</th>\n      <th>s1</th>\n      <th>s2</th>\n      <th>s3</th>\n      <th>s4</th>\n      <th>s5</th>\n      <th>...</th>\n      <th>s12</th>\n      <th>s13</th>\n      <th>s14</th>\n      <th>s15</th>\n      <th>s16</th>\n      <th>s17</th>\n      <th>s18</th>\n      <th>s19</th>\n      <th>s20</th>\n      <th>s21</th>\n    </tr>\n  </thead>\n  <tbody>\n    <tr>\n      <th>0</th>\n      <td>1</td>\n      <td>1</td>\n      <td>34.9983</td>\n      <td>0.8400</td>\n      <td>100.0</td>\n      <td>449.44</td>\n      <td>555.32</td>\n      <td>1358.61</td>\n      <td>1137.23</td>\n      <td>5.48</td>\n      <td>...</td>\n      <td>183.06</td>\n      <td>2387.72</td>\n      <td>8048.56</td>\n      <td>9.3461</td>\n      <td>0.02</td>\n      <td>334</td>\n      <td>2223</td>\n      <td>100.00</td>\n      <td>14.73</td>\n      <td>8.8071</td>\n    </tr>\n    <tr>\n      <th>1</th>\n      <td>1</td>\n      <td>2</td>\n      <td>41.9982</td>\n      <td>0.8408</td>\n      <td>100.0</td>\n      <td>445.00</td>\n      <td>549.90</td>\n      <td>1353.22</td>\n      <td>1125.78</td>\n      <td>3.91</td>\n      <td>...</td>\n      <td>130.42</td>\n      <td>2387.66</td>\n      <td>8072.30</td>\n      <td>9.3774</td>\n      <td>0.02</td>\n      <td>330</td>\n      <td>2212</td>\n      <td>100.00</td>\n      <td>10.41</td>\n      <td>6.2665</td>\n    </tr>\n    <tr>\n      <th>2</th>\n      <td>1</td>\n      <td>3</td>\n      <td>24.9988</td>\n      <td>0.6218</td>\n      <td>60.0</td>\n      <td>462.54</td>\n      <td>537.31</td>\n      <td>1256.76</td>\n      <td>1047.45</td>\n      <td>7.05</td>\n      <td>...</td>\n      <td>164.22</td>\n      <td>2028.03</td>\n      <td>7864.87</td>\n      <td>10.8941</td>\n      <td>0.02</td>\n      <td>309</td>\n      <td>1915</td>\n      <td>84.93</td>\n      <td>14.08</td>\n      <td>8.6723</td>\n    </tr>\n    <tr>\n      <th>3</th>\n      <td>1</td>\n      <td>4</td>\n      <td>42.0077</td>\n      <td>0.8416</td>\n      <td>100.0</td>\n      <td>445.00</td>\n      <td>549.51</td>\n      <td>1354.03</td>\n      <td>1126.38</td>\n      <td>3.91</td>\n      <td>...</td>\n      <td>130.72</td>\n      <td>2387.61</td>\n      <td>8068.66</td>\n      <td>9.3528</td>\n      <td>0.02</td>\n      <td>329</td>\n      <td>2212</td>\n      <td>100.00</td>\n      <td>10.59</td>\n      <td>6.4701</td>\n    </tr>\n    <tr>\n      <th>4</th>\n      <td>1</td>\n      <td>5</td>\n      <td>25.0005</td>\n      <td>0.6203</td>\n      <td>60.0</td>\n      <td>462.54</td>\n      <td>537.07</td>\n      <td>1257.71</td>\n      <td>1047.93</td>\n      <td>7.05</td>\n      <td>...</td>\n      <td>164.31</td>\n      <td>2028.00</td>\n      <td>7861.23</td>\n      <td>10.8963</td>\n      <td>0.02</td>\n      <td>309</td>\n      <td>1915</td>\n      <td>84.93</td>\n      <td>14.13</td>\n      <td>8.5286</td>\n    </tr>\n  </tbody>\n</table>\n<p>5 rows × 26 columns</p>\n</div>"
     },
     "metadata": {},
     "execution_count": 4
    }
   ],
   "source": [
    "jet = pd.read_table('../train_data.txt',sep=' ',header=None)\n",
    "jet.drop([26,27],axis=1,inplace=True)\n",
    "jet.columns = ['id', 'cycle', 'setting1', 'setting2', 'setting3', 's1', 's2', 's3',\n",
    "                     's4', 's5', 's6', 's7', 's8', 's9', 's10', 's11', 's12', 's13', 's14',\n",
    "                     's15', 's16', 's17', 's18', 's19', 's20', 's21']\n",
    "train_df = jet\n",
    "train_df.head()"
   ]
  },
  {
   "cell_type": "code",
   "execution_count": 5,
   "metadata": {},
   "outputs": [
    {
     "output_type": "execute_result",
     "data": {
      "text/plain": "   id  cycle  setting1  setting2  setting3      s1      s2       s3       s4  \\\n0   1      1    9.9987    0.2502     100.0  489.05  605.03  1497.17  1304.99   \n1   1      2   20.0026    0.7000     100.0  491.19  607.82  1481.20  1246.11   \n2   1      3   35.0045    0.8400     100.0  449.44  556.00  1359.08  1128.36   \n3   1      4   42.0066    0.8410     100.0  445.00  550.17  1349.69  1127.89   \n4   1      5   24.9985    0.6213      60.0  462.54  536.72  1253.18  1050.69   \n\n      s5  ...     s12      s13      s14      s15   s16  s17   s18     s19  \\\n0  10.52  ...  371.69  2388.18  8114.10   8.6476  0.03  369  2319  100.00   \n1   9.35  ...  315.32  2388.12  8053.06   9.2405  0.02  364  2324  100.00   \n2   5.48  ...  183.04  2387.75  8053.04   9.3472  0.02  333  2223  100.00   \n3   3.91  ...  130.40  2387.72  8066.90   9.3961  0.02  332  2212  100.00   \n4   7.05  ...  164.56  2028.05  7865.66  10.8682  0.02  305  1915   84.93   \n\n     s20      s21  \n0  28.42  17.1551  \n1  24.29  14.8039  \n2  14.98   8.9125  \n3  10.35   6.4181  \n4  14.31   8.5740  \n\n[5 rows x 26 columns]",
      "text/html": "<div>\n<style scoped>\n    .dataframe tbody tr th:only-of-type {\n        vertical-align: middle;\n    }\n\n    .dataframe tbody tr th {\n        vertical-align: top;\n    }\n\n    .dataframe thead th {\n        text-align: right;\n    }\n</style>\n<table border=\"1\" class=\"dataframe\">\n  <thead>\n    <tr style=\"text-align: right;\">\n      <th></th>\n      <th>id</th>\n      <th>cycle</th>\n      <th>setting1</th>\n      <th>setting2</th>\n      <th>setting3</th>\n      <th>s1</th>\n      <th>s2</th>\n      <th>s3</th>\n      <th>s4</th>\n      <th>s5</th>\n      <th>...</th>\n      <th>s12</th>\n      <th>s13</th>\n      <th>s14</th>\n      <th>s15</th>\n      <th>s16</th>\n      <th>s17</th>\n      <th>s18</th>\n      <th>s19</th>\n      <th>s20</th>\n      <th>s21</th>\n    </tr>\n  </thead>\n  <tbody>\n    <tr>\n      <th>0</th>\n      <td>1</td>\n      <td>1</td>\n      <td>9.9987</td>\n      <td>0.2502</td>\n      <td>100.0</td>\n      <td>489.05</td>\n      <td>605.03</td>\n      <td>1497.17</td>\n      <td>1304.99</td>\n      <td>10.52</td>\n      <td>...</td>\n      <td>371.69</td>\n      <td>2388.18</td>\n      <td>8114.10</td>\n      <td>8.6476</td>\n      <td>0.03</td>\n      <td>369</td>\n      <td>2319</td>\n      <td>100.00</td>\n      <td>28.42</td>\n      <td>17.1551</td>\n    </tr>\n    <tr>\n      <th>1</th>\n      <td>1</td>\n      <td>2</td>\n      <td>20.0026</td>\n      <td>0.7000</td>\n      <td>100.0</td>\n      <td>491.19</td>\n      <td>607.82</td>\n      <td>1481.20</td>\n      <td>1246.11</td>\n      <td>9.35</td>\n      <td>...</td>\n      <td>315.32</td>\n      <td>2388.12</td>\n      <td>8053.06</td>\n      <td>9.2405</td>\n      <td>0.02</td>\n      <td>364</td>\n      <td>2324</td>\n      <td>100.00</td>\n      <td>24.29</td>\n      <td>14.8039</td>\n    </tr>\n    <tr>\n      <th>2</th>\n      <td>1</td>\n      <td>3</td>\n      <td>35.0045</td>\n      <td>0.8400</td>\n      <td>100.0</td>\n      <td>449.44</td>\n      <td>556.00</td>\n      <td>1359.08</td>\n      <td>1128.36</td>\n      <td>5.48</td>\n      <td>...</td>\n      <td>183.04</td>\n      <td>2387.75</td>\n      <td>8053.04</td>\n      <td>9.3472</td>\n      <td>0.02</td>\n      <td>333</td>\n      <td>2223</td>\n      <td>100.00</td>\n      <td>14.98</td>\n      <td>8.9125</td>\n    </tr>\n    <tr>\n      <th>3</th>\n      <td>1</td>\n      <td>4</td>\n      <td>42.0066</td>\n      <td>0.8410</td>\n      <td>100.0</td>\n      <td>445.00</td>\n      <td>550.17</td>\n      <td>1349.69</td>\n      <td>1127.89</td>\n      <td>3.91</td>\n      <td>...</td>\n      <td>130.40</td>\n      <td>2387.72</td>\n      <td>8066.90</td>\n      <td>9.3961</td>\n      <td>0.02</td>\n      <td>332</td>\n      <td>2212</td>\n      <td>100.00</td>\n      <td>10.35</td>\n      <td>6.4181</td>\n    </tr>\n    <tr>\n      <th>4</th>\n      <td>1</td>\n      <td>5</td>\n      <td>24.9985</td>\n      <td>0.6213</td>\n      <td>60.0</td>\n      <td>462.54</td>\n      <td>536.72</td>\n      <td>1253.18</td>\n      <td>1050.69</td>\n      <td>7.05</td>\n      <td>...</td>\n      <td>164.56</td>\n      <td>2028.05</td>\n      <td>7865.66</td>\n      <td>10.8682</td>\n      <td>0.02</td>\n      <td>305</td>\n      <td>1915</td>\n      <td>84.93</td>\n      <td>14.31</td>\n      <td>8.5740</td>\n    </tr>\n  </tbody>\n</table>\n<p>5 rows × 26 columns</p>\n</div>"
     },
     "metadata": {},
     "execution_count": 5
    }
   ],
   "source": [
    "td = pd.read_table('../test_data.txt',sep=' ',header=None)\n",
    "td.drop([26,27],axis=1,inplace=True)\n",
    "td.columns = ['id', 'cycle', 'setting1', 'setting2', 'setting3', 's1', 's2', 's3',\n",
    "                     's4', 's5', 's6', 's7', 's8', 's9', 's10', 's11', 's12', 's13', 's14',\n",
    "                     's15', 's16', 's17', 's18', 's19', 's20', 's21']\n",
    "td.head()"
   ]
  },
  {
   "cell_type": "code",
   "execution_count": 6,
   "metadata": {},
   "outputs": [
    {
     "output_type": "execute_result",
     "data": {
      "text/plain": "21"
     },
     "metadata": {},
     "execution_count": 6
    }
   ],
   "source": [
    "td.groupby('id').max()['cycle'].min()"
   ]
  },
  {
   "cell_type": "markdown",
   "metadata": {},
   "source": [
    "### Kmeans"
   ],
   "execution_count": null,
   "outputs": []
  },
  {
   "cell_type": "code",
   "execution_count": 7,
   "metadata": {},
   "outputs": [],
   "source": [
    "from sklearn import cluster"
   ]
  },
  {
   "cell_type": "code",
   "execution_count": 8,
   "metadata": {},
   "outputs": [],
   "source": [
    "k_cluster = cluster.KMeans(n_clusters=6)"
   ]
  },
  {
   "cell_type": "code",
   "execution_count": 9,
   "metadata": {},
   "outputs": [],
   "source": [
    "def max_min_normalize(df):\n",
    "    return (df-df.min())/(df.max()-df.min())"
   ]
  },
  {
   "cell_type": "code",
   "execution_count": 10,
   "metadata": {},
   "outputs": [],
   "source": [
    "feature = jet[['setting1','setting2','setting3']]\n",
    "test_feature = td[['setting1','setting2','setting3']]"
   ]
  },
  {
   "cell_type": "code",
   "execution_count": 11,
   "metadata": {},
   "outputs": [],
   "source": [
    "train_data = np.array(max_min_normalize(feature))\n",
    "test_data = np.array(max_min_normalize(test_feature))"
   ]
  },
  {
   "cell_type": "code",
   "execution_count": 12,
   "metadata": {},
   "outputs": [
    {
     "output_type": "execute_result",
     "data": {
      "text/plain": "KMeans(algorithm='auto', copy_x=True, init='k-means++', max_iter=300,\n       n_clusters=6, n_init=10, n_jobs=None, precompute_distances='auto',\n       random_state=None, tol=0.0001, verbose=0)"
     },
     "metadata": {},
     "execution_count": 12
    }
   ],
   "source": [
    "k_cluster.fit(train_data)"
   ]
  },
  {
   "cell_type": "code",
   "execution_count": 13,
   "metadata": {},
   "outputs": [],
   "source": [
    "train_mode = pd.DataFrame(k_cluster.labels_)\n",
    "test_mode = pd.DataFrame(k_cluster.predict(test_data))"
   ]
  },
  {
   "cell_type": "code",
   "execution_count": 14,
   "metadata": {},
   "outputs": [
    {
     "output_type": "execute_result",
     "data": {
      "text/plain": "       0\n0      1\n1      5\n2      0\n3      5\n4      0\n...   ..\n53754  3\n53755  4\n53756  0\n53757  0\n53758  1\n\n[53759 rows x 1 columns]",
      "text/html": "<div>\n<style scoped>\n    .dataframe tbody tr th:only-of-type {\n        vertical-align: middle;\n    }\n\n    .dataframe tbody tr th {\n        vertical-align: top;\n    }\n\n    .dataframe thead th {\n        text-align: right;\n    }\n</style>\n<table border=\"1\" class=\"dataframe\">\n  <thead>\n    <tr style=\"text-align: right;\">\n      <th></th>\n      <th>0</th>\n    </tr>\n  </thead>\n  <tbody>\n    <tr>\n      <th>0</th>\n      <td>1</td>\n    </tr>\n    <tr>\n      <th>1</th>\n      <td>5</td>\n    </tr>\n    <tr>\n      <th>2</th>\n      <td>0</td>\n    </tr>\n    <tr>\n      <th>3</th>\n      <td>5</td>\n    </tr>\n    <tr>\n      <th>4</th>\n      <td>0</td>\n    </tr>\n    <tr>\n      <th>...</th>\n      <td>...</td>\n    </tr>\n    <tr>\n      <th>53754</th>\n      <td>3</td>\n    </tr>\n    <tr>\n      <th>53755</th>\n      <td>4</td>\n    </tr>\n    <tr>\n      <th>53756</th>\n      <td>0</td>\n    </tr>\n    <tr>\n      <th>53757</th>\n      <td>0</td>\n    </tr>\n    <tr>\n      <th>53758</th>\n      <td>1</td>\n    </tr>\n  </tbody>\n</table>\n<p>53759 rows × 1 columns</p>\n</div>"
     },
     "metadata": {},
     "execution_count": 14
    }
   ],
   "source": [
    "train_mode"
   ]
  },
  {
   "cell_type": "code",
   "execution_count": 15,
   "metadata": {},
   "outputs": [],
   "source": [
    "train_df['mode1']=0\n",
    "train_df['mode2']=0\n",
    "train_df['mode3']=0\n",
    "train_df['mode4']=0\n",
    "train_df['mode5']=0\n",
    "train_df['mode6']=0\n",
    "train_df.loc[train_mode[0]==0,['mode1','mode2','mode3','mode4','mode5','mode6']]=[1,0,0,0,0,0]\n",
    "train_df.loc[train_mode[0]==1,['mode1','mode2','mode3','mode4','mode5','mode6']]=[0,1,0,0,0,0]\n",
    "train_df.loc[train_mode[0]==2,['mode1','mode2','mode3','mode4','mode5','mode6']]=[0,0,1,0,0,0]\n",
    "train_df.loc[train_mode[0]==3,['mode1','mode2','mode3','mode4','mode5','mode6']]=[0,0,0,1,0,0]\n",
    "train_df.loc[train_mode[0]==4,['mode1','mode2','mode3','mode4','mode5','mode6']]=[0,0,0,0,1,0]\n",
    "train_df.loc[train_mode[0]==5,['mode1','mode2','mode3','mode4','mode5','mode6']]=[0,0,0,0,0,1]"
   ]
  },
  {
   "cell_type": "code",
   "execution_count": 16,
   "metadata": {},
   "outputs": [
    {
     "output_type": "execute_result",
     "data": {
      "text/plain": "        id  cycle  setting1  setting2  setting3      s1      s2       s3  \\\n0        1      1   34.9983    0.8400     100.0  449.44  555.32  1358.61   \n1        1      2   41.9982    0.8408     100.0  445.00  549.90  1353.22   \n2        1      3   24.9988    0.6218      60.0  462.54  537.31  1256.76   \n3        1      4   42.0077    0.8416     100.0  445.00  549.51  1354.03   \n4        1      5   25.0005    0.6203      60.0  462.54  537.07  1257.71   \n...    ...    ...       ...       ...       ...     ...     ...      ...   \n53754  260    312   20.0037    0.7000     100.0  491.19  608.79  1495.60   \n53755  260    313   10.0022    0.2510     100.0  489.05  605.81  1514.32   \n53756  260    314   25.0041    0.6200      60.0  462.54  537.48  1276.24   \n53757  260    315   25.0033    0.6220      60.0  462.54  537.84  1272.95   \n53758  260    316   35.0036    0.8400     100.0  449.44  556.64  1374.61   \n\n            s4     s5  ...   s18     s19    s20      s21  mode1  mode2  mode3  \\\n0      1137.23   5.48  ...  2223  100.00  14.73   8.8071      0      1      0   \n1      1125.78   3.91  ...  2212  100.00  10.41   6.2665      0      0      0   \n2      1047.45   7.05  ...  1915   84.93  14.08   8.6723      1      0      0   \n3      1126.38   3.91  ...  2212  100.00  10.59   6.4701      0      0      0   \n4      1047.93   7.05  ...  1915   84.93  14.13   8.5286      1      0      0   \n...        ...    ...  ...   ...     ...    ...      ...    ...    ...    ...   \n53754  1269.51   9.35  ...  2324  100.00  24.36  14.5189      0      0      0   \n53755  1324.12  10.52  ...  2319  100.00  28.10  16.9454      0      0      0   \n53756  1057.92   7.05  ...  1915   84.93  14.19   8.5503      1      0      0   \n53757  1066.30   7.05  ...  1915   84.93  14.05   8.3729      1      0      0   \n53758  1145.52   5.48  ...  2223  100.00  14.75   8.8446      0      1      0   \n\n       mode4  mode5  mode6  \n0          0      0      0  \n1          0      0      1  \n2          0      0      0  \n3          0      0      1  \n4          0      0      0  \n...      ...    ...    ...  \n53754      1      0      0  \n53755      0      1      0  \n53756      0      0      0  \n53757      0      0      0  \n53758      0      0      0  \n\n[53759 rows x 32 columns]",
      "text/html": "<div>\n<style scoped>\n    .dataframe tbody tr th:only-of-type {\n        vertical-align: middle;\n    }\n\n    .dataframe tbody tr th {\n        vertical-align: top;\n    }\n\n    .dataframe thead th {\n        text-align: right;\n    }\n</style>\n<table border=\"1\" class=\"dataframe\">\n  <thead>\n    <tr style=\"text-align: right;\">\n      <th></th>\n      <th>id</th>\n      <th>cycle</th>\n      <th>setting1</th>\n      <th>setting2</th>\n      <th>setting3</th>\n      <th>s1</th>\n      <th>s2</th>\n      <th>s3</th>\n      <th>s4</th>\n      <th>s5</th>\n      <th>...</th>\n      <th>s18</th>\n      <th>s19</th>\n      <th>s20</th>\n      <th>s21</th>\n      <th>mode1</th>\n      <th>mode2</th>\n      <th>mode3</th>\n      <th>mode4</th>\n      <th>mode5</th>\n      <th>mode6</th>\n    </tr>\n  </thead>\n  <tbody>\n    <tr>\n      <th>0</th>\n      <td>1</td>\n      <td>1</td>\n      <td>34.9983</td>\n      <td>0.8400</td>\n      <td>100.0</td>\n      <td>449.44</td>\n      <td>555.32</td>\n      <td>1358.61</td>\n      <td>1137.23</td>\n      <td>5.48</td>\n      <td>...</td>\n      <td>2223</td>\n      <td>100.00</td>\n      <td>14.73</td>\n      <td>8.8071</td>\n      <td>0</td>\n      <td>1</td>\n      <td>0</td>\n      <td>0</td>\n      <td>0</td>\n      <td>0</td>\n    </tr>\n    <tr>\n      <th>1</th>\n      <td>1</td>\n      <td>2</td>\n      <td>41.9982</td>\n      <td>0.8408</td>\n      <td>100.0</td>\n      <td>445.00</td>\n      <td>549.90</td>\n      <td>1353.22</td>\n      <td>1125.78</td>\n      <td>3.91</td>\n      <td>...</td>\n      <td>2212</td>\n      <td>100.00</td>\n      <td>10.41</td>\n      <td>6.2665</td>\n      <td>0</td>\n      <td>0</td>\n      <td>0</td>\n      <td>0</td>\n      <td>0</td>\n      <td>1</td>\n    </tr>\n    <tr>\n      <th>2</th>\n      <td>1</td>\n      <td>3</td>\n      <td>24.9988</td>\n      <td>0.6218</td>\n      <td>60.0</td>\n      <td>462.54</td>\n      <td>537.31</td>\n      <td>1256.76</td>\n      <td>1047.45</td>\n      <td>7.05</td>\n      <td>...</td>\n      <td>1915</td>\n      <td>84.93</td>\n      <td>14.08</td>\n      <td>8.6723</td>\n      <td>1</td>\n      <td>0</td>\n      <td>0</td>\n      <td>0</td>\n      <td>0</td>\n      <td>0</td>\n    </tr>\n    <tr>\n      <th>3</th>\n      <td>1</td>\n      <td>4</td>\n      <td>42.0077</td>\n      <td>0.8416</td>\n      <td>100.0</td>\n      <td>445.00</td>\n      <td>549.51</td>\n      <td>1354.03</td>\n      <td>1126.38</td>\n      <td>3.91</td>\n      <td>...</td>\n      <td>2212</td>\n      <td>100.00</td>\n      <td>10.59</td>\n      <td>6.4701</td>\n      <td>0</td>\n      <td>0</td>\n      <td>0</td>\n      <td>0</td>\n      <td>0</td>\n      <td>1</td>\n    </tr>\n    <tr>\n      <th>4</th>\n      <td>1</td>\n      <td>5</td>\n      <td>25.0005</td>\n      <td>0.6203</td>\n      <td>60.0</td>\n      <td>462.54</td>\n      <td>537.07</td>\n      <td>1257.71</td>\n      <td>1047.93</td>\n      <td>7.05</td>\n      <td>...</td>\n      <td>1915</td>\n      <td>84.93</td>\n      <td>14.13</td>\n      <td>8.5286</td>\n      <td>1</td>\n      <td>0</td>\n      <td>0</td>\n      <td>0</td>\n      <td>0</td>\n      <td>0</td>\n    </tr>\n    <tr>\n      <th>...</th>\n      <td>...</td>\n      <td>...</td>\n      <td>...</td>\n      <td>...</td>\n      <td>...</td>\n      <td>...</td>\n      <td>...</td>\n      <td>...</td>\n      <td>...</td>\n      <td>...</td>\n      <td>...</td>\n      <td>...</td>\n      <td>...</td>\n      <td>...</td>\n      <td>...</td>\n      <td>...</td>\n      <td>...</td>\n      <td>...</td>\n      <td>...</td>\n      <td>...</td>\n      <td>...</td>\n    </tr>\n    <tr>\n      <th>53754</th>\n      <td>260</td>\n      <td>312</td>\n      <td>20.0037</td>\n      <td>0.7000</td>\n      <td>100.0</td>\n      <td>491.19</td>\n      <td>608.79</td>\n      <td>1495.60</td>\n      <td>1269.51</td>\n      <td>9.35</td>\n      <td>...</td>\n      <td>2324</td>\n      <td>100.00</td>\n      <td>24.36</td>\n      <td>14.5189</td>\n      <td>0</td>\n      <td>0</td>\n      <td>0</td>\n      <td>1</td>\n      <td>0</td>\n      <td>0</td>\n    </tr>\n    <tr>\n      <th>53755</th>\n      <td>260</td>\n      <td>313</td>\n      <td>10.0022</td>\n      <td>0.2510</td>\n      <td>100.0</td>\n      <td>489.05</td>\n      <td>605.81</td>\n      <td>1514.32</td>\n      <td>1324.12</td>\n      <td>10.52</td>\n      <td>...</td>\n      <td>2319</td>\n      <td>100.00</td>\n      <td>28.10</td>\n      <td>16.9454</td>\n      <td>0</td>\n      <td>0</td>\n      <td>0</td>\n      <td>0</td>\n      <td>1</td>\n      <td>0</td>\n    </tr>\n    <tr>\n      <th>53756</th>\n      <td>260</td>\n      <td>314</td>\n      <td>25.0041</td>\n      <td>0.6200</td>\n      <td>60.0</td>\n      <td>462.54</td>\n      <td>537.48</td>\n      <td>1276.24</td>\n      <td>1057.92</td>\n      <td>7.05</td>\n      <td>...</td>\n      <td>1915</td>\n      <td>84.93</td>\n      <td>14.19</td>\n      <td>8.5503</td>\n      <td>1</td>\n      <td>0</td>\n      <td>0</td>\n      <td>0</td>\n      <td>0</td>\n      <td>0</td>\n    </tr>\n    <tr>\n      <th>53757</th>\n      <td>260</td>\n      <td>315</td>\n      <td>25.0033</td>\n      <td>0.6220</td>\n      <td>60.0</td>\n      <td>462.54</td>\n      <td>537.84</td>\n      <td>1272.95</td>\n      <td>1066.30</td>\n      <td>7.05</td>\n      <td>...</td>\n      <td>1915</td>\n      <td>84.93</td>\n      <td>14.05</td>\n      <td>8.3729</td>\n      <td>1</td>\n      <td>0</td>\n      <td>0</td>\n      <td>0</td>\n      <td>0</td>\n      <td>0</td>\n    </tr>\n    <tr>\n      <th>53758</th>\n      <td>260</td>\n      <td>316</td>\n      <td>35.0036</td>\n      <td>0.8400</td>\n      <td>100.0</td>\n      <td>449.44</td>\n      <td>556.64</td>\n      <td>1374.61</td>\n      <td>1145.52</td>\n      <td>5.48</td>\n      <td>...</td>\n      <td>2223</td>\n      <td>100.00</td>\n      <td>14.75</td>\n      <td>8.8446</td>\n      <td>0</td>\n      <td>1</td>\n      <td>0</td>\n      <td>0</td>\n      <td>0</td>\n      <td>0</td>\n    </tr>\n  </tbody>\n</table>\n<p>53759 rows × 32 columns</p>\n</div>"
     },
     "metadata": {},
     "execution_count": 16
    }
   ],
   "source": [
    "train_df"
   ]
  },
  {
   "cell_type": "code",
   "execution_count": 17,
   "metadata": {},
   "outputs": [],
   "source": [
    "td['mode1']=0\n",
    "td['mode2']=0\n",
    "td['mode3']=0\n",
    "td['mode4']=0\n",
    "td['mode5']=0\n",
    "td['mode6']=0\n",
    "td.loc[test_mode[0]==0,['mode1','mode2','mode3','mode4','mode5','mode6']]=[1,0,0,0,0,0]\n",
    "td.loc[test_mode[0]==1,['mode1','mode2','mode3','mode4','mode5','mode6']]=[0,1,0,0,0,0]\n",
    "td.loc[test_mode[0]==2,['mode1','mode2','mode3','mode4','mode5','mode6']]=[0,0,1,0,0,0]\n",
    "td.loc[test_mode[0]==3,['mode1','mode2','mode3','mode4','mode5','mode6']]=[0,0,0,1,0,0]\n",
    "td.loc[test_mode[0]==4,['mode1','mode2','mode3','mode4','mode5','mode6']]=[0,0,0,0,1,0]\n",
    "td.loc[test_mode[0]==5,['mode1','mode2','mode3','mode4','mode5','mode6']]=[0,0,0,0,0,1]"
   ]
  },
  {
   "cell_type": "code",
   "execution_count": 18,
   "metadata": {},
   "outputs": [
    {
     "output_type": "execute_result",
     "data": {
      "text/plain": "        id  cycle  setting1  setting2  setting3      s1      s2       s3  \\\n0        1      1    9.9987    0.2502     100.0  489.05  605.03  1497.17   \n1        1      2   20.0026    0.7000     100.0  491.19  607.82  1481.20   \n2        1      3   35.0045    0.8400     100.0  449.44  556.00  1359.08   \n3        1      4   42.0066    0.8410     100.0  445.00  550.17  1349.69   \n4        1      5   24.9985    0.6213      60.0  462.54  536.72  1253.18   \n...    ...    ...       ...       ...       ...     ...     ...      ...   \n33986  259    119   35.0015    0.8403     100.0  449.44  555.56  1366.01   \n33987  259    120   42.0066    0.8405     100.0  445.00  549.42  1351.13   \n33988  259    121   42.0061    0.8400     100.0  445.00  549.65  1349.14   \n33989  259    122    0.0024    0.0003     100.0  518.67  642.58  1589.61   \n33990  259    123   42.0033    0.8400     100.0  445.00  549.77  1342.50   \n\n            s4     s5  ...   s18     s19    s20      s21  mode1  mode2  mode3  \\\n0      1304.99  10.52  ...  2319  100.00  28.42  17.1551      0      0      0   \n1      1246.11   9.35  ...  2324  100.00  24.29  14.8039      0      0      0   \n2      1128.36   5.48  ...  2223  100.00  14.98   8.9125      0      1      0   \n3      1127.89   3.91  ...  2212  100.00  10.35   6.4181      0      0      0   \n4      1050.69   7.05  ...  1915   84.93  14.31   8.5740      1      0      0   \n...        ...    ...  ...   ...     ...    ...      ...    ...    ...    ...   \n33986  1129.47   5.48  ...  2223  100.00  14.94   8.9065      0      1      0   \n33987  1123.86   3.91  ...  2212  100.00  10.57   6.4075      0      0      0   \n33988  1118.91   3.91  ...  2212  100.00  10.57   6.4805      0      0      0   \n33989  1408.16  14.62  ...  2388  100.00  39.08  23.3589      0      0      1   \n33990  1126.96   3.91  ...  2212  100.00  10.63   6.3480      0      0      0   \n\n       mode4  mode5  mode6  \n0          0      1      0  \n1          1      0      0  \n2          0      0      0  \n3          0      0      1  \n4          0      0      0  \n...      ...    ...    ...  \n33986      0      0      0  \n33987      0      0      1  \n33988      0      0      1  \n33989      0      0      0  \n33990      0      0      1  \n\n[33991 rows x 32 columns]",
      "text/html": "<div>\n<style scoped>\n    .dataframe tbody tr th:only-of-type {\n        vertical-align: middle;\n    }\n\n    .dataframe tbody tr th {\n        vertical-align: top;\n    }\n\n    .dataframe thead th {\n        text-align: right;\n    }\n</style>\n<table border=\"1\" class=\"dataframe\">\n  <thead>\n    <tr style=\"text-align: right;\">\n      <th></th>\n      <th>id</th>\n      <th>cycle</th>\n      <th>setting1</th>\n      <th>setting2</th>\n      <th>setting3</th>\n      <th>s1</th>\n      <th>s2</th>\n      <th>s3</th>\n      <th>s4</th>\n      <th>s5</th>\n      <th>...</th>\n      <th>s18</th>\n      <th>s19</th>\n      <th>s20</th>\n      <th>s21</th>\n      <th>mode1</th>\n      <th>mode2</th>\n      <th>mode3</th>\n      <th>mode4</th>\n      <th>mode5</th>\n      <th>mode6</th>\n    </tr>\n  </thead>\n  <tbody>\n    <tr>\n      <th>0</th>\n      <td>1</td>\n      <td>1</td>\n      <td>9.9987</td>\n      <td>0.2502</td>\n      <td>100.0</td>\n      <td>489.05</td>\n      <td>605.03</td>\n      <td>1497.17</td>\n      <td>1304.99</td>\n      <td>10.52</td>\n      <td>...</td>\n      <td>2319</td>\n      <td>100.00</td>\n      <td>28.42</td>\n      <td>17.1551</td>\n      <td>0</td>\n      <td>0</td>\n      <td>0</td>\n      <td>0</td>\n      <td>1</td>\n      <td>0</td>\n    </tr>\n    <tr>\n      <th>1</th>\n      <td>1</td>\n      <td>2</td>\n      <td>20.0026</td>\n      <td>0.7000</td>\n      <td>100.0</td>\n      <td>491.19</td>\n      <td>607.82</td>\n      <td>1481.20</td>\n      <td>1246.11</td>\n      <td>9.35</td>\n      <td>...</td>\n      <td>2324</td>\n      <td>100.00</td>\n      <td>24.29</td>\n      <td>14.8039</td>\n      <td>0</td>\n      <td>0</td>\n      <td>0</td>\n      <td>1</td>\n      <td>0</td>\n      <td>0</td>\n    </tr>\n    <tr>\n      <th>2</th>\n      <td>1</td>\n      <td>3</td>\n      <td>35.0045</td>\n      <td>0.8400</td>\n      <td>100.0</td>\n      <td>449.44</td>\n      <td>556.00</td>\n      <td>1359.08</td>\n      <td>1128.36</td>\n      <td>5.48</td>\n      <td>...</td>\n      <td>2223</td>\n      <td>100.00</td>\n      <td>14.98</td>\n      <td>8.9125</td>\n      <td>0</td>\n      <td>1</td>\n      <td>0</td>\n      <td>0</td>\n      <td>0</td>\n      <td>0</td>\n    </tr>\n    <tr>\n      <th>3</th>\n      <td>1</td>\n      <td>4</td>\n      <td>42.0066</td>\n      <td>0.8410</td>\n      <td>100.0</td>\n      <td>445.00</td>\n      <td>550.17</td>\n      <td>1349.69</td>\n      <td>1127.89</td>\n      <td>3.91</td>\n      <td>...</td>\n      <td>2212</td>\n      <td>100.00</td>\n      <td>10.35</td>\n      <td>6.4181</td>\n      <td>0</td>\n      <td>0</td>\n      <td>0</td>\n      <td>0</td>\n      <td>0</td>\n      <td>1</td>\n    </tr>\n    <tr>\n      <th>4</th>\n      <td>1</td>\n      <td>5</td>\n      <td>24.9985</td>\n      <td>0.6213</td>\n      <td>60.0</td>\n      <td>462.54</td>\n      <td>536.72</td>\n      <td>1253.18</td>\n      <td>1050.69</td>\n      <td>7.05</td>\n      <td>...</td>\n      <td>1915</td>\n      <td>84.93</td>\n      <td>14.31</td>\n      <td>8.5740</td>\n      <td>1</td>\n      <td>0</td>\n      <td>0</td>\n      <td>0</td>\n      <td>0</td>\n      <td>0</td>\n    </tr>\n    <tr>\n      <th>...</th>\n      <td>...</td>\n      <td>...</td>\n      <td>...</td>\n      <td>...</td>\n      <td>...</td>\n      <td>...</td>\n      <td>...</td>\n      <td>...</td>\n      <td>...</td>\n      <td>...</td>\n      <td>...</td>\n      <td>...</td>\n      <td>...</td>\n      <td>...</td>\n      <td>...</td>\n      <td>...</td>\n      <td>...</td>\n      <td>...</td>\n      <td>...</td>\n      <td>...</td>\n      <td>...</td>\n    </tr>\n    <tr>\n      <th>33986</th>\n      <td>259</td>\n      <td>119</td>\n      <td>35.0015</td>\n      <td>0.8403</td>\n      <td>100.0</td>\n      <td>449.44</td>\n      <td>555.56</td>\n      <td>1366.01</td>\n      <td>1129.47</td>\n      <td>5.48</td>\n      <td>...</td>\n      <td>2223</td>\n      <td>100.00</td>\n      <td>14.94</td>\n      <td>8.9065</td>\n      <td>0</td>\n      <td>1</td>\n      <td>0</td>\n      <td>0</td>\n      <td>0</td>\n      <td>0</td>\n    </tr>\n    <tr>\n      <th>33987</th>\n      <td>259</td>\n      <td>120</td>\n      <td>42.0066</td>\n      <td>0.8405</td>\n      <td>100.0</td>\n      <td>445.00</td>\n      <td>549.42</td>\n      <td>1351.13</td>\n      <td>1123.86</td>\n      <td>3.91</td>\n      <td>...</td>\n      <td>2212</td>\n      <td>100.00</td>\n      <td>10.57</td>\n      <td>6.4075</td>\n      <td>0</td>\n      <td>0</td>\n      <td>0</td>\n      <td>0</td>\n      <td>0</td>\n      <td>1</td>\n    </tr>\n    <tr>\n      <th>33988</th>\n      <td>259</td>\n      <td>121</td>\n      <td>42.0061</td>\n      <td>0.8400</td>\n      <td>100.0</td>\n      <td>445.00</td>\n      <td>549.65</td>\n      <td>1349.14</td>\n      <td>1118.91</td>\n      <td>3.91</td>\n      <td>...</td>\n      <td>2212</td>\n      <td>100.00</td>\n      <td>10.57</td>\n      <td>6.4805</td>\n      <td>0</td>\n      <td>0</td>\n      <td>0</td>\n      <td>0</td>\n      <td>0</td>\n      <td>1</td>\n    </tr>\n    <tr>\n      <th>33989</th>\n      <td>259</td>\n      <td>122</td>\n      <td>0.0024</td>\n      <td>0.0003</td>\n      <td>100.0</td>\n      <td>518.67</td>\n      <td>642.58</td>\n      <td>1589.61</td>\n      <td>1408.16</td>\n      <td>14.62</td>\n      <td>...</td>\n      <td>2388</td>\n      <td>100.00</td>\n      <td>39.08</td>\n      <td>23.3589</td>\n      <td>0</td>\n      <td>0</td>\n      <td>1</td>\n      <td>0</td>\n      <td>0</td>\n      <td>0</td>\n    </tr>\n    <tr>\n      <th>33990</th>\n      <td>259</td>\n      <td>123</td>\n      <td>42.0033</td>\n      <td>0.8400</td>\n      <td>100.0</td>\n      <td>445.00</td>\n      <td>549.77</td>\n      <td>1342.50</td>\n      <td>1126.96</td>\n      <td>3.91</td>\n      <td>...</td>\n      <td>2212</td>\n      <td>100.00</td>\n      <td>10.63</td>\n      <td>6.3480</td>\n      <td>0</td>\n      <td>0</td>\n      <td>0</td>\n      <td>0</td>\n      <td>0</td>\n      <td>1</td>\n    </tr>\n  </tbody>\n</table>\n<p>33991 rows × 32 columns</p>\n</div>"
     },
     "metadata": {},
     "execution_count": 18
    }
   ],
   "source": [
    "td"
   ]
  },
  {
   "cell_type": "markdown",
   "metadata": {},
   "source": [
    "### 数据处理"
   ],
   "execution_count": null,
   "outputs": []
  },
  {
   "cell_type": "code",
   "execution_count": 19,
   "metadata": {},
   "outputs": [
    {
     "output_type": "execute_result",
     "data": {
      "text/plain": "   id  cycle  setting1  setting2  setting3      s1      s2       s3       s4  \\\n0   1      1   34.9983    0.8400     100.0  449.44  555.32  1358.61  1137.23   \n1   1      2   41.9982    0.8408     100.0  445.00  549.90  1353.22  1125.78   \n2   1      3   24.9988    0.6218      60.0  462.54  537.31  1256.76  1047.45   \n3   1      4   42.0077    0.8416     100.0  445.00  549.51  1354.03  1126.38   \n4   1      5   25.0005    0.6203      60.0  462.54  537.07  1257.71  1047.93   \n\n     s5  ...     s19    s20     s21  mode1  mode2  mode3  mode4  mode5  mode6  \\\n0  5.48  ...  100.00  14.73  8.8071      0      1      0      0      0      0   \n1  3.91  ...  100.00  10.41  6.2665      0      0      0      0      0      1   \n2  7.05  ...   84.93  14.08  8.6723      1      0      0      0      0      0   \n3  3.91  ...  100.00  10.59  6.4701      0      0      0      0      0      1   \n4  7.05  ...   84.93  14.13  8.5286      1      0      0      0      0      0   \n\n   RUL  \n0  130  \n1  130  \n2  130  \n3  130  \n4  130  \n\n[5 rows x 33 columns]",
      "text/html": "<div>\n<style scoped>\n    .dataframe tbody tr th:only-of-type {\n        vertical-align: middle;\n    }\n\n    .dataframe tbody tr th {\n        vertical-align: top;\n    }\n\n    .dataframe thead th {\n        text-align: right;\n    }\n</style>\n<table border=\"1\" class=\"dataframe\">\n  <thead>\n    <tr style=\"text-align: right;\">\n      <th></th>\n      <th>id</th>\n      <th>cycle</th>\n      <th>setting1</th>\n      <th>setting2</th>\n      <th>setting3</th>\n      <th>s1</th>\n      <th>s2</th>\n      <th>s3</th>\n      <th>s4</th>\n      <th>s5</th>\n      <th>...</th>\n      <th>s19</th>\n      <th>s20</th>\n      <th>s21</th>\n      <th>mode1</th>\n      <th>mode2</th>\n      <th>mode3</th>\n      <th>mode4</th>\n      <th>mode5</th>\n      <th>mode6</th>\n      <th>RUL</th>\n    </tr>\n  </thead>\n  <tbody>\n    <tr>\n      <th>0</th>\n      <td>1</td>\n      <td>1</td>\n      <td>34.9983</td>\n      <td>0.8400</td>\n      <td>100.0</td>\n      <td>449.44</td>\n      <td>555.32</td>\n      <td>1358.61</td>\n      <td>1137.23</td>\n      <td>5.48</td>\n      <td>...</td>\n      <td>100.00</td>\n      <td>14.73</td>\n      <td>8.8071</td>\n      <td>0</td>\n      <td>1</td>\n      <td>0</td>\n      <td>0</td>\n      <td>0</td>\n      <td>0</td>\n      <td>130</td>\n    </tr>\n    <tr>\n      <th>1</th>\n      <td>1</td>\n      <td>2</td>\n      <td>41.9982</td>\n      <td>0.8408</td>\n      <td>100.0</td>\n      <td>445.00</td>\n      <td>549.90</td>\n      <td>1353.22</td>\n      <td>1125.78</td>\n      <td>3.91</td>\n      <td>...</td>\n      <td>100.00</td>\n      <td>10.41</td>\n      <td>6.2665</td>\n      <td>0</td>\n      <td>0</td>\n      <td>0</td>\n      <td>0</td>\n      <td>0</td>\n      <td>1</td>\n      <td>130</td>\n    </tr>\n    <tr>\n      <th>2</th>\n      <td>1</td>\n      <td>3</td>\n      <td>24.9988</td>\n      <td>0.6218</td>\n      <td>60.0</td>\n      <td>462.54</td>\n      <td>537.31</td>\n      <td>1256.76</td>\n      <td>1047.45</td>\n      <td>7.05</td>\n      <td>...</td>\n      <td>84.93</td>\n      <td>14.08</td>\n      <td>8.6723</td>\n      <td>1</td>\n      <td>0</td>\n      <td>0</td>\n      <td>0</td>\n      <td>0</td>\n      <td>0</td>\n      <td>130</td>\n    </tr>\n    <tr>\n      <th>3</th>\n      <td>1</td>\n      <td>4</td>\n      <td>42.0077</td>\n      <td>0.8416</td>\n      <td>100.0</td>\n      <td>445.00</td>\n      <td>549.51</td>\n      <td>1354.03</td>\n      <td>1126.38</td>\n      <td>3.91</td>\n      <td>...</td>\n      <td>100.00</td>\n      <td>10.59</td>\n      <td>6.4701</td>\n      <td>0</td>\n      <td>0</td>\n      <td>0</td>\n      <td>0</td>\n      <td>0</td>\n      <td>1</td>\n      <td>130</td>\n    </tr>\n    <tr>\n      <th>4</th>\n      <td>1</td>\n      <td>5</td>\n      <td>25.0005</td>\n      <td>0.6203</td>\n      <td>60.0</td>\n      <td>462.54</td>\n      <td>537.07</td>\n      <td>1257.71</td>\n      <td>1047.93</td>\n      <td>7.05</td>\n      <td>...</td>\n      <td>84.93</td>\n      <td>14.13</td>\n      <td>8.5286</td>\n      <td>1</td>\n      <td>0</td>\n      <td>0</td>\n      <td>0</td>\n      <td>0</td>\n      <td>0</td>\n      <td>130</td>\n    </tr>\n  </tbody>\n</table>\n<p>5 rows × 33 columns</p>\n</div>"
     },
     "metadata": {},
     "execution_count": 19
    }
   ],
   "source": [
    "# Data Labeling - generate column RUL\n",
    "rul = pd.DataFrame(train_df.groupby('id')['cycle'].max()).reset_index()\n",
    "rul.columns = ['id', 'max']\n",
    "train_df = train_df.merge(rul, on=['id'], how='left')\n",
    "train_df['RUL'] = train_df['max'] - train_df['cycle']\n",
    "train_df.drop('max', axis=1, inplace=True)\n",
    "train_df.loc[train_df['RUL']>130,['RUL']]=130\n",
    "train_df.head()"
   ]
  },
  {
   "cell_type": "code",
   "execution_count": 20,
   "metadata": {},
   "outputs": [],
   "source": [
    "#  train_df.to_csv('./data/processed_train_data.csv')"
   ]
  },
  {
   "cell_type": "code",
   "execution_count": 21,
   "metadata": {},
   "outputs": [
    {
     "output_type": "execute_result",
     "data": {
      "text/plain": "        id  cycle  setting1  setting2  setting3        s1        s2        s3  \\\n0        1      1  0.833134  0.997625       1.0  0.060269  0.181576  0.311201   \n1        1      2  0.999767  0.998575       1.0  0.000000  0.131847  0.296600   \n2        1      3  0.595096  0.738480       0.0  0.238089  0.016332  0.035297   \n3        1      4  0.999993  0.999525       1.0  0.000000  0.128269  0.298795   \n4        1      5  0.595137  0.736698       0.0  0.238089  0.014130  0.037871   \n...    ...    ...       ...       ...       ...       ...       ...       ...   \n53754  260    312  0.476188  0.831354       1.0  0.626985  0.672172  0.682297   \n53755  260    313  0.238102  0.298100       1.0  0.597937  0.644830  0.733008   \n53756  260    314  0.595222  0.736342       0.0  0.238089  0.017892  0.088067   \n53757  260    315  0.595203  0.738717       0.0  0.238089  0.021195  0.079155   \n53758  260    316  0.833260  0.997625       1.0  0.060269  0.193687  0.354544   \n\n             s4        s5  ...       s20       s21  mode1  mode2  mode3  \\\n0      0.273095  0.146592  ...  0.156036  0.159082    0.0    1.0    0.0   \n1      0.245535  0.000000  ...  0.007888  0.014562    0.0    0.0    0.0   \n2      0.056997  0.293184  ...  0.133745  0.151414    1.0    0.0    0.0   \n3      0.246979  0.000000  ...  0.014060  0.026144    0.0    0.0    0.0   \n4      0.058152  0.293184  ...  0.135460  0.143240    1.0    0.0    0.0   \n...         ...       ...  ...       ...       ...    ...    ...    ...   \n53754  0.591489  0.507937  ...  0.486283  0.483993    0.0    0.0    0.0   \n53755  0.722934  0.617180  ...  0.614540  0.622022    0.0    0.0    0.0   \n53756  0.082198  0.293184  ...  0.137517  0.144474    1.0    0.0    0.0   \n53757  0.102368  0.293184  ...  0.132716  0.134383    1.0    0.0    0.0   \n53758  0.293049  0.146592  ...  0.156722  0.161215    0.0    1.0    0.0   \n\n       mode4  mode5  mode6  RUL  cycle_norm  \n0        0.0    0.0    0.0  130    0.000000  \n1        0.0    0.0    1.0  130    0.002653  \n2        0.0    0.0    0.0  130    0.005305  \n3        0.0    0.0    1.0  130    0.007958  \n4        0.0    0.0    0.0  130    0.010610  \n...      ...    ...    ...  ...         ...  \n53754    1.0    0.0    0.0    4    0.824934  \n53755    0.0    1.0    0.0    3    0.827586  \n53756    0.0    0.0    0.0    2    0.830239  \n53757    0.0    0.0    0.0    1    0.832891  \n53758    0.0    0.0    0.0    0    0.835544  \n\n[53759 rows x 34 columns]",
      "text/html": "<div>\n<style scoped>\n    .dataframe tbody tr th:only-of-type {\n        vertical-align: middle;\n    }\n\n    .dataframe tbody tr th {\n        vertical-align: top;\n    }\n\n    .dataframe thead th {\n        text-align: right;\n    }\n</style>\n<table border=\"1\" class=\"dataframe\">\n  <thead>\n    <tr style=\"text-align: right;\">\n      <th></th>\n      <th>id</th>\n      <th>cycle</th>\n      <th>setting1</th>\n      <th>setting2</th>\n      <th>setting3</th>\n      <th>s1</th>\n      <th>s2</th>\n      <th>s3</th>\n      <th>s4</th>\n      <th>s5</th>\n      <th>...</th>\n      <th>s20</th>\n      <th>s21</th>\n      <th>mode1</th>\n      <th>mode2</th>\n      <th>mode3</th>\n      <th>mode4</th>\n      <th>mode5</th>\n      <th>mode6</th>\n      <th>RUL</th>\n      <th>cycle_norm</th>\n    </tr>\n  </thead>\n  <tbody>\n    <tr>\n      <th>0</th>\n      <td>1</td>\n      <td>1</td>\n      <td>0.833134</td>\n      <td>0.997625</td>\n      <td>1.0</td>\n      <td>0.060269</td>\n      <td>0.181576</td>\n      <td>0.311201</td>\n      <td>0.273095</td>\n      <td>0.146592</td>\n      <td>...</td>\n      <td>0.156036</td>\n      <td>0.159082</td>\n      <td>0.0</td>\n      <td>1.0</td>\n      <td>0.0</td>\n      <td>0.0</td>\n      <td>0.0</td>\n      <td>0.0</td>\n      <td>130</td>\n      <td>0.000000</td>\n    </tr>\n    <tr>\n      <th>1</th>\n      <td>1</td>\n      <td>2</td>\n      <td>0.999767</td>\n      <td>0.998575</td>\n      <td>1.0</td>\n      <td>0.000000</td>\n      <td>0.131847</td>\n      <td>0.296600</td>\n      <td>0.245535</td>\n      <td>0.000000</td>\n      <td>...</td>\n      <td>0.007888</td>\n      <td>0.014562</td>\n      <td>0.0</td>\n      <td>0.0</td>\n      <td>0.0</td>\n      <td>0.0</td>\n      <td>0.0</td>\n      <td>1.0</td>\n      <td>130</td>\n      <td>0.002653</td>\n    </tr>\n    <tr>\n      <th>2</th>\n      <td>1</td>\n      <td>3</td>\n      <td>0.595096</td>\n      <td>0.738480</td>\n      <td>0.0</td>\n      <td>0.238089</td>\n      <td>0.016332</td>\n      <td>0.035297</td>\n      <td>0.056997</td>\n      <td>0.293184</td>\n      <td>...</td>\n      <td>0.133745</td>\n      <td>0.151414</td>\n      <td>1.0</td>\n      <td>0.0</td>\n      <td>0.0</td>\n      <td>0.0</td>\n      <td>0.0</td>\n      <td>0.0</td>\n      <td>130</td>\n      <td>0.005305</td>\n    </tr>\n    <tr>\n      <th>3</th>\n      <td>1</td>\n      <td>4</td>\n      <td>0.999993</td>\n      <td>0.999525</td>\n      <td>1.0</td>\n      <td>0.000000</td>\n      <td>0.128269</td>\n      <td>0.298795</td>\n      <td>0.246979</td>\n      <td>0.000000</td>\n      <td>...</td>\n      <td>0.014060</td>\n      <td>0.026144</td>\n      <td>0.0</td>\n      <td>0.0</td>\n      <td>0.0</td>\n      <td>0.0</td>\n      <td>0.0</td>\n      <td>1.0</td>\n      <td>130</td>\n      <td>0.007958</td>\n    </tr>\n    <tr>\n      <th>4</th>\n      <td>1</td>\n      <td>5</td>\n      <td>0.595137</td>\n      <td>0.736698</td>\n      <td>0.0</td>\n      <td>0.238089</td>\n      <td>0.014130</td>\n      <td>0.037871</td>\n      <td>0.058152</td>\n      <td>0.293184</td>\n      <td>...</td>\n      <td>0.135460</td>\n      <td>0.143240</td>\n      <td>1.0</td>\n      <td>0.0</td>\n      <td>0.0</td>\n      <td>0.0</td>\n      <td>0.0</td>\n      <td>0.0</td>\n      <td>130</td>\n      <td>0.010610</td>\n    </tr>\n    <tr>\n      <th>...</th>\n      <td>...</td>\n      <td>...</td>\n      <td>...</td>\n      <td>...</td>\n      <td>...</td>\n      <td>...</td>\n      <td>...</td>\n      <td>...</td>\n      <td>...</td>\n      <td>...</td>\n      <td>...</td>\n      <td>...</td>\n      <td>...</td>\n      <td>...</td>\n      <td>...</td>\n      <td>...</td>\n      <td>...</td>\n      <td>...</td>\n      <td>...</td>\n      <td>...</td>\n      <td>...</td>\n    </tr>\n    <tr>\n      <th>53754</th>\n      <td>260</td>\n      <td>312</td>\n      <td>0.476188</td>\n      <td>0.831354</td>\n      <td>1.0</td>\n      <td>0.626985</td>\n      <td>0.672172</td>\n      <td>0.682297</td>\n      <td>0.591489</td>\n      <td>0.507937</td>\n      <td>...</td>\n      <td>0.486283</td>\n      <td>0.483993</td>\n      <td>0.0</td>\n      <td>0.0</td>\n      <td>0.0</td>\n      <td>1.0</td>\n      <td>0.0</td>\n      <td>0.0</td>\n      <td>4</td>\n      <td>0.824934</td>\n    </tr>\n    <tr>\n      <th>53755</th>\n      <td>260</td>\n      <td>313</td>\n      <td>0.238102</td>\n      <td>0.298100</td>\n      <td>1.0</td>\n      <td>0.597937</td>\n      <td>0.644830</td>\n      <td>0.733008</td>\n      <td>0.722934</td>\n      <td>0.617180</td>\n      <td>...</td>\n      <td>0.614540</td>\n      <td>0.622022</td>\n      <td>0.0</td>\n      <td>0.0</td>\n      <td>0.0</td>\n      <td>0.0</td>\n      <td>1.0</td>\n      <td>0.0</td>\n      <td>3</td>\n      <td>0.827586</td>\n    </tr>\n    <tr>\n      <th>53756</th>\n      <td>260</td>\n      <td>314</td>\n      <td>0.595222</td>\n      <td>0.736342</td>\n      <td>0.0</td>\n      <td>0.238089</td>\n      <td>0.017892</td>\n      <td>0.088067</td>\n      <td>0.082198</td>\n      <td>0.293184</td>\n      <td>...</td>\n      <td>0.137517</td>\n      <td>0.144474</td>\n      <td>1.0</td>\n      <td>0.0</td>\n      <td>0.0</td>\n      <td>0.0</td>\n      <td>0.0</td>\n      <td>0.0</td>\n      <td>2</td>\n      <td>0.830239</td>\n    </tr>\n    <tr>\n      <th>53757</th>\n      <td>260</td>\n      <td>315</td>\n      <td>0.595203</td>\n      <td>0.738717</td>\n      <td>0.0</td>\n      <td>0.238089</td>\n      <td>0.021195</td>\n      <td>0.079155</td>\n      <td>0.102368</td>\n      <td>0.293184</td>\n      <td>...</td>\n      <td>0.132716</td>\n      <td>0.134383</td>\n      <td>1.0</td>\n      <td>0.0</td>\n      <td>0.0</td>\n      <td>0.0</td>\n      <td>0.0</td>\n      <td>0.0</td>\n      <td>1</td>\n      <td>0.832891</td>\n    </tr>\n    <tr>\n      <th>53758</th>\n      <td>260</td>\n      <td>316</td>\n      <td>0.833260</td>\n      <td>0.997625</td>\n      <td>1.0</td>\n      <td>0.060269</td>\n      <td>0.193687</td>\n      <td>0.354544</td>\n      <td>0.293049</td>\n      <td>0.146592</td>\n      <td>...</td>\n      <td>0.156722</td>\n      <td>0.161215</td>\n      <td>0.0</td>\n      <td>1.0</td>\n      <td>0.0</td>\n      <td>0.0</td>\n      <td>0.0</td>\n      <td>0.0</td>\n      <td>0</td>\n      <td>0.835544</td>\n    </tr>\n  </tbody>\n</table>\n<p>53759 rows × 34 columns</p>\n</div>"
     },
     "metadata": {},
     "execution_count": 21
    }
   ],
   "source": [
    "# normalize the columns in the training data.\n",
    "# MinMax normalization\n",
    "train_df['cycle_norm'] = train_df['cycle']\n",
    "cols_normalize = train_df.columns.difference(['id','cycle','RUL'])\n",
    "min_max_scaler = preprocessing.MinMaxScaler()\n",
    "norm_train_df = pd.DataFrame(min_max_scaler.fit_transform(train_df[cols_normalize]), \n",
    "                             columns=cols_normalize, \n",
    "                             index=train_df.index)\n",
    "join_df = train_df[train_df.columns.difference(cols_normalize)].join(norm_train_df)\n",
    "train_df = join_df.reindex(columns = train_df.columns)\n",
    "train_df"
   ]
  },
  {
   "cell_type": "code",
   "execution_count": 22,
   "metadata": {},
   "outputs": [
    {
     "output_type": "execute_result",
     "data": {
      "text/plain": "        id  cycle  setting1  setting2  setting3        s1        s2        s3  \\\n0        1      1  0.238019  0.297150       1.0  0.597937  0.639243  0.691329   \n1        1      2  0.476162  0.831354       1.0  0.626985  0.664861  0.647519   \n2        1      3  0.833282  0.997625       1.0  0.060269  0.189055  0.312512   \n3        1      4  0.999967  0.998812       1.0  0.000000  0.135525  0.286753   \n4        1      5  0.595089  0.737886       0.0  0.238089  0.012028  0.022001   \n...    ...    ...       ...       ...       ...       ...       ...       ...   \n33986  259    119  0.833210  0.997981       1.0  0.060269  0.185015  0.331523   \n33987  259    120  0.999967  0.998219       1.0  0.000000  0.128638  0.290703   \n33988  259    121  0.999955  0.997625       1.0  0.000000  0.130750  0.285244   \n33989  259    122  0.000057  0.000356       1.0  1.000000  0.984024  0.944915   \n33990  259    123  0.999888  0.997625       1.0  0.000000  0.131852  0.267029   \n\n             s4        s5  ...  s19       s20       s21  mode1  mode2  mode3  \\\n0      0.680395  0.617180  ...  1.0  0.625944  0.630724    0.0    0.0    0.0   \n1      0.534663  0.507937  ...  1.0  0.484214  0.496301    0.0    0.0    0.0   \n2      0.243225  0.146592  ...  1.0  0.164722  0.159476    0.0    1.0    0.0   \n3      0.242061  0.000000  ...  1.0  0.005834  0.016866    0.0    0.0    0.0   \n4      0.050986  0.293184  ...  0.0  0.141730  0.140123    1.0    0.0    0.0   \n...         ...       ...  ...  ...       ...       ...    ...    ...    ...   \n33986  0.245972  0.146592  ...  1.0  0.163349  0.159133    0.0    1.0    0.0   \n33987  0.232087  0.000000  ...  1.0  0.013384  0.016260    0.0    0.0    0.0   \n33988  0.219835  0.000000  ...  1.0  0.013384  0.020433    0.0    0.0    0.0   \n33989  0.935747  1.000000  ...  1.0  0.991764  0.985410    0.0    0.0    1.0   \n33990  0.239759  0.000000  ...  1.0  0.015443  0.012858    0.0    0.0    0.0   \n\n       mode4  mode5  mode6  cycle_norm  \n0        0.0    1.0    0.0    0.000000  \n1        1.0    0.0    0.0    0.002732  \n2        0.0    0.0    0.0    0.005464  \n3        0.0    0.0    1.0    0.008197  \n4        0.0    0.0    0.0    0.010929  \n...      ...    ...    ...         ...  \n33986    0.0    0.0    0.0    0.322404  \n33987    0.0    0.0    1.0    0.325137  \n33988    0.0    0.0    1.0    0.327869  \n33989    0.0    0.0    0.0    0.330601  \n33990    0.0    0.0    1.0    0.333333  \n\n[33991 rows x 33 columns]",
      "text/html": "<div>\n<style scoped>\n    .dataframe tbody tr th:only-of-type {\n        vertical-align: middle;\n    }\n\n    .dataframe tbody tr th {\n        vertical-align: top;\n    }\n\n    .dataframe thead th {\n        text-align: right;\n    }\n</style>\n<table border=\"1\" class=\"dataframe\">\n  <thead>\n    <tr style=\"text-align: right;\">\n      <th></th>\n      <th>id</th>\n      <th>cycle</th>\n      <th>setting1</th>\n      <th>setting2</th>\n      <th>setting3</th>\n      <th>s1</th>\n      <th>s2</th>\n      <th>s3</th>\n      <th>s4</th>\n      <th>s5</th>\n      <th>...</th>\n      <th>s19</th>\n      <th>s20</th>\n      <th>s21</th>\n      <th>mode1</th>\n      <th>mode2</th>\n      <th>mode3</th>\n      <th>mode4</th>\n      <th>mode5</th>\n      <th>mode6</th>\n      <th>cycle_norm</th>\n    </tr>\n  </thead>\n  <tbody>\n    <tr>\n      <th>0</th>\n      <td>1</td>\n      <td>1</td>\n      <td>0.238019</td>\n      <td>0.297150</td>\n      <td>1.0</td>\n      <td>0.597937</td>\n      <td>0.639243</td>\n      <td>0.691329</td>\n      <td>0.680395</td>\n      <td>0.617180</td>\n      <td>...</td>\n      <td>1.0</td>\n      <td>0.625944</td>\n      <td>0.630724</td>\n      <td>0.0</td>\n      <td>0.0</td>\n      <td>0.0</td>\n      <td>0.0</td>\n      <td>1.0</td>\n      <td>0.0</td>\n      <td>0.000000</td>\n    </tr>\n    <tr>\n      <th>1</th>\n      <td>1</td>\n      <td>2</td>\n      <td>0.476162</td>\n      <td>0.831354</td>\n      <td>1.0</td>\n      <td>0.626985</td>\n      <td>0.664861</td>\n      <td>0.647519</td>\n      <td>0.534663</td>\n      <td>0.507937</td>\n      <td>...</td>\n      <td>1.0</td>\n      <td>0.484214</td>\n      <td>0.496301</td>\n      <td>0.0</td>\n      <td>0.0</td>\n      <td>0.0</td>\n      <td>1.0</td>\n      <td>0.0</td>\n      <td>0.0</td>\n      <td>0.002732</td>\n    </tr>\n    <tr>\n      <th>2</th>\n      <td>1</td>\n      <td>3</td>\n      <td>0.833282</td>\n      <td>0.997625</td>\n      <td>1.0</td>\n      <td>0.060269</td>\n      <td>0.189055</td>\n      <td>0.312512</td>\n      <td>0.243225</td>\n      <td>0.146592</td>\n      <td>...</td>\n      <td>1.0</td>\n      <td>0.164722</td>\n      <td>0.159476</td>\n      <td>0.0</td>\n      <td>1.0</td>\n      <td>0.0</td>\n      <td>0.0</td>\n      <td>0.0</td>\n      <td>0.0</td>\n      <td>0.005464</td>\n    </tr>\n    <tr>\n      <th>3</th>\n      <td>1</td>\n      <td>4</td>\n      <td>0.999967</td>\n      <td>0.998812</td>\n      <td>1.0</td>\n      <td>0.000000</td>\n      <td>0.135525</td>\n      <td>0.286753</td>\n      <td>0.242061</td>\n      <td>0.000000</td>\n      <td>...</td>\n      <td>1.0</td>\n      <td>0.005834</td>\n      <td>0.016866</td>\n      <td>0.0</td>\n      <td>0.0</td>\n      <td>0.0</td>\n      <td>0.0</td>\n      <td>0.0</td>\n      <td>1.0</td>\n      <td>0.008197</td>\n    </tr>\n    <tr>\n      <th>4</th>\n      <td>1</td>\n      <td>5</td>\n      <td>0.595089</td>\n      <td>0.737886</td>\n      <td>0.0</td>\n      <td>0.238089</td>\n      <td>0.012028</td>\n      <td>0.022001</td>\n      <td>0.050986</td>\n      <td>0.293184</td>\n      <td>...</td>\n      <td>0.0</td>\n      <td>0.141730</td>\n      <td>0.140123</td>\n      <td>1.0</td>\n      <td>0.0</td>\n      <td>0.0</td>\n      <td>0.0</td>\n      <td>0.0</td>\n      <td>0.0</td>\n      <td>0.010929</td>\n    </tr>\n    <tr>\n      <th>...</th>\n      <td>...</td>\n      <td>...</td>\n      <td>...</td>\n      <td>...</td>\n      <td>...</td>\n      <td>...</td>\n      <td>...</td>\n      <td>...</td>\n      <td>...</td>\n      <td>...</td>\n      <td>...</td>\n      <td>...</td>\n      <td>...</td>\n      <td>...</td>\n      <td>...</td>\n      <td>...</td>\n      <td>...</td>\n      <td>...</td>\n      <td>...</td>\n      <td>...</td>\n      <td>...</td>\n    </tr>\n    <tr>\n      <th>33986</th>\n      <td>259</td>\n      <td>119</td>\n      <td>0.833210</td>\n      <td>0.997981</td>\n      <td>1.0</td>\n      <td>0.060269</td>\n      <td>0.185015</td>\n      <td>0.331523</td>\n      <td>0.245972</td>\n      <td>0.146592</td>\n      <td>...</td>\n      <td>1.0</td>\n      <td>0.163349</td>\n      <td>0.159133</td>\n      <td>0.0</td>\n      <td>1.0</td>\n      <td>0.0</td>\n      <td>0.0</td>\n      <td>0.0</td>\n      <td>0.0</td>\n      <td>0.322404</td>\n    </tr>\n    <tr>\n      <th>33987</th>\n      <td>259</td>\n      <td>120</td>\n      <td>0.999967</td>\n      <td>0.998219</td>\n      <td>1.0</td>\n      <td>0.000000</td>\n      <td>0.128638</td>\n      <td>0.290703</td>\n      <td>0.232087</td>\n      <td>0.000000</td>\n      <td>...</td>\n      <td>1.0</td>\n      <td>0.013384</td>\n      <td>0.016260</td>\n      <td>0.0</td>\n      <td>0.0</td>\n      <td>0.0</td>\n      <td>0.0</td>\n      <td>0.0</td>\n      <td>1.0</td>\n      <td>0.325137</td>\n    </tr>\n    <tr>\n      <th>33988</th>\n      <td>259</td>\n      <td>121</td>\n      <td>0.999955</td>\n      <td>0.997625</td>\n      <td>1.0</td>\n      <td>0.000000</td>\n      <td>0.130750</td>\n      <td>0.285244</td>\n      <td>0.219835</td>\n      <td>0.000000</td>\n      <td>...</td>\n      <td>1.0</td>\n      <td>0.013384</td>\n      <td>0.020433</td>\n      <td>0.0</td>\n      <td>0.0</td>\n      <td>0.0</td>\n      <td>0.0</td>\n      <td>0.0</td>\n      <td>1.0</td>\n      <td>0.327869</td>\n    </tr>\n    <tr>\n      <th>33989</th>\n      <td>259</td>\n      <td>122</td>\n      <td>0.000057</td>\n      <td>0.000356</td>\n      <td>1.0</td>\n      <td>1.000000</td>\n      <td>0.984024</td>\n      <td>0.944915</td>\n      <td>0.935747</td>\n      <td>1.000000</td>\n      <td>...</td>\n      <td>1.0</td>\n      <td>0.991764</td>\n      <td>0.985410</td>\n      <td>0.0</td>\n      <td>0.0</td>\n      <td>1.0</td>\n      <td>0.0</td>\n      <td>0.0</td>\n      <td>0.0</td>\n      <td>0.330601</td>\n    </tr>\n    <tr>\n      <th>33990</th>\n      <td>259</td>\n      <td>123</td>\n      <td>0.999888</td>\n      <td>0.997625</td>\n      <td>1.0</td>\n      <td>0.000000</td>\n      <td>0.131852</td>\n      <td>0.267029</td>\n      <td>0.239759</td>\n      <td>0.000000</td>\n      <td>...</td>\n      <td>1.0</td>\n      <td>0.015443</td>\n      <td>0.012858</td>\n      <td>0.0</td>\n      <td>0.0</td>\n      <td>0.0</td>\n      <td>0.0</td>\n      <td>0.0</td>\n      <td>1.0</td>\n      <td>0.333333</td>\n    </tr>\n  </tbody>\n</table>\n<p>33991 rows × 33 columns</p>\n</div>"
     },
     "metadata": {},
     "execution_count": 22
    }
   ],
   "source": [
    "# normalize the columns in the test data.\n",
    "# MinMax normalization\n",
    "td['cycle_norm'] = td['cycle']\n",
    "cols_normalize = td.columns.difference(['id','cycle'])\n",
    "min_max_scaler = preprocessing.MinMaxScaler()\n",
    "norm_train_df = pd.DataFrame(min_max_scaler.fit_transform(td[cols_normalize]), \n",
    "                             columns=cols_normalize, \n",
    "                             index=td.index)\n",
    "join_df = td[td.columns.difference(cols_normalize)].join(norm_train_df)\n",
    "td = join_df.reindex(columns = td.columns)\n",
    "td"
   ]
  },
  {
   "cell_type": "markdown",
   "metadata": {},
   "source": [
    "Keras LSTM layers expect an input in the shape of a numpy array of 3 dimensions (samples, time steps, features) where samples is the number of training sequences, time steps is the look back window or sequence length and features is the number of features of each sequence at each time step."
   ],
   "execution_count": null,
   "outputs": []
  },
  {
   "cell_type": "code",
   "execution_count": 23,
   "metadata": {},
   "outputs": [],
   "source": [
    "# function to reshape features into (samples, time steps, features) \n",
    "def gen_sequence(id_df, seq_length, seq_cols):\n",
    "    \"\"\" Only sequences that meet the window-length are considered, no padding is used. This means for testing\n",
    "    we need to drop those which are below the window-length. An alternative would be to pad sequences so that\n",
    "    we can use shorter ones \"\"\"\n",
    "    data_array = id_df[seq_cols].values\n",
    "    num_elements = data_array.shape[0]\n",
    "    for start, stop in zip(range(0, num_elements-seq_length), range(seq_length, num_elements)):\n",
    "        yield data_array[start:stop, :]\n",
    "    # For example id1 have 192 rows and sequence_length is equal to 50\n",
    "    # so zip iterate over two following list of numbers (0,112),(50,192)\n",
    "    # 0 50 -> from row 0 to row 50\n",
    "    # 1 51 -> from row 1 to row 51\n",
    "    # 2 52 -> from row 2 to row 52\n",
    "    # ...\n",
    "    # 111 191 -> from row 111 to 191"
   ]
  },
  {
   "cell_type": "code",
   "execution_count": 24,
   "metadata": {},
   "outputs": [],
   "source": [
    "# pick the feature columns \n",
    "sensor_cols = ['s' + str(i) for i in range(1,22)]\n",
    "sequence_cols = ['setting1', 'setting2', 'setting3','cycle_norm','mode1','mode2','mode3','mode4','mode5','mode6']\n",
    "# sequence_cols = ['setting1', 'setting2', 'setting3','cycle_norm']\n",
    "sequence_cols.extend(sensor_cols)"
   ]
  },
  {
   "cell_type": "code",
   "execution_count": 27,
   "metadata": {},
   "outputs": [],
   "source": [
    "sequence_length = 20"
   ]
  },
  {
   "cell_type": "code",
   "execution_count": 28,
   "metadata": {},
   "outputs": [
    {
     "output_type": "execute_result",
     "data": {
      "text/plain": "(48559, 20, 31)"
     },
     "metadata": {},
     "execution_count": 28
    }
   ],
   "source": [
    "# generator for the sequences\n",
    "seq_gen = (list(gen_sequence(train_df[train_df['id']==id], sequence_length, sequence_cols)) \n",
    "           for id in train_df['id'].unique())\n",
    "\n",
    "# generate sequences and convert to numpy array\n",
    "seq_array = np.concatenate(list(seq_gen)).astype(np.float32)\n",
    "seq_array.shape"
   ]
  },
  {
   "cell_type": "code",
   "execution_count": 29,
   "metadata": {},
   "outputs": [],
   "source": [
    "# function to generate labels\n",
    "def gen_labels(id_df, seq_length, label):\n",
    "    data_array = id_df[label].values\n",
    "    num_elements = data_array.shape[0]\n",
    "    return data_array[seq_length:num_elements, :]"
   ]
  },
  {
   "cell_type": "code",
   "execution_count": 30,
   "metadata": {},
   "outputs": [
    {
     "output_type": "execute_result",
     "data": {
      "text/plain": "array([[128.],\n       [127.],\n       [126.],\n       ...,\n       [  2.],\n       [  1.],\n       [  0.]], dtype=float32)"
     },
     "metadata": {},
     "execution_count": 30
    }
   ],
   "source": [
    "# generate labels\n",
    "label_gen = [gen_labels(train_df[train_df['id']==id], sequence_length, ['RUL']) \n",
    "             for id in train_df['id'].unique()]\n",
    "label_array = np.concatenate(label_gen).astype(np.float32)\n",
    "label_array.shape\n",
    "label_array"
   ]
  },
  {
   "cell_type": "markdown",
   "metadata": {},
   "source": [
    "### LSTM Network\n",
    "Next, we build a deep network. The first layer is an LSTM layer with 100 units followed by another LSTM layer with 50 units. Dropout is also applied after each LSTM layer to control overfitting. Final layer is a Dense output layer with single unit and sigmoid activation since this is a binary classification problem."
   ],
   "execution_count": null,
   "outputs": []
  },
  {
   "cell_type": "markdown",
   "metadata": {},
   "source": [
    "### USE the model in github"
   ],
   "execution_count": null,
   "outputs": []
  },
  {
   "cell_type": "code",
   "execution_count": 36,
   "metadata": {},
   "outputs": [],
   "source": [
    "import keras.backend as K"
   ]
  },
  {
   "cell_type": "code",
   "execution_count": 37,
   "metadata": {},
   "outputs": [],
   "source": [
    "def r2_keras(y_true, y_pred):\n",
    "    \"\"\"Coefficient of Determination \n",
    "    \"\"\"\n",
    "    SS_res =  K.sum(K.square( y_true - y_pred ))\n",
    "    SS_tot = K.sum(K.square( y_true - K.mean(y_true) ) )\n",
    "    return ( 1 - SS_res/(SS_tot + K.epsilon()) )"
   ]
  },
  {
   "cell_type": "code",
   "execution_count": 38,
   "metadata": {},
   "outputs": [],
   "source": [
    "def root_mean_squared_error(y_true, y_pred):\n",
    "        return K.sqrt(K.mean(K.square(y_pred - y_true), axis=-1)) "
   ]
  },
  {
   "cell_type": "code",
   "execution_count": 44,
   "metadata": {},
   "outputs": [],
   "source": [
    "def scoring_error(y_true, y_pred):\n",
    "    diff = y_pred - y_true\n",
    "    score = K.switch(\n",
    "        condition=(diff>=0),\n",
    "        then_expression=lambda: K.exp(1/10*diff)-1,\n",
    "        else_expression=lambda: K.exp(-1/13*diff)-1\n",
    "    )\n",
    "\n",
    "    return score"
   ]
  },
  {
   "cell_type": "code",
   "execution_count": 77,
   "metadata": {},
   "outputs": [
    {
     "output_type": "stream",
     "name": "stdout",
     "text": "_________________________________________________________________\nLayer (type)                 Output Shape              Param #   \n=================================================================\nlstm_13 (LSTM)               (None, 20, 100)           52800     \n_________________________________________________________________\ndropout_13 (Dropout)         (None, 20, 100)           0         \n_________________________________________________________________\nlstm_14 (LSTM)               (None, 50)                30200     \n_________________________________________________________________\ndropout_14 (Dropout)         (None, 50)                0         \n_________________________________________________________________\ndense_7 (Dense)              (None, 1)                 51        \n_________________________________________________________________\nactivation_7 (Activation)    (None, 1)                 0         \n=================================================================\nTotal params: 83,051\nTrainable params: 83,051\nNon-trainable params: 0\n_________________________________________________________________\nNone\n"
    }
   ],
   "source": [
    "nb_features = seq_array.shape[2]\n",
    "nb_out = label_array.shape[1]\n",
    "\n",
    "model = Sequential()\n",
    "model.add(LSTM(\n",
    "         input_shape=(sequence_length, nb_features),\n",
    "         units=100,\n",
    "         return_sequences=True))\n",
    "model.add(Dropout(0.2))\n",
    "model.add(LSTM(\n",
    "          units=50,\n",
    "          return_sequences=False))\n",
    "model.add(Dropout(0.2))\n",
    "model.add(Dense(units=nb_out))\n",
    "model.add(Activation(\"linear\"))\n",
    "model.compile(loss='mean_squared_error', optimizer='rmsprop',metrics=['mae',r2_keras])\n",
    "# model.compile(loss=scoring_error, optimizer='rmsprop',metrics=['mae',r2_keras])\n",
    "\n",
    "print(model.summary())"
   ]
  },
  {
   "cell_type": "code",
   "execution_count": 78,
   "metadata": {},
   "outputs": [
    {
     "output_type": "stream",
     "name": "stdout",
     "text": "Train on 46131 samples, validate on 2428 samples\nEpoch 1/100\n - 51s - loss: 6726.1548 - mean_absolute_error: 70.7942 - r2_keras: -2.5909e+00 - val_loss: 6394.7207 - val_mean_absolute_error: 69.3429 - val_r2_keras: -2.9137e+00\nEpoch 2/100\n - 42s - loss: 5215.8203 - mean_absolute_error: 61.5999 - r2_keras: -1.7863e+00 - val_loss: 4966.2334 - val_mean_absolute_error: 60.8210 - val_r2_keras: -2.0872e+00\nEpoch 3/100\n - 40s - loss: 4012.3864 - mean_absolute_error: 54.0799 - r2_keras: -1.1444e+00 - val_loss: 3812.7795 - val_mean_absolute_error: 53.6616 - val_r2_keras: -1.4755e+00\nEpoch 4/100\n - 40s - loss: 3089.3173 - mean_absolute_error: 48.1131 - r2_keras: -6.5008e-01 - val_loss: 2935.4437 - val_mean_absolute_error: 47.8788 - val_r2_keras: -1.0780e+00\nEpoch 5/100\n - 40s - loss: 2439.8939 - mean_absolute_error: 43.5796 - r2_keras: -3.0215e-01 - val_loss: 2330.4375 - val_mean_absolute_error: 43.4598 - val_r2_keras: -8.9042e-01\nEpoch 6/100\n - 41s - loss: 2063.2116 - mean_absolute_error: 40.5730 - r2_keras: -9.8701e-02 - val_loss: 1996.4564 - val_mean_absolute_error: 40.4557 - val_r2_keras: -9.0033e-01\nEpoch 7/100\n - 42s - loss: 1930.4763 - mean_absolute_error: 39.0807 - r2_keras: -2.8605e-02 - val_loss: 1914.6011 - val_mean_absolute_error: 39.3451 - val_r2_keras: -9.7809e-01\nEpoch 8/100\n - 41s - loss: 1921.1671 - mean_absolute_error: 38.8284 - r2_keras: -2.2749e-02 - val_loss: 1911.7371 - val_mean_absolute_error: 39.2883 - val_r2_keras: -9.8428e-01\nEpoch 9/100\n - 42s - loss: 1925.2548 - mean_absolute_error: 38.8374 - r2_keras: -2.4706e-02 - val_loss: 1913.5873 - val_mean_absolute_error: 39.3255 - val_r2_keras: -9.8021e-01\nEpoch 10/100\n - 44s - loss: 1922.3479 - mean_absolute_error: 38.8315 - r2_keras: -2.3410e-02 - val_loss: 1911.6810 - val_mean_absolute_error: 39.2871 - val_r2_keras: -9.8441e-01\nEpoch 11/100\n - 44s - loss: 1923.9500 - mean_absolute_error: 38.8215 - r2_keras: -2.3752e-02 - val_loss: 1912.1561 - val_mean_absolute_error: 39.2969 - val_r2_keras: -9.8333e-01\nEpoch 12/100\n - 47s - loss: 1924.2118 - mean_absolute_error: 38.8390 - r2_keras: -2.4580e-02 - val_loss: 1911.0592 - val_mean_absolute_error: 39.2742 - val_r2_keras: -9.8585e-01\nEpoch 13/100\n - 42s - loss: 1920.6498 - mean_absolute_error: 38.8071 - r2_keras: -2.2036e-02 - val_loss: 1911.6802 - val_mean_absolute_error: 39.2871 - val_r2_keras: -9.8441e-01\nEpoch 14/100\n - 41s - loss: 1923.4792 - mean_absolute_error: 38.8244 - r2_keras: -2.4189e-02 - val_loss: 1912.2892 - val_mean_absolute_error: 39.2996 - val_r2_keras: -9.8303e-01\nEpoch 15/100\n - 41s - loss: 1925.1105 - mean_absolute_error: 38.8508 - r2_keras: -2.4145e-02 - val_loss: 1912.0770 - val_mean_absolute_error: 39.2953 - val_r2_keras: -9.8351e-01\nEpoch 16/100\n - 46s - loss: 1802.7138 - mean_absolute_error: 37.3458 - r2_keras: 0.0393 - val_loss: 1761.2828 - val_mean_absolute_error: 36.3710 - val_r2_keras: -2.1370e-01\nEpoch 17/100\n - 46s - loss: 1191.5170 - mean_absolute_error: 29.7017 - r2_keras: 0.3643 - val_loss: 1865.9994 - val_mean_absolute_error: 35.1782 - val_r2_keras: -2.9251e-01\nEpoch 18/100\n - 43s - loss: 971.3516 - mean_absolute_error: 26.1384 - r2_keras: 0.4815 - val_loss: 1175.9367 - val_mean_absolute_error: 29.5241 - val_r2_keras: 0.1954\nEpoch 19/100\n - 43s - loss: 823.0864 - mean_absolute_error: 23.3259 - r2_keras: 0.5604 - val_loss: 1759.8664 - val_mean_absolute_error: 31.9859 - val_r2_keras: -2.1981e-01\nEpoch 20/100\n - 41s - loss: 734.5281 - mean_absolute_error: 21.4456 - r2_keras: 0.6081 - val_loss: 974.9265 - val_mean_absolute_error: 25.6782 - val_r2_keras: 0.3210\nEpoch 21/100\n - 41s - loss: 693.5101 - mean_absolute_error: 20.5926 - r2_keras: 0.6299 - val_loss: 943.6211 - val_mean_absolute_error: 25.1021 - val_r2_keras: 0.3527\nEpoch 22/100\n - 42s - loss: 663.5323 - mean_absolute_error: 20.0315 - r2_keras: 0.6459 - val_loss: 1034.3154 - val_mean_absolute_error: 25.2559 - val_r2_keras: 0.2811\nEpoch 23/100\n - 41s - loss: 644.1659 - mean_absolute_error: 19.6493 - r2_keras: 0.6559 - val_loss: 803.2991 - val_mean_absolute_error: 23.4227 - val_r2_keras: 0.4579\nEpoch 24/100\n - 44s - loss: 632.2683 - mean_absolute_error: 19.4252 - r2_keras: 0.6622 - val_loss: 776.9585 - val_mean_absolute_error: 23.6226 - val_r2_keras: 0.4752\nEpoch 25/100\n - 42s - loss: 619.3244 - mean_absolute_error: 19.1945 - r2_keras: 0.6692 - val_loss: 849.6263 - val_mean_absolute_error: 24.2947 - val_r2_keras: 0.3969\nEpoch 26/100\n - 42s - loss: 609.1392 - mean_absolute_error: 19.0125 - r2_keras: 0.6741 - val_loss: 782.9121 - val_mean_absolute_error: 22.7353 - val_r2_keras: 0.4581\nEpoch 27/100\n - 42s - loss: 595.7585 - mean_absolute_error: 18.8157 - r2_keras: 0.6814 - val_loss: 972.3143 - val_mean_absolute_error: 24.1980 - val_r2_keras: 0.3288\nEpoch 28/100\n - 40s - loss: 586.6710 - mean_absolute_error: 18.6559 - r2_keras: 0.6870 - val_loss: 801.4767 - val_mean_absolute_error: 21.9794 - val_r2_keras: 0.4452\nEpoch 29/100\n - 41s - loss: 574.8659 - mean_absolute_error: 18.4588 - r2_keras: 0.6926 - val_loss: 675.8932 - val_mean_absolute_error: 20.6202 - val_r2_keras: 0.5293\nEpoch 30/100\n - 40s - loss: 566.1424 - mean_absolute_error: 18.2660 - r2_keras: 0.6970 - val_loss: 802.6280 - val_mean_absolute_error: 23.1656 - val_r2_keras: 0.4668\nEpoch 31/100\n - 42s - loss: 547.5409 - mean_absolute_error: 17.9423 - r2_keras: 0.7071 - val_loss: 671.2687 - val_mean_absolute_error: 20.2383 - val_r2_keras: 0.5407\nEpoch 32/100\n - 41s - loss: 536.6266 - mean_absolute_error: 17.7565 - r2_keras: 0.7132 - val_loss: 1095.7735 - val_mean_absolute_error: 24.5616 - val_r2_keras: 0.2220\nEpoch 33/100\n - 42s - loss: 521.5997 - mean_absolute_error: 17.4863 - r2_keras: 0.7205 - val_loss: 681.1143 - val_mean_absolute_error: 20.3877 - val_r2_keras: 0.5328\nEpoch 34/100\n - 42s - loss: 512.6839 - mean_absolute_error: 17.3156 - r2_keras: 0.7258 - val_loss: 720.3519 - val_mean_absolute_error: 20.8939 - val_r2_keras: 0.5033\nEpoch 35/100\n - 44s - loss: 486.1527 - mean_absolute_error: 16.8540 - r2_keras: 0.7407 - val_loss: 888.1990 - val_mean_absolute_error: 22.7703 - val_r2_keras: 0.4154\nEpoch 36/100\n - 41s - loss: 468.1653 - mean_absolute_error: 16.5374 - r2_keras: 0.7492 - val_loss: 718.9613 - val_mean_absolute_error: 20.5200 - val_r2_keras: 0.5005\nEpoch 37/100\n - 42s - loss: 441.1931 - mean_absolute_error: 16.0775 - r2_keras: 0.7638 - val_loss: 787.3003 - val_mean_absolute_error: 21.1700 - val_r2_keras: 0.4510\nEpoch 38/100\n - 42s - loss: 416.2209 - mean_absolute_error: 15.5699 - r2_keras: 0.7775 - val_loss: 1316.5572 - val_mean_absolute_error: 26.7289 - val_r2_keras: 0.0909\nEpoch 39/100\n - 43s - loss: 394.1916 - mean_absolute_error: 15.1058 - r2_keras: 0.7891 - val_loss: 938.5309 - val_mean_absolute_error: 23.0931 - val_r2_keras: 0.3651\nEpoch 40/100\n - 49s - loss: 369.4569 - mean_absolute_error: 14.6304 - r2_keras: 0.8024 - val_loss: 817.5350 - val_mean_absolute_error: 21.7271 - val_r2_keras: 0.4318\nEpoch 41/100\n - 41s - loss: 339.9341 - mean_absolute_error: 14.0851 - r2_keras: 0.8182 - val_loss: 905.9113 - val_mean_absolute_error: 22.9409 - val_r2_keras: 0.3989\ndict_keys(['val_loss', 'val_mean_absolute_error', 'val_r2_keras', 'loss', 'mean_absolute_error', 'r2_keras'])\n"
    }
   ],
   "source": [
    "# fit the network\n",
    "model_path='use_onehot.h5'\n",
    "history = model.fit(seq_array, label_array, epochs=100, batch_size=200, validation_split=0.05, verbose=2,\n",
    "          callbacks = [keras.callbacks.EarlyStopping(monitor='val_loss', min_delta=0, patience=10, verbose=0, mode='min'),\n",
    "                       keras.callbacks.ModelCheckpoint(model_path,monitor='val_loss', save_best_only=True, mode='min', verbose=0)]\n",
    "          )\n",
    "\n",
    "# list all data in history\n",
    "print(history.history.keys())"
   ]
  },
  {
   "cell_type": "code",
   "execution_count": 79,
   "metadata": {},
   "outputs": [
    {
     "output_type": "stream",
     "name": "stdout",
     "text": "48559/48559 [==============================] - 15s 307us/step\nLoss: 300.2082350738418\n"
    }
   ],
   "source": [
    "# training metrics\n",
    "scores = model.evaluate(seq_array, label_array, verbose=1, batch_size=200)\n",
    "print('Loss: {}'.format(scores[0]))"
   ]
  },
  {
   "cell_type": "markdown",
   "metadata": {},
   "source": [
    "### Calculate result"
   ],
   "execution_count": null,
   "outputs": []
  },
  {
   "cell_type": "code",
   "execution_count": 65,
   "metadata": {},
   "outputs": [],
   "source": [
    "# We pick the last sequence for each id in the test data\n",
    "test = [td[td['id']==id][sequence_cols].values[-sequence_length:] \n",
    "                       for id in td['id'].unique() if len(td[td['id']==id]) >= sequence_length]\n",
    "\n",
    "test = np.asarray(test).astype(np.float32)"
   ]
  },
  {
   "cell_type": "code",
   "execution_count": 80,
   "metadata": {},
   "outputs": [
    {
     "output_type": "stream",
     "name": "stdout",
     "text": "259/259 [==============================] - 2s 7ms/step\n"
    },
    {
     "output_type": "execute_result",
     "data": {
      "text/plain": "array([[ 11.681555],\n       [124.19043 ],\n       [ 68.55265 ],\n       [117.64775 ],\n       [ 12.819969],\n       [125.34082 ],\n       [ 14.492691],\n       [ 28.435743],\n       [ 11.017189],\n       [113.78301 ],\n       [ 22.925804],\n       [117.18085 ],\n       [ 38.05928 ],\n       [  8.772371],\n       [ 44.53334 ],\n       [105.28545 ],\n       [ 90.97953 ],\n       [123.88501 ],\n       [ 21.03771 ],\n       [ 94.332436],\n       [ 72.99802 ],\n       [ 37.31019 ],\n       [126.08    ],\n       [ 63.633007],\n       [ 80.33124 ],\n       [120.07203 ],\n       [122.47141 ],\n       [126.33308 ],\n       [101.443825],\n       [ 79.655396],\n       [ 83.9844  ],\n       [ 15.521709],\n       [ 46.09466 ],\n       [126.24295 ],\n       [112.43518 ],\n       [ 88.06051 ],\n       [121.71031 ],\n       [ 32.17783 ],\n       [ 39.840916],\n       [ 79.20285 ],\n       [ 40.678875],\n       [ 48.02242 ],\n       [ 46.28583 ],\n       [ 50.074837],\n       [ 10.999805],\n       [107.51564 ],\n       [117.17153 ],\n       [ 34.698612],\n       [121.34709 ],\n       [ 17.83174 ],\n       [126.50904 ],\n       [ 13.079758],\n       [ 43.920834],\n       [110.57352 ],\n       [ 85.74401 ],\n       [119.966644],\n       [117.15558 ],\n       [ 33.242966],\n       [126.567505],\n       [ 74.94745 ],\n       [120.52026 ],\n       [ 39.782337],\n       [ 78.98266 ],\n       [ 14.062923],\n       [ 37.55708 ],\n       [122.90263 ],\n       [ 73.99663 ],\n       [ 82.978226],\n       [ 89.11481 ],\n       [ 14.970812],\n       [124.76475 ],\n       [ 66.37073 ],\n       [ 81.31424 ],\n       [105.032974],\n       [ 89.814316],\n       [ 23.36545 ],\n       [115.53227 ],\n       [ 80.02252 ],\n       [ 96.27338 ],\n       [  8.770258],\n       [120.2756  ],\n       [106.84143 ],\n       [123.455826],\n       [ 15.457193],\n       [ 42.675205],\n       [111.184166],\n       [ 21.600021],\n       [ 58.18903 ],\n       [124.7036  ],\n       [ 31.827698],\n       [ 21.415276],\n       [ 87.8837  ],\n       [118.786026],\n       [ 87.710434],\n       [112.71298 ],\n       [ 44.67468 ],\n       [ 21.957178],\n       [ 98.589226],\n       [ 14.141321],\n       [ 40.51871 ],\n       [126.5202  ],\n       [ 32.131428],\n       [  9.190535],\n       [ 91.34032 ],\n       [124.31677 ],\n       [120.74341 ],\n       [ 44.199055],\n       [ 94.59033 ],\n       [ 38.37846 ],\n       [ 92.46513 ],\n       [ 34.111485],\n       [ 65.047325],\n       [124.549614],\n       [ 75.20796 ],\n       [ 74.41733 ],\n       [  9.882594],\n       [125.34777 ],\n       [102.98761 ],\n       [ 91.07649 ],\n       [ 21.679644],\n       [124.4199  ],\n       [126.56407 ],\n       [124.00737 ],\n       [ 10.72831 ],\n       [120.36968 ],\n       [104.50757 ],\n       [ 59.51543 ],\n       [ 96.92091 ],\n       [ 62.74676 ],\n       [102.67868 ],\n       [117.138824],\n       [ 67.39198 ],\n       [ 70.658844],\n       [ 18.13225 ],\n       [103.636475],\n       [119.32843 ],\n       [ 60.163425],\n       [  8.929089],\n       [104.211685],\n       [ 76.5303  ],\n       [118.4218  ],\n       [ 43.68033 ],\n       [ 79.51912 ],\n       [ 46.01752 ],\n       [ 97.65153 ],\n       [ 22.416748],\n       [117.36153 ],\n       [ 24.49588 ],\n       [118.65892 ],\n       [ 16.406975],\n       [ 86.32965 ],\n       [100.984116],\n       [ 82.05017 ],\n       [124.83009 ],\n       [115.36215 ],\n       [116.56942 ],\n       [ 76.56706 ],\n       [ 26.623756],\n       [ 13.427668],\n       [102.51001 ],\n       [ 18.914352],\n       [ 62.953846],\n       [ 97.42855 ],\n       [  9.902969],\n       [126.53264 ],\n       [104.71759 ],\n       [118.92136 ],\n       [ 97.566284],\n       [122.35159 ],\n       [106.94681 ],\n       [ 51.93028 ],\n       [ 91.73115 ],\n       [ 28.887272],\n       [125.52273 ],\n       [118.54271 ],\n       [ 35.024834],\n       [  9.645313],\n       [123.265335],\n       [ 66.05751 ],\n       [ 89.76361 ],\n       [ 30.475079],\n       [ 12.776577],\n       [ 70.28495 ],\n       [123.57204 ],\n       [ 29.92255 ],\n       [ 15.856077],\n       [111.927734],\n       [110.698364],\n       [ 63.65601 ],\n       [ 26.714676],\n       [102.80496 ],\n       [ 41.332638],\n       [ 26.091843],\n       [126.475845],\n       [ 70.430115],\n       [103.48529 ],\n       [125.41755 ],\n       [105.27345 ],\n       [102.43    ],\n       [124.443985],\n       [126.57829 ],\n       [ 85.06743 ],\n       [103.2175  ],\n       [125.951805],\n       [125.74417 ],\n       [ 69.72423 ],\n       [ 79.39986 ],\n       [ 13.225119],\n       [ 52.31177 ],\n       [ 15.208715],\n       [ 31.900053],\n       [ 57.611042],\n       [ 19.795547],\n       [114.87866 ],\n       [114.94103 ],\n       [116.699265],\n       [126.20253 ],\n       [126.573166],\n       [ 96.07829 ],\n       [125.29433 ],\n       [124.74881 ],\n       [ 54.542652],\n       [126.540344],\n       [125.899796],\n       [ 19.19379 ],\n       [ 94.60977 ],\n       [ 12.02809 ],\n       [125.962616],\n       [ 98.11334 ],\n       [ 87.99157 ],\n       [ 11.152182],\n       [ 49.051037],\n       [126.42876 ],\n       [ 84.69693 ],\n       [109.39341 ],\n       [ 17.112188],\n       [ 28.400356],\n       [111.90706 ],\n       [ 91.07243 ],\n       [125.33904 ],\n       [118.826485],\n       [ 14.737011],\n       [125.49224 ],\n       [125.69152 ],\n       [ 12.416288],\n       [109.76918 ],\n       [120.92882 ],\n       [ 84.55522 ],\n       [126.4     ],\n       [ 12.623005],\n       [125.232254],\n       [ 20.22959 ],\n       [ 98.51105 ],\n       [ 87.40952 ],\n       [ 73.16513 ],\n       [124.247345],\n       [ 89.268616],\n       [102.66374 ],\n       [100.072624]], dtype=float32)"
     },
     "metadata": {},
     "execution_count": 80
    }
   ],
   "source": [
    "model.load_weights('use_onehot.h5')\n",
    "result = model.predict(test,verbose=1)\n",
    "result"
   ]
  },
  {
   "cell_type": "code",
   "execution_count": 133,
   "metadata": {},
   "outputs": [
    {
     "output_type": "execute_result",
     "data": {
      "text/plain": "(259, 1)"
     },
     "metadata": {},
     "execution_count": 133
    }
   ],
   "source": [
    "result.shape"
   ]
  },
  {
   "cell_type": "markdown",
   "metadata": {},
   "source": [
    "---"
   ],
   "execution_count": null,
   "outputs": []
  },
  {
   "cell_type": "markdown",
   "metadata": {},
   "source": [
    "### 生成 .csv 文件"
   ]
  },
  {
   "cell_type": "code",
   "execution_count": 38,
   "metadata": {},
   "outputs": [],
   "source": [
    "import time"
   ]
  },
  {
   "cell_type": "code",
   "execution_count": 39,
   "metadata": {},
   "outputs": [],
   "source": [
    "localtime = time.asctime( time.localtime(time.time()) )"
   ]
  },
  {
   "cell_type": "code",
   "execution_count": 81,
   "metadata": {},
   "outputs": [],
   "source": [
    "submit = pd.read_excel('../results_submission.xls')\n",
    "submit['RUL prediction']=result\n",
    "submit.to_csv('1.csv')"
   ]
  },
  {
   "cell_type": "markdown",
   "metadata": {},
   "source": [
    "## 计分！"
   ]
  },
  {
   "cell_type": "code",
   "execution_count": 51,
   "metadata": {},
   "outputs": [
    {
     "output_type": "execute_result",
     "data": {
      "text/plain": "(259,)"
     },
     "metadata": {},
     "execution_count": 51
    }
   ],
   "source": [
    "ans = np.loadtxt('../RUL_FD002.txt')\n",
    "ans.shape"
   ]
  },
  {
   "cell_type": "code",
   "execution_count": 52,
   "metadata": {},
   "outputs": [],
   "source": [
    "def score(user_ans):\n",
    "    user_ans_arr = np.array(user_ans)\n",
    "    score = 0\n",
    "    diff = user_ans_arr - ans\n",
    "    diff_pos = diff[diff>=0]\n",
    "    diff_neg = diff[diff<0]\n",
    "    score = np.sum((np.exp(-1./13.*diff_neg)-1))+np.sum((np.exp(1./10.*diff_pos)-1))\n",
    "    return score"
   ]
  },
  {
   "cell_type": "code",
   "execution_count": 82,
   "metadata": {},
   "outputs": [
    {
     "output_type": "execute_result",
     "data": {
      "text/plain": "array([11.681555], dtype=float32)"
     },
     "metadata": {},
     "execution_count": 82
    }
   ],
   "source": [
    "re = pd.read_csv('./1.csv')\n",
    "pred_rul=re['RUL prediction']\n",
    "result[0]"
   ]
  },
  {
   "cell_type": "code",
   "execution_count": 83,
   "metadata": {},
   "outputs": [
    {
     "output_type": "execute_result",
     "data": {
      "text/plain": "11444.487385462184"
     },
     "metadata": {},
     "execution_count": 83
    }
   ],
   "source": [
    "score(pred_rul)"
   ]
  },
  {
   "cell_type": "code",
   "execution_count": null,
   "metadata": {},
   "outputs": [],
   "source": []
  }
 ],
 "metadata": {
  "file_extension": ".py",
  "kernelspec": {
   "display_name": "Python 3",
   "language": "python",
   "name": "python3"
  },
  "language_info": {
   "codemirror_mode": {
    "name": "ipython",
    "version": 3
   },
   "file_extension": ".py",
   "mimetype": "text/x-python",
   "name": "python",
   "nbconvert_exporter": "python",
   "pygments_lexer": "ipython3",
   "version": "3.7.3-final"
  },
  "mimetype": "text/x-python",
  "name": "python",
  "npconvert_exporter": "python",
  "pygments_lexer": "ipython3",
  "version": 3
 },
 "nbformat": 4,
 "nbformat_minor": 2
}