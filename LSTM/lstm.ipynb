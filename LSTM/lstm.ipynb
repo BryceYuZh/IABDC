{
 "nbformat": 4,
 "nbformat_minor": 2,
 "metadata": {
  "language_info": {
   "name": "python",
   "codemirror_mode": {
    "name": "ipython",
    "version": 3
   },
   "version": "3.7.3-final"
  },
  "orig_nbformat": 2,
  "file_extension": ".py",
  "mimetype": "text/x-python",
  "name": "python",
  "npconvert_exporter": "python",
  "pygments_lexer": "ipython3",
  "version": 3,
  "kernelspec": {
   "name": "python3",
   "display_name": "Python 3"
  }
 },
 "cells": [
  {
   "cell_type": "markdown",
   "metadata": {},
   "source": [
    "Reference:\n",
    "https://github.com/umbertogriffo/Predictive-Maintenance-using-LSTM/blob/master/src/lstm/regression.py"
   ],
   "execution_count": null,
   "outputs": []
  },
  {
   "cell_type": "code",
   "execution_count": 1,
   "metadata": {},
   "outputs": [
    {
     "output_type": "stream",
     "name": "stderr",
     "text": "Using TensorFlow backend.\n"
    }
   ],
   "source": [
    "import keras"
   ]
  },
  {
   "cell_type": "code",
   "execution_count": 2,
   "metadata": {},
   "outputs": [],
   "source": [
    "import pandas as pd\n",
    "import numpy as np\n",
    "import matplotlib.pyplot as plt\n",
    "\n",
    "# Setting seed for reproducability\n",
    "np.random.seed(1234)  \n",
    "PYTHONHASHSEED = 0\n",
    "from sklearn import preprocessing\n",
    "from sklearn.metrics import confusion_matrix, recall_score, precision_score\n",
    "from keras.models import Sequential, load_model\n",
    "from keras.layers import Dense, Dropout, LSTM, Activation, Conv1D, MaxPooling1D\n",
    "%matplotlib inline"
   ]
  },
  {
   "cell_type": "code",
   "execution_count": 3,
   "metadata": {},
   "outputs": [
    {
     "output_type": "execute_result",
     "data": {
      "text/plain": "   id  cycle  setting1  setting2  setting3      s1      s2       s3       s4  \\\n0   1      1   34.9983    0.8400     100.0  449.44  555.32  1358.61  1137.23   \n1   1      2   41.9982    0.8408     100.0  445.00  549.90  1353.22  1125.78   \n2   1      3   24.9988    0.6218      60.0  462.54  537.31  1256.76  1047.45   \n3   1      4   42.0077    0.8416     100.0  445.00  549.51  1354.03  1126.38   \n4   1      5   25.0005    0.6203      60.0  462.54  537.07  1257.71  1047.93   \n\n     s5  ...     s12      s13      s14      s15   s16  s17   s18     s19  \\\n0  5.48  ...  183.06  2387.72  8048.56   9.3461  0.02  334  2223  100.00   \n1  3.91  ...  130.42  2387.66  8072.30   9.3774  0.02  330  2212  100.00   \n2  7.05  ...  164.22  2028.03  7864.87  10.8941  0.02  309  1915   84.93   \n3  3.91  ...  130.72  2387.61  8068.66   9.3528  0.02  329  2212  100.00   \n4  7.05  ...  164.31  2028.00  7861.23  10.8963  0.02  309  1915   84.93   \n\n     s20     s21  \n0  14.73  8.8071  \n1  10.41  6.2665  \n2  14.08  8.6723  \n3  10.59  6.4701  \n4  14.13  8.5286  \n\n[5 rows x 26 columns]",
      "text/html": "<div>\n<style scoped>\n    .dataframe tbody tr th:only-of-type {\n        vertical-align: middle;\n    }\n\n    .dataframe tbody tr th {\n        vertical-align: top;\n    }\n\n    .dataframe thead th {\n        text-align: right;\n    }\n</style>\n<table border=\"1\" class=\"dataframe\">\n  <thead>\n    <tr style=\"text-align: right;\">\n      <th></th>\n      <th>id</th>\n      <th>cycle</th>\n      <th>setting1</th>\n      <th>setting2</th>\n      <th>setting3</th>\n      <th>s1</th>\n      <th>s2</th>\n      <th>s3</th>\n      <th>s4</th>\n      <th>s5</th>\n      <th>...</th>\n      <th>s12</th>\n      <th>s13</th>\n      <th>s14</th>\n      <th>s15</th>\n      <th>s16</th>\n      <th>s17</th>\n      <th>s18</th>\n      <th>s19</th>\n      <th>s20</th>\n      <th>s21</th>\n    </tr>\n  </thead>\n  <tbody>\n    <tr>\n      <th>0</th>\n      <td>1</td>\n      <td>1</td>\n      <td>34.9983</td>\n      <td>0.8400</td>\n      <td>100.0</td>\n      <td>449.44</td>\n      <td>555.32</td>\n      <td>1358.61</td>\n      <td>1137.23</td>\n      <td>5.48</td>\n      <td>...</td>\n      <td>183.06</td>\n      <td>2387.72</td>\n      <td>8048.56</td>\n      <td>9.3461</td>\n      <td>0.02</td>\n      <td>334</td>\n      <td>2223</td>\n      <td>100.00</td>\n      <td>14.73</td>\n      <td>8.8071</td>\n    </tr>\n    <tr>\n      <th>1</th>\n      <td>1</td>\n      <td>2</td>\n      <td>41.9982</td>\n      <td>0.8408</td>\n      <td>100.0</td>\n      <td>445.00</td>\n      <td>549.90</td>\n      <td>1353.22</td>\n      <td>1125.78</td>\n      <td>3.91</td>\n      <td>...</td>\n      <td>130.42</td>\n      <td>2387.66</td>\n      <td>8072.30</td>\n      <td>9.3774</td>\n      <td>0.02</td>\n      <td>330</td>\n      <td>2212</td>\n      <td>100.00</td>\n      <td>10.41</td>\n      <td>6.2665</td>\n    </tr>\n    <tr>\n      <th>2</th>\n      <td>1</td>\n      <td>3</td>\n      <td>24.9988</td>\n      <td>0.6218</td>\n      <td>60.0</td>\n      <td>462.54</td>\n      <td>537.31</td>\n      <td>1256.76</td>\n      <td>1047.45</td>\n      <td>7.05</td>\n      <td>...</td>\n      <td>164.22</td>\n      <td>2028.03</td>\n      <td>7864.87</td>\n      <td>10.8941</td>\n      <td>0.02</td>\n      <td>309</td>\n      <td>1915</td>\n      <td>84.93</td>\n      <td>14.08</td>\n      <td>8.6723</td>\n    </tr>\n    <tr>\n      <th>3</th>\n      <td>1</td>\n      <td>4</td>\n      <td>42.0077</td>\n      <td>0.8416</td>\n      <td>100.0</td>\n      <td>445.00</td>\n      <td>549.51</td>\n      <td>1354.03</td>\n      <td>1126.38</td>\n      <td>3.91</td>\n      <td>...</td>\n      <td>130.72</td>\n      <td>2387.61</td>\n      <td>8068.66</td>\n      <td>9.3528</td>\n      <td>0.02</td>\n      <td>329</td>\n      <td>2212</td>\n      <td>100.00</td>\n      <td>10.59</td>\n      <td>6.4701</td>\n    </tr>\n    <tr>\n      <th>4</th>\n      <td>1</td>\n      <td>5</td>\n      <td>25.0005</td>\n      <td>0.6203</td>\n      <td>60.0</td>\n      <td>462.54</td>\n      <td>537.07</td>\n      <td>1257.71</td>\n      <td>1047.93</td>\n      <td>7.05</td>\n      <td>...</td>\n      <td>164.31</td>\n      <td>2028.00</td>\n      <td>7861.23</td>\n      <td>10.8963</td>\n      <td>0.02</td>\n      <td>309</td>\n      <td>1915</td>\n      <td>84.93</td>\n      <td>14.13</td>\n      <td>8.5286</td>\n    </tr>\n  </tbody>\n</table>\n<p>5 rows × 26 columns</p>\n</div>"
     },
     "metadata": {},
     "execution_count": 3
    }
   ],
   "source": [
    "jet = pd.read_table('../train_data.txt',sep=' ',header=None)\n",
    "jet.drop([26,27],axis=1,inplace=True)\n",
    "jet.columns = ['id', 'cycle', 'setting1', 'setting2', 'setting3', 's1', 's2', 's3',\n",
    "                     's4', 's5', 's6', 's7', 's8', 's9', 's10', 's11', 's12', 's13', 's14',\n",
    "                     's15', 's16', 's17', 's18', 's19', 's20', 's21']\n",
    "train_df = jet\n",
    "train_df.head()"
   ]
  },
  {
   "cell_type": "code",
   "execution_count": 4,
   "metadata": {},
   "outputs": [
    {
     "output_type": "execute_result",
     "data": {
      "text/plain": "   id  cycle  setting1  setting2  setting3      s1      s2       s3       s4  \\\n0   1      1    9.9987    0.2502     100.0  489.05  605.03  1497.17  1304.99   \n1   1      2   20.0026    0.7000     100.0  491.19  607.82  1481.20  1246.11   \n2   1      3   35.0045    0.8400     100.0  449.44  556.00  1359.08  1128.36   \n3   1      4   42.0066    0.8410     100.0  445.00  550.17  1349.69  1127.89   \n4   1      5   24.9985    0.6213      60.0  462.54  536.72  1253.18  1050.69   \n\n      s5  ...     s12      s13      s14      s15   s16  s17   s18     s19  \\\n0  10.52  ...  371.69  2388.18  8114.10   8.6476  0.03  369  2319  100.00   \n1   9.35  ...  315.32  2388.12  8053.06   9.2405  0.02  364  2324  100.00   \n2   5.48  ...  183.04  2387.75  8053.04   9.3472  0.02  333  2223  100.00   \n3   3.91  ...  130.40  2387.72  8066.90   9.3961  0.02  332  2212  100.00   \n4   7.05  ...  164.56  2028.05  7865.66  10.8682  0.02  305  1915   84.93   \n\n     s20      s21  \n0  28.42  17.1551  \n1  24.29  14.8039  \n2  14.98   8.9125  \n3  10.35   6.4181  \n4  14.31   8.5740  \n\n[5 rows x 26 columns]",
      "text/html": "<div>\n<style scoped>\n    .dataframe tbody tr th:only-of-type {\n        vertical-align: middle;\n    }\n\n    .dataframe tbody tr th {\n        vertical-align: top;\n    }\n\n    .dataframe thead th {\n        text-align: right;\n    }\n</style>\n<table border=\"1\" class=\"dataframe\">\n  <thead>\n    <tr style=\"text-align: right;\">\n      <th></th>\n      <th>id</th>\n      <th>cycle</th>\n      <th>setting1</th>\n      <th>setting2</th>\n      <th>setting3</th>\n      <th>s1</th>\n      <th>s2</th>\n      <th>s3</th>\n      <th>s4</th>\n      <th>s5</th>\n      <th>...</th>\n      <th>s12</th>\n      <th>s13</th>\n      <th>s14</th>\n      <th>s15</th>\n      <th>s16</th>\n      <th>s17</th>\n      <th>s18</th>\n      <th>s19</th>\n      <th>s20</th>\n      <th>s21</th>\n    </tr>\n  </thead>\n  <tbody>\n    <tr>\n      <th>0</th>\n      <td>1</td>\n      <td>1</td>\n      <td>9.9987</td>\n      <td>0.2502</td>\n      <td>100.0</td>\n      <td>489.05</td>\n      <td>605.03</td>\n      <td>1497.17</td>\n      <td>1304.99</td>\n      <td>10.52</td>\n      <td>...</td>\n      <td>371.69</td>\n      <td>2388.18</td>\n      <td>8114.10</td>\n      <td>8.6476</td>\n      <td>0.03</td>\n      <td>369</td>\n      <td>2319</td>\n      <td>100.00</td>\n      <td>28.42</td>\n      <td>17.1551</td>\n    </tr>\n    <tr>\n      <th>1</th>\n      <td>1</td>\n      <td>2</td>\n      <td>20.0026</td>\n      <td>0.7000</td>\n      <td>100.0</td>\n      <td>491.19</td>\n      <td>607.82</td>\n      <td>1481.20</td>\n      <td>1246.11</td>\n      <td>9.35</td>\n      <td>...</td>\n      <td>315.32</td>\n      <td>2388.12</td>\n      <td>8053.06</td>\n      <td>9.2405</td>\n      <td>0.02</td>\n      <td>364</td>\n      <td>2324</td>\n      <td>100.00</td>\n      <td>24.29</td>\n      <td>14.8039</td>\n    </tr>\n    <tr>\n      <th>2</th>\n      <td>1</td>\n      <td>3</td>\n      <td>35.0045</td>\n      <td>0.8400</td>\n      <td>100.0</td>\n      <td>449.44</td>\n      <td>556.00</td>\n      <td>1359.08</td>\n      <td>1128.36</td>\n      <td>5.48</td>\n      <td>...</td>\n      <td>183.04</td>\n      <td>2387.75</td>\n      <td>8053.04</td>\n      <td>9.3472</td>\n      <td>0.02</td>\n      <td>333</td>\n      <td>2223</td>\n      <td>100.00</td>\n      <td>14.98</td>\n      <td>8.9125</td>\n    </tr>\n    <tr>\n      <th>3</th>\n      <td>1</td>\n      <td>4</td>\n      <td>42.0066</td>\n      <td>0.8410</td>\n      <td>100.0</td>\n      <td>445.00</td>\n      <td>550.17</td>\n      <td>1349.69</td>\n      <td>1127.89</td>\n      <td>3.91</td>\n      <td>...</td>\n      <td>130.40</td>\n      <td>2387.72</td>\n      <td>8066.90</td>\n      <td>9.3961</td>\n      <td>0.02</td>\n      <td>332</td>\n      <td>2212</td>\n      <td>100.00</td>\n      <td>10.35</td>\n      <td>6.4181</td>\n    </tr>\n    <tr>\n      <th>4</th>\n      <td>1</td>\n      <td>5</td>\n      <td>24.9985</td>\n      <td>0.6213</td>\n      <td>60.0</td>\n      <td>462.54</td>\n      <td>536.72</td>\n      <td>1253.18</td>\n      <td>1050.69</td>\n      <td>7.05</td>\n      <td>...</td>\n      <td>164.56</td>\n      <td>2028.05</td>\n      <td>7865.66</td>\n      <td>10.8682</td>\n      <td>0.02</td>\n      <td>305</td>\n      <td>1915</td>\n      <td>84.93</td>\n      <td>14.31</td>\n      <td>8.5740</td>\n    </tr>\n  </tbody>\n</table>\n<p>5 rows × 26 columns</p>\n</div>"
     },
     "metadata": {},
     "execution_count": 4
    }
   ],
   "source": [
    "td = pd.read_table('../test_data.txt',sep=' ',header=None)\n",
    "td.drop([26,27],axis=1,inplace=True)\n",
    "td.columns = ['id', 'cycle', 'setting1', 'setting2', 'setting3', 's1', 's2', 's3',\n",
    "                     's4', 's5', 's6', 's7', 's8', 's9', 's10', 's11', 's12', 's13', 's14',\n",
    "                     's15', 's16', 's17', 's18', 's19', 's20', 's21']\n",
    "td.head()"
   ]
  },
  {
   "cell_type": "code",
   "execution_count": 5,
   "metadata": {},
   "outputs": [
    {
     "output_type": "execute_result",
     "data": {
      "text/plain": "21"
     },
     "metadata": {},
     "execution_count": 5
    }
   ],
   "source": [
    "td.groupby('id').max()['cycle'].min()"
   ]
  },
  {
   "cell_type": "markdown",
   "metadata": {},
   "source": [
    "### Kmeans"
   ],
   "execution_count": null,
   "outputs": []
  },
  {
   "cell_type": "code",
   "execution_count": 6,
   "metadata": {},
   "outputs": [],
   "source": [
    "from sklearn import cluster"
   ]
  },
  {
   "cell_type": "code",
   "execution_count": 7,
   "metadata": {},
   "outputs": [],
   "source": [
    "k_cluster = cluster.KMeans(n_clusters=6)\n",
    "k_cluster2 = cluster.KMeans(n_clusters=6) "
   ]
  },
  {
   "cell_type": "code",
   "execution_count": 8,
   "metadata": {},
   "outputs": [],
   "source": [
    "def max_min_normalize(df):\n",
    "    return (df-df.min())/(df.max()-df.min())"
   ]
  },
  {
   "cell_type": "code",
   "execution_count": 9,
   "metadata": {},
   "outputs": [],
   "source": [
    "feature = jet[['setting1','setting2','setting3']]\n",
    "test_feature = td[['setting1','setting2','setting3']]"
   ]
  },
  {
   "cell_type": "code",
   "execution_count": 10,
   "metadata": {},
   "outputs": [],
   "source": [
    "train_data = np.array(max_min_normalize(feature))\n",
    "test_data = np.array(max_min_normalize(test_feature))"
   ]
  },
  {
   "cell_type": "code",
   "execution_count": 11,
   "metadata": {},
   "outputs": [
    {
     "output_type": "execute_result",
     "data": {
      "text/plain": "KMeans(algorithm='auto', copy_x=True, init='k-means++', max_iter=300,\n       n_clusters=6, n_init=10, n_jobs=None, precompute_distances='auto',\n       random_state=None, tol=0.0001, verbose=0)"
     },
     "metadata": {},
     "execution_count": 11
    }
   ],
   "source": [
    "k_cluster.fit(train_data)\n",
    "k_cluster2.fit(test_data)"
   ]
  },
  {
   "cell_type": "code",
   "execution_count": 12,
   "metadata": {},
   "outputs": [],
   "source": [
    "train_df['mode'] = k_cluster.labels_\n",
    "td['mode'] = k_cluster2.labels_"
   ]
  },
  {
   "cell_type": "code",
   "execution_count": 13,
   "metadata": {},
   "outputs": [
    {
     "output_type": "execute_result",
     "data": {
      "text/plain": "        id  cycle  setting1  setting2  setting3      s1      s2       s3  \\\n0        1      1   34.9983    0.8400     100.0  449.44  555.32  1358.61   \n1        1      2   41.9982    0.8408     100.0  445.00  549.90  1353.22   \n2        1      3   24.9988    0.6218      60.0  462.54  537.31  1256.76   \n3        1      4   42.0077    0.8416     100.0  445.00  549.51  1354.03   \n4        1      5   25.0005    0.6203      60.0  462.54  537.07  1257.71   \n...    ...    ...       ...       ...       ...     ...     ...      ...   \n53754  260    312   20.0037    0.7000     100.0  491.19  608.79  1495.60   \n53755  260    313   10.0022    0.2510     100.0  489.05  605.81  1514.32   \n53756  260    314   25.0041    0.6200      60.0  462.54  537.48  1276.24   \n53757  260    315   25.0033    0.6220      60.0  462.54  537.84  1272.95   \n53758  260    316   35.0036    0.8400     100.0  449.44  556.64  1374.61   \n\n            s4     s5  ...      s13      s14      s15   s16  s17   s18  \\\n0      1137.23   5.48  ...  2387.72  8048.56   9.3461  0.02  334  2223   \n1      1125.78   3.91  ...  2387.66  8072.30   9.3774  0.02  330  2212   \n2      1047.45   7.05  ...  2028.03  7864.87  10.8941  0.02  309  1915   \n3      1126.38   3.91  ...  2387.61  8068.66   9.3528  0.02  329  2212   \n4      1047.93   7.05  ...  2028.00  7861.23  10.8963  0.02  309  1915   \n...        ...    ...  ...      ...      ...      ...   ...  ...   ...   \n53754  1269.51   9.35  ...  2389.02  8169.64   9.3035  0.03  369  2324   \n53755  1324.12  10.52  ...  2388.42  8245.36   8.7586  0.03  374  2319   \n53756  1057.92   7.05  ...  2030.33  7971.25  11.0657  0.02  310  1915   \n53757  1066.30   7.05  ...  2030.35  7972.47  11.0537  0.02  311  1915   \n53758  1145.52   5.48  ...  2390.38  8185.35   9.3998  0.02  338  2223   \n\n          s19    s20      s21  mode  \n0      100.00  14.73   8.8071     1  \n1      100.00  10.41   6.2665     5  \n2       84.93  14.08   8.6723     0  \n3      100.00  10.59   6.4701     5  \n4       84.93  14.13   8.5286     0  \n...       ...    ...      ...   ...  \n53754  100.00  24.36  14.5189     3  \n53755  100.00  28.10  16.9454     4  \n53756   84.93  14.19   8.5503     0  \n53757   84.93  14.05   8.3729     0  \n53758  100.00  14.75   8.8446     1  \n\n[53759 rows x 27 columns]",
      "text/html": "<div>\n<style scoped>\n    .dataframe tbody tr th:only-of-type {\n        vertical-align: middle;\n    }\n\n    .dataframe tbody tr th {\n        vertical-align: top;\n    }\n\n    .dataframe thead th {\n        text-align: right;\n    }\n</style>\n<table border=\"1\" class=\"dataframe\">\n  <thead>\n    <tr style=\"text-align: right;\">\n      <th></th>\n      <th>id</th>\n      <th>cycle</th>\n      <th>setting1</th>\n      <th>setting2</th>\n      <th>setting3</th>\n      <th>s1</th>\n      <th>s2</th>\n      <th>s3</th>\n      <th>s4</th>\n      <th>s5</th>\n      <th>...</th>\n      <th>s13</th>\n      <th>s14</th>\n      <th>s15</th>\n      <th>s16</th>\n      <th>s17</th>\n      <th>s18</th>\n      <th>s19</th>\n      <th>s20</th>\n      <th>s21</th>\n      <th>mode</th>\n    </tr>\n  </thead>\n  <tbody>\n    <tr>\n      <th>0</th>\n      <td>1</td>\n      <td>1</td>\n      <td>34.9983</td>\n      <td>0.8400</td>\n      <td>100.0</td>\n      <td>449.44</td>\n      <td>555.32</td>\n      <td>1358.61</td>\n      <td>1137.23</td>\n      <td>5.48</td>\n      <td>...</td>\n      <td>2387.72</td>\n      <td>8048.56</td>\n      <td>9.3461</td>\n      <td>0.02</td>\n      <td>334</td>\n      <td>2223</td>\n      <td>100.00</td>\n      <td>14.73</td>\n      <td>8.8071</td>\n      <td>1</td>\n    </tr>\n    <tr>\n      <th>1</th>\n      <td>1</td>\n      <td>2</td>\n      <td>41.9982</td>\n      <td>0.8408</td>\n      <td>100.0</td>\n      <td>445.00</td>\n      <td>549.90</td>\n      <td>1353.22</td>\n      <td>1125.78</td>\n      <td>3.91</td>\n      <td>...</td>\n      <td>2387.66</td>\n      <td>8072.30</td>\n      <td>9.3774</td>\n      <td>0.02</td>\n      <td>330</td>\n      <td>2212</td>\n      <td>100.00</td>\n      <td>10.41</td>\n      <td>6.2665</td>\n      <td>5</td>\n    </tr>\n    <tr>\n      <th>2</th>\n      <td>1</td>\n      <td>3</td>\n      <td>24.9988</td>\n      <td>0.6218</td>\n      <td>60.0</td>\n      <td>462.54</td>\n      <td>537.31</td>\n      <td>1256.76</td>\n      <td>1047.45</td>\n      <td>7.05</td>\n      <td>...</td>\n      <td>2028.03</td>\n      <td>7864.87</td>\n      <td>10.8941</td>\n      <td>0.02</td>\n      <td>309</td>\n      <td>1915</td>\n      <td>84.93</td>\n      <td>14.08</td>\n      <td>8.6723</td>\n      <td>0</td>\n    </tr>\n    <tr>\n      <th>3</th>\n      <td>1</td>\n      <td>4</td>\n      <td>42.0077</td>\n      <td>0.8416</td>\n      <td>100.0</td>\n      <td>445.00</td>\n      <td>549.51</td>\n      <td>1354.03</td>\n      <td>1126.38</td>\n      <td>3.91</td>\n      <td>...</td>\n      <td>2387.61</td>\n      <td>8068.66</td>\n      <td>9.3528</td>\n      <td>0.02</td>\n      <td>329</td>\n      <td>2212</td>\n      <td>100.00</td>\n      <td>10.59</td>\n      <td>6.4701</td>\n      <td>5</td>\n    </tr>\n    <tr>\n      <th>4</th>\n      <td>1</td>\n      <td>5</td>\n      <td>25.0005</td>\n      <td>0.6203</td>\n      <td>60.0</td>\n      <td>462.54</td>\n      <td>537.07</td>\n      <td>1257.71</td>\n      <td>1047.93</td>\n      <td>7.05</td>\n      <td>...</td>\n      <td>2028.00</td>\n      <td>7861.23</td>\n      <td>10.8963</td>\n      <td>0.02</td>\n      <td>309</td>\n      <td>1915</td>\n      <td>84.93</td>\n      <td>14.13</td>\n      <td>8.5286</td>\n      <td>0</td>\n    </tr>\n    <tr>\n      <th>...</th>\n      <td>...</td>\n      <td>...</td>\n      <td>...</td>\n      <td>...</td>\n      <td>...</td>\n      <td>...</td>\n      <td>...</td>\n      <td>...</td>\n      <td>...</td>\n      <td>...</td>\n      <td>...</td>\n      <td>...</td>\n      <td>...</td>\n      <td>...</td>\n      <td>...</td>\n      <td>...</td>\n      <td>...</td>\n      <td>...</td>\n      <td>...</td>\n      <td>...</td>\n      <td>...</td>\n    </tr>\n    <tr>\n      <th>53754</th>\n      <td>260</td>\n      <td>312</td>\n      <td>20.0037</td>\n      <td>0.7000</td>\n      <td>100.0</td>\n      <td>491.19</td>\n      <td>608.79</td>\n      <td>1495.60</td>\n      <td>1269.51</td>\n      <td>9.35</td>\n      <td>...</td>\n      <td>2389.02</td>\n      <td>8169.64</td>\n      <td>9.3035</td>\n      <td>0.03</td>\n      <td>369</td>\n      <td>2324</td>\n      <td>100.00</td>\n      <td>24.36</td>\n      <td>14.5189</td>\n      <td>3</td>\n    </tr>\n    <tr>\n      <th>53755</th>\n      <td>260</td>\n      <td>313</td>\n      <td>10.0022</td>\n      <td>0.2510</td>\n      <td>100.0</td>\n      <td>489.05</td>\n      <td>605.81</td>\n      <td>1514.32</td>\n      <td>1324.12</td>\n      <td>10.52</td>\n      <td>...</td>\n      <td>2388.42</td>\n      <td>8245.36</td>\n      <td>8.7586</td>\n      <td>0.03</td>\n      <td>374</td>\n      <td>2319</td>\n      <td>100.00</td>\n      <td>28.10</td>\n      <td>16.9454</td>\n      <td>4</td>\n    </tr>\n    <tr>\n      <th>53756</th>\n      <td>260</td>\n      <td>314</td>\n      <td>25.0041</td>\n      <td>0.6200</td>\n      <td>60.0</td>\n      <td>462.54</td>\n      <td>537.48</td>\n      <td>1276.24</td>\n      <td>1057.92</td>\n      <td>7.05</td>\n      <td>...</td>\n      <td>2030.33</td>\n      <td>7971.25</td>\n      <td>11.0657</td>\n      <td>0.02</td>\n      <td>310</td>\n      <td>1915</td>\n      <td>84.93</td>\n      <td>14.19</td>\n      <td>8.5503</td>\n      <td>0</td>\n    </tr>\n    <tr>\n      <th>53757</th>\n      <td>260</td>\n      <td>315</td>\n      <td>25.0033</td>\n      <td>0.6220</td>\n      <td>60.0</td>\n      <td>462.54</td>\n      <td>537.84</td>\n      <td>1272.95</td>\n      <td>1066.30</td>\n      <td>7.05</td>\n      <td>...</td>\n      <td>2030.35</td>\n      <td>7972.47</td>\n      <td>11.0537</td>\n      <td>0.02</td>\n      <td>311</td>\n      <td>1915</td>\n      <td>84.93</td>\n      <td>14.05</td>\n      <td>8.3729</td>\n      <td>0</td>\n    </tr>\n    <tr>\n      <th>53758</th>\n      <td>260</td>\n      <td>316</td>\n      <td>35.0036</td>\n      <td>0.8400</td>\n      <td>100.0</td>\n      <td>449.44</td>\n      <td>556.64</td>\n      <td>1374.61</td>\n      <td>1145.52</td>\n      <td>5.48</td>\n      <td>...</td>\n      <td>2390.38</td>\n      <td>8185.35</td>\n      <td>9.3998</td>\n      <td>0.02</td>\n      <td>338</td>\n      <td>2223</td>\n      <td>100.00</td>\n      <td>14.75</td>\n      <td>8.8446</td>\n      <td>1</td>\n    </tr>\n  </tbody>\n</table>\n<p>53759 rows × 27 columns</p>\n</div>"
     },
     "metadata": {},
     "execution_count": 13
    }
   ],
   "source": [
    "train_df"
   ]
  },
  {
   "cell_type": "code",
   "execution_count": 14,
   "metadata": {},
   "outputs": [
    {
     "output_type": "execute_result",
     "data": {
      "text/plain": "        id  cycle  setting1  setting2  setting3      s1      s2       s3  \\\n0        1      1    9.9987    0.2502     100.0  489.05  605.03  1497.17   \n1        1      2   20.0026    0.7000     100.0  491.19  607.82  1481.20   \n2        1      3   35.0045    0.8400     100.0  449.44  556.00  1359.08   \n3        1      4   42.0066    0.8410     100.0  445.00  550.17  1349.69   \n4        1      5   24.9985    0.6213      60.0  462.54  536.72  1253.18   \n...    ...    ...       ...       ...       ...     ...     ...      ...   \n33986  259    119   35.0015    0.8403     100.0  449.44  555.56  1366.01   \n33987  259    120   42.0066    0.8405     100.0  445.00  549.42  1351.13   \n33988  259    121   42.0061    0.8400     100.0  445.00  549.65  1349.14   \n33989  259    122    0.0024    0.0003     100.0  518.67  642.58  1589.61   \n33990  259    123   42.0033    0.8400     100.0  445.00  549.77  1342.50   \n\n            s4     s5  ...      s13      s14      s15   s16  s17   s18  \\\n0      1304.99  10.52  ...  2388.18  8114.10   8.6476  0.03  369  2319   \n1      1246.11   9.35  ...  2388.12  8053.06   9.2405  0.02  364  2324   \n2      1128.36   5.48  ...  2387.75  8053.04   9.3472  0.02  333  2223   \n3      1127.89   3.91  ...  2387.72  8066.90   9.3961  0.02  332  2212   \n4      1050.69   7.05  ...  2028.05  7865.66  10.8682  0.02  305  1915   \n...        ...    ...  ...      ...      ...      ...   ...  ...   ...   \n33986  1129.47   5.48  ...  2388.39  8088.36   9.3215  0.02  334  2223   \n33987  1123.86   3.91  ...  2388.31  8108.48   9.3542  0.02  332  2212   \n33988  1118.91   3.91  ...  2388.34  8098.77   9.3836  0.02  331  2212   \n33989  1408.16  14.62  ...  2388.00  8161.85   8.4279  0.03  393  2388   \n33990  1126.96   3.91  ...  2388.40  8105.28   9.3458  0.02  331  2212   \n\n          s19    s20      s21  mode  \n0      100.00  28.42  17.1551     4  \n1      100.00  24.29  14.8039     3  \n2      100.00  14.98   8.9125     5  \n3      100.00  10.35   6.4181     0  \n4       84.93  14.31   8.5740     2  \n...       ...    ...      ...   ...  \n33986  100.00  14.94   8.9065     5  \n33987  100.00  10.57   6.4075     0  \n33988  100.00  10.57   6.4805     0  \n33989  100.00  39.08  23.3589     1  \n33990  100.00  10.63   6.3480     0  \n\n[33991 rows x 27 columns]",
      "text/html": "<div>\n<style scoped>\n    .dataframe tbody tr th:only-of-type {\n        vertical-align: middle;\n    }\n\n    .dataframe tbody tr th {\n        vertical-align: top;\n    }\n\n    .dataframe thead th {\n        text-align: right;\n    }\n</style>\n<table border=\"1\" class=\"dataframe\">\n  <thead>\n    <tr style=\"text-align: right;\">\n      <th></th>\n      <th>id</th>\n      <th>cycle</th>\n      <th>setting1</th>\n      <th>setting2</th>\n      <th>setting3</th>\n      <th>s1</th>\n      <th>s2</th>\n      <th>s3</th>\n      <th>s4</th>\n      <th>s5</th>\n      <th>...</th>\n      <th>s13</th>\n      <th>s14</th>\n      <th>s15</th>\n      <th>s16</th>\n      <th>s17</th>\n      <th>s18</th>\n      <th>s19</th>\n      <th>s20</th>\n      <th>s21</th>\n      <th>mode</th>\n    </tr>\n  </thead>\n  <tbody>\n    <tr>\n      <th>0</th>\n      <td>1</td>\n      <td>1</td>\n      <td>9.9987</td>\n      <td>0.2502</td>\n      <td>100.0</td>\n      <td>489.05</td>\n      <td>605.03</td>\n      <td>1497.17</td>\n      <td>1304.99</td>\n      <td>10.52</td>\n      <td>...</td>\n      <td>2388.18</td>\n      <td>8114.10</td>\n      <td>8.6476</td>\n      <td>0.03</td>\n      <td>369</td>\n      <td>2319</td>\n      <td>100.00</td>\n      <td>28.42</td>\n      <td>17.1551</td>\n      <td>4</td>\n    </tr>\n    <tr>\n      <th>1</th>\n      <td>1</td>\n      <td>2</td>\n      <td>20.0026</td>\n      <td>0.7000</td>\n      <td>100.0</td>\n      <td>491.19</td>\n      <td>607.82</td>\n      <td>1481.20</td>\n      <td>1246.11</td>\n      <td>9.35</td>\n      <td>...</td>\n      <td>2388.12</td>\n      <td>8053.06</td>\n      <td>9.2405</td>\n      <td>0.02</td>\n      <td>364</td>\n      <td>2324</td>\n      <td>100.00</td>\n      <td>24.29</td>\n      <td>14.8039</td>\n      <td>3</td>\n    </tr>\n    <tr>\n      <th>2</th>\n      <td>1</td>\n      <td>3</td>\n      <td>35.0045</td>\n      <td>0.8400</td>\n      <td>100.0</td>\n      <td>449.44</td>\n      <td>556.00</td>\n      <td>1359.08</td>\n      <td>1128.36</td>\n      <td>5.48</td>\n      <td>...</td>\n      <td>2387.75</td>\n      <td>8053.04</td>\n      <td>9.3472</td>\n      <td>0.02</td>\n      <td>333</td>\n      <td>2223</td>\n      <td>100.00</td>\n      <td>14.98</td>\n      <td>8.9125</td>\n      <td>5</td>\n    </tr>\n    <tr>\n      <th>3</th>\n      <td>1</td>\n      <td>4</td>\n      <td>42.0066</td>\n      <td>0.8410</td>\n      <td>100.0</td>\n      <td>445.00</td>\n      <td>550.17</td>\n      <td>1349.69</td>\n      <td>1127.89</td>\n      <td>3.91</td>\n      <td>...</td>\n      <td>2387.72</td>\n      <td>8066.90</td>\n      <td>9.3961</td>\n      <td>0.02</td>\n      <td>332</td>\n      <td>2212</td>\n      <td>100.00</td>\n      <td>10.35</td>\n      <td>6.4181</td>\n      <td>0</td>\n    </tr>\n    <tr>\n      <th>4</th>\n      <td>1</td>\n      <td>5</td>\n      <td>24.9985</td>\n      <td>0.6213</td>\n      <td>60.0</td>\n      <td>462.54</td>\n      <td>536.72</td>\n      <td>1253.18</td>\n      <td>1050.69</td>\n      <td>7.05</td>\n      <td>...</td>\n      <td>2028.05</td>\n      <td>7865.66</td>\n      <td>10.8682</td>\n      <td>0.02</td>\n      <td>305</td>\n      <td>1915</td>\n      <td>84.93</td>\n      <td>14.31</td>\n      <td>8.5740</td>\n      <td>2</td>\n    </tr>\n    <tr>\n      <th>...</th>\n      <td>...</td>\n      <td>...</td>\n      <td>...</td>\n      <td>...</td>\n      <td>...</td>\n      <td>...</td>\n      <td>...</td>\n      <td>...</td>\n      <td>...</td>\n      <td>...</td>\n      <td>...</td>\n      <td>...</td>\n      <td>...</td>\n      <td>...</td>\n      <td>...</td>\n      <td>...</td>\n      <td>...</td>\n      <td>...</td>\n      <td>...</td>\n      <td>...</td>\n      <td>...</td>\n    </tr>\n    <tr>\n      <th>33986</th>\n      <td>259</td>\n      <td>119</td>\n      <td>35.0015</td>\n      <td>0.8403</td>\n      <td>100.0</td>\n      <td>449.44</td>\n      <td>555.56</td>\n      <td>1366.01</td>\n      <td>1129.47</td>\n      <td>5.48</td>\n      <td>...</td>\n      <td>2388.39</td>\n      <td>8088.36</td>\n      <td>9.3215</td>\n      <td>0.02</td>\n      <td>334</td>\n      <td>2223</td>\n      <td>100.00</td>\n      <td>14.94</td>\n      <td>8.9065</td>\n      <td>5</td>\n    </tr>\n    <tr>\n      <th>33987</th>\n      <td>259</td>\n      <td>120</td>\n      <td>42.0066</td>\n      <td>0.8405</td>\n      <td>100.0</td>\n      <td>445.00</td>\n      <td>549.42</td>\n      <td>1351.13</td>\n      <td>1123.86</td>\n      <td>3.91</td>\n      <td>...</td>\n      <td>2388.31</td>\n      <td>8108.48</td>\n      <td>9.3542</td>\n      <td>0.02</td>\n      <td>332</td>\n      <td>2212</td>\n      <td>100.00</td>\n      <td>10.57</td>\n      <td>6.4075</td>\n      <td>0</td>\n    </tr>\n    <tr>\n      <th>33988</th>\n      <td>259</td>\n      <td>121</td>\n      <td>42.0061</td>\n      <td>0.8400</td>\n      <td>100.0</td>\n      <td>445.00</td>\n      <td>549.65</td>\n      <td>1349.14</td>\n      <td>1118.91</td>\n      <td>3.91</td>\n      <td>...</td>\n      <td>2388.34</td>\n      <td>8098.77</td>\n      <td>9.3836</td>\n      <td>0.02</td>\n      <td>331</td>\n      <td>2212</td>\n      <td>100.00</td>\n      <td>10.57</td>\n      <td>6.4805</td>\n      <td>0</td>\n    </tr>\n    <tr>\n      <th>33989</th>\n      <td>259</td>\n      <td>122</td>\n      <td>0.0024</td>\n      <td>0.0003</td>\n      <td>100.0</td>\n      <td>518.67</td>\n      <td>642.58</td>\n      <td>1589.61</td>\n      <td>1408.16</td>\n      <td>14.62</td>\n      <td>...</td>\n      <td>2388.00</td>\n      <td>8161.85</td>\n      <td>8.4279</td>\n      <td>0.03</td>\n      <td>393</td>\n      <td>2388</td>\n      <td>100.00</td>\n      <td>39.08</td>\n      <td>23.3589</td>\n      <td>1</td>\n    </tr>\n    <tr>\n      <th>33990</th>\n      <td>259</td>\n      <td>123</td>\n      <td>42.0033</td>\n      <td>0.8400</td>\n      <td>100.0</td>\n      <td>445.00</td>\n      <td>549.77</td>\n      <td>1342.50</td>\n      <td>1126.96</td>\n      <td>3.91</td>\n      <td>...</td>\n      <td>2388.40</td>\n      <td>8105.28</td>\n      <td>9.3458</td>\n      <td>0.02</td>\n      <td>331</td>\n      <td>2212</td>\n      <td>100.00</td>\n      <td>10.63</td>\n      <td>6.3480</td>\n      <td>0</td>\n    </tr>\n  </tbody>\n</table>\n<p>33991 rows × 27 columns</p>\n</div>"
     },
     "metadata": {},
     "execution_count": 14
    }
   ],
   "source": [
    "td"
   ]
  },
  {
   "cell_type": "markdown",
   "metadata": {},
   "source": [
    "### 数据处理"
   ],
   "execution_count": null,
   "outputs": []
  },
  {
   "cell_type": "code",
   "execution_count": 15,
   "metadata": {},
   "outputs": [
    {
     "output_type": "execute_result",
     "data": {
      "text/plain": "   id  cycle  setting1  setting2  setting3      s1      s2       s3       s4  \\\n0   1      1   34.9983    0.8400     100.0  449.44  555.32  1358.61  1137.23   \n1   1      2   41.9982    0.8408     100.0  445.00  549.90  1353.22  1125.78   \n2   1      3   24.9988    0.6218      60.0  462.54  537.31  1256.76  1047.45   \n3   1      4   42.0077    0.8416     100.0  445.00  549.51  1354.03  1126.38   \n4   1      5   25.0005    0.6203      60.0  462.54  537.07  1257.71  1047.93   \n\n     s5  ...      s14      s15   s16  s17   s18     s19    s20     s21  mode  \\\n0  5.48  ...  8048.56   9.3461  0.02  334  2223  100.00  14.73  8.8071     1   \n1  3.91  ...  8072.30   9.3774  0.02  330  2212  100.00  10.41  6.2665     5   \n2  7.05  ...  7864.87  10.8941  0.02  309  1915   84.93  14.08  8.6723     0   \n3  3.91  ...  8068.66   9.3528  0.02  329  2212  100.00  10.59  6.4701     5   \n4  7.05  ...  7861.23  10.8963  0.02  309  1915   84.93  14.13  8.5286     0   \n\n   RUL  \n0  148  \n1  147  \n2  146  \n3  145  \n4  144  \n\n[5 rows x 28 columns]",
      "text/html": "<div>\n<style scoped>\n    .dataframe tbody tr th:only-of-type {\n        vertical-align: middle;\n    }\n\n    .dataframe tbody tr th {\n        vertical-align: top;\n    }\n\n    .dataframe thead th {\n        text-align: right;\n    }\n</style>\n<table border=\"1\" class=\"dataframe\">\n  <thead>\n    <tr style=\"text-align: right;\">\n      <th></th>\n      <th>id</th>\n      <th>cycle</th>\n      <th>setting1</th>\n      <th>setting2</th>\n      <th>setting3</th>\n      <th>s1</th>\n      <th>s2</th>\n      <th>s3</th>\n      <th>s4</th>\n      <th>s5</th>\n      <th>...</th>\n      <th>s14</th>\n      <th>s15</th>\n      <th>s16</th>\n      <th>s17</th>\n      <th>s18</th>\n      <th>s19</th>\n      <th>s20</th>\n      <th>s21</th>\n      <th>mode</th>\n      <th>RUL</th>\n    </tr>\n  </thead>\n  <tbody>\n    <tr>\n      <th>0</th>\n      <td>1</td>\n      <td>1</td>\n      <td>34.9983</td>\n      <td>0.8400</td>\n      <td>100.0</td>\n      <td>449.44</td>\n      <td>555.32</td>\n      <td>1358.61</td>\n      <td>1137.23</td>\n      <td>5.48</td>\n      <td>...</td>\n      <td>8048.56</td>\n      <td>9.3461</td>\n      <td>0.02</td>\n      <td>334</td>\n      <td>2223</td>\n      <td>100.00</td>\n      <td>14.73</td>\n      <td>8.8071</td>\n      <td>1</td>\n      <td>148</td>\n    </tr>\n    <tr>\n      <th>1</th>\n      <td>1</td>\n      <td>2</td>\n      <td>41.9982</td>\n      <td>0.8408</td>\n      <td>100.0</td>\n      <td>445.00</td>\n      <td>549.90</td>\n      <td>1353.22</td>\n      <td>1125.78</td>\n      <td>3.91</td>\n      <td>...</td>\n      <td>8072.30</td>\n      <td>9.3774</td>\n      <td>0.02</td>\n      <td>330</td>\n      <td>2212</td>\n      <td>100.00</td>\n      <td>10.41</td>\n      <td>6.2665</td>\n      <td>5</td>\n      <td>147</td>\n    </tr>\n    <tr>\n      <th>2</th>\n      <td>1</td>\n      <td>3</td>\n      <td>24.9988</td>\n      <td>0.6218</td>\n      <td>60.0</td>\n      <td>462.54</td>\n      <td>537.31</td>\n      <td>1256.76</td>\n      <td>1047.45</td>\n      <td>7.05</td>\n      <td>...</td>\n      <td>7864.87</td>\n      <td>10.8941</td>\n      <td>0.02</td>\n      <td>309</td>\n      <td>1915</td>\n      <td>84.93</td>\n      <td>14.08</td>\n      <td>8.6723</td>\n      <td>0</td>\n      <td>146</td>\n    </tr>\n    <tr>\n      <th>3</th>\n      <td>1</td>\n      <td>4</td>\n      <td>42.0077</td>\n      <td>0.8416</td>\n      <td>100.0</td>\n      <td>445.00</td>\n      <td>549.51</td>\n      <td>1354.03</td>\n      <td>1126.38</td>\n      <td>3.91</td>\n      <td>...</td>\n      <td>8068.66</td>\n      <td>9.3528</td>\n      <td>0.02</td>\n      <td>329</td>\n      <td>2212</td>\n      <td>100.00</td>\n      <td>10.59</td>\n      <td>6.4701</td>\n      <td>5</td>\n      <td>145</td>\n    </tr>\n    <tr>\n      <th>4</th>\n      <td>1</td>\n      <td>5</td>\n      <td>25.0005</td>\n      <td>0.6203</td>\n      <td>60.0</td>\n      <td>462.54</td>\n      <td>537.07</td>\n      <td>1257.71</td>\n      <td>1047.93</td>\n      <td>7.05</td>\n      <td>...</td>\n      <td>7861.23</td>\n      <td>10.8963</td>\n      <td>0.02</td>\n      <td>309</td>\n      <td>1915</td>\n      <td>84.93</td>\n      <td>14.13</td>\n      <td>8.5286</td>\n      <td>0</td>\n      <td>144</td>\n    </tr>\n  </tbody>\n</table>\n<p>5 rows × 28 columns</p>\n</div>"
     },
     "metadata": {},
     "execution_count": 15
    }
   ],
   "source": [
    "# Data Labeling - generate column RUL\n",
    "rul = pd.DataFrame(train_df.groupby('id')['cycle'].max()).reset_index()\n",
    "rul.columns = ['id', 'max']\n",
    "train_df = train_df.merge(rul, on=['id'], how='left')\n",
    "train_df['RUL'] = train_df['max'] - train_df['cycle']\n",
    "train_df.drop('max', axis=1, inplace=True)\n",
    "train_df.head()"
   ]
  },
  {
   "cell_type": "code",
   "execution_count": 16,
   "metadata": {},
   "outputs": [
    {
     "output_type": "execute_result",
     "data": {
      "text/plain": "        id  cycle  setting1  setting2  setting3        s1        s2        s3  \\\n0        1      1  0.833134  0.997625       1.0  0.060269  0.181576  0.311201   \n1        1      2  0.999767  0.998575       1.0  0.000000  0.131847  0.296600   \n2        1      3  0.595096  0.738480       0.0  0.238089  0.016332  0.035297   \n3        1      4  0.999993  0.999525       1.0  0.000000  0.128269  0.298795   \n4        1      5  0.595137  0.736698       0.0  0.238089  0.014130  0.037871   \n...    ...    ...       ...       ...       ...       ...       ...       ...   \n53754  260    312  0.476188  0.831354       1.0  0.626985  0.672172  0.682297   \n53755  260    313  0.238102  0.298100       1.0  0.597937  0.644830  0.733008   \n53756  260    314  0.595222  0.736342       0.0  0.238089  0.017892  0.088067   \n53757  260    315  0.595203  0.738717       0.0  0.238089  0.021195  0.079155   \n53758  260    316  0.833260  0.997625       1.0  0.060269  0.193687  0.354544   \n\n             s4        s5  ...       s15  s16       s17       s18  s19  \\\n0      0.273095  0.146592  ...  0.369947  0.0  0.322917  0.651163  1.0   \n1      0.245535  0.000000  ...  0.381407  0.0  0.281250  0.627907  1.0   \n2      0.056997  0.293184  ...  0.936731  0.0  0.062500  0.000000  0.0   \n3      0.246979  0.000000  ...  0.372400  0.0  0.270833  0.627907  1.0   \n4      0.058152  0.293184  ...  0.937537  0.0  0.062500  0.000000  0.0   \n...         ...       ...  ...       ...  ...       ...       ...  ...   \n53754  0.591489  0.507937  ...  0.354350  1.0  0.687500  0.864693  1.0   \n53755  0.722934  0.617180  ...  0.154840  1.0  0.739583  0.854123  1.0   \n53756  0.082198  0.293184  ...  0.999561  0.0  0.072917  0.000000  0.0   \n53757  0.102368  0.293184  ...  0.995167  0.0  0.083333  0.000000  0.0   \n53758  0.293049  0.146592  ...  0.389609  0.0  0.364583  0.651163  1.0   \n\n            s20       s21  mode  RUL  cycle_norm  \n0      0.156036  0.159082   0.2  148    0.000000  \n1      0.007888  0.014562   1.0  147    0.002653  \n2      0.133745  0.151414   0.0  146    0.005305  \n3      0.014060  0.026144   1.0  145    0.007958  \n4      0.135460  0.143240   0.0  144    0.010610  \n...         ...       ...   ...  ...         ...  \n53754  0.486283  0.483993   0.6    4    0.824934  \n53755  0.614540  0.622022   0.8    3    0.827586  \n53756  0.137517  0.144474   0.0    2    0.830239  \n53757  0.132716  0.134383   0.0    1    0.832891  \n53758  0.156722  0.161215   0.2    0    0.835544  \n\n[53759 rows x 29 columns]",
      "text/html": "<div>\n<style scoped>\n    .dataframe tbody tr th:only-of-type {\n        vertical-align: middle;\n    }\n\n    .dataframe tbody tr th {\n        vertical-align: top;\n    }\n\n    .dataframe thead th {\n        text-align: right;\n    }\n</style>\n<table border=\"1\" class=\"dataframe\">\n  <thead>\n    <tr style=\"text-align: right;\">\n      <th></th>\n      <th>id</th>\n      <th>cycle</th>\n      <th>setting1</th>\n      <th>setting2</th>\n      <th>setting3</th>\n      <th>s1</th>\n      <th>s2</th>\n      <th>s3</th>\n      <th>s4</th>\n      <th>s5</th>\n      <th>...</th>\n      <th>s15</th>\n      <th>s16</th>\n      <th>s17</th>\n      <th>s18</th>\n      <th>s19</th>\n      <th>s20</th>\n      <th>s21</th>\n      <th>mode</th>\n      <th>RUL</th>\n      <th>cycle_norm</th>\n    </tr>\n  </thead>\n  <tbody>\n    <tr>\n      <th>0</th>\n      <td>1</td>\n      <td>1</td>\n      <td>0.833134</td>\n      <td>0.997625</td>\n      <td>1.0</td>\n      <td>0.060269</td>\n      <td>0.181576</td>\n      <td>0.311201</td>\n      <td>0.273095</td>\n      <td>0.146592</td>\n      <td>...</td>\n      <td>0.369947</td>\n      <td>0.0</td>\n      <td>0.322917</td>\n      <td>0.651163</td>\n      <td>1.0</td>\n      <td>0.156036</td>\n      <td>0.159082</td>\n      <td>0.2</td>\n      <td>148</td>\n      <td>0.000000</td>\n    </tr>\n    <tr>\n      <th>1</th>\n      <td>1</td>\n      <td>2</td>\n      <td>0.999767</td>\n      <td>0.998575</td>\n      <td>1.0</td>\n      <td>0.000000</td>\n      <td>0.131847</td>\n      <td>0.296600</td>\n      <td>0.245535</td>\n      <td>0.000000</td>\n      <td>...</td>\n      <td>0.381407</td>\n      <td>0.0</td>\n      <td>0.281250</td>\n      <td>0.627907</td>\n      <td>1.0</td>\n      <td>0.007888</td>\n      <td>0.014562</td>\n      <td>1.0</td>\n      <td>147</td>\n      <td>0.002653</td>\n    </tr>\n    <tr>\n      <th>2</th>\n      <td>1</td>\n      <td>3</td>\n      <td>0.595096</td>\n      <td>0.738480</td>\n      <td>0.0</td>\n      <td>0.238089</td>\n      <td>0.016332</td>\n      <td>0.035297</td>\n      <td>0.056997</td>\n      <td>0.293184</td>\n      <td>...</td>\n      <td>0.936731</td>\n      <td>0.0</td>\n      <td>0.062500</td>\n      <td>0.000000</td>\n      <td>0.0</td>\n      <td>0.133745</td>\n      <td>0.151414</td>\n      <td>0.0</td>\n      <td>146</td>\n      <td>0.005305</td>\n    </tr>\n    <tr>\n      <th>3</th>\n      <td>1</td>\n      <td>4</td>\n      <td>0.999993</td>\n      <td>0.999525</td>\n      <td>1.0</td>\n      <td>0.000000</td>\n      <td>0.128269</td>\n      <td>0.298795</td>\n      <td>0.246979</td>\n      <td>0.000000</td>\n      <td>...</td>\n      <td>0.372400</td>\n      <td>0.0</td>\n      <td>0.270833</td>\n      <td>0.627907</td>\n      <td>1.0</td>\n      <td>0.014060</td>\n      <td>0.026144</td>\n      <td>1.0</td>\n      <td>145</td>\n      <td>0.007958</td>\n    </tr>\n    <tr>\n      <th>4</th>\n      <td>1</td>\n      <td>5</td>\n      <td>0.595137</td>\n      <td>0.736698</td>\n      <td>0.0</td>\n      <td>0.238089</td>\n      <td>0.014130</td>\n      <td>0.037871</td>\n      <td>0.058152</td>\n      <td>0.293184</td>\n      <td>...</td>\n      <td>0.937537</td>\n      <td>0.0</td>\n      <td>0.062500</td>\n      <td>0.000000</td>\n      <td>0.0</td>\n      <td>0.135460</td>\n      <td>0.143240</td>\n      <td>0.0</td>\n      <td>144</td>\n      <td>0.010610</td>\n    </tr>\n    <tr>\n      <th>...</th>\n      <td>...</td>\n      <td>...</td>\n      <td>...</td>\n      <td>...</td>\n      <td>...</td>\n      <td>...</td>\n      <td>...</td>\n      <td>...</td>\n      <td>...</td>\n      <td>...</td>\n      <td>...</td>\n      <td>...</td>\n      <td>...</td>\n      <td>...</td>\n      <td>...</td>\n      <td>...</td>\n      <td>...</td>\n      <td>...</td>\n      <td>...</td>\n      <td>...</td>\n      <td>...</td>\n    </tr>\n    <tr>\n      <th>53754</th>\n      <td>260</td>\n      <td>312</td>\n      <td>0.476188</td>\n      <td>0.831354</td>\n      <td>1.0</td>\n      <td>0.626985</td>\n      <td>0.672172</td>\n      <td>0.682297</td>\n      <td>0.591489</td>\n      <td>0.507937</td>\n      <td>...</td>\n      <td>0.354350</td>\n      <td>1.0</td>\n      <td>0.687500</td>\n      <td>0.864693</td>\n      <td>1.0</td>\n      <td>0.486283</td>\n      <td>0.483993</td>\n      <td>0.6</td>\n      <td>4</td>\n      <td>0.824934</td>\n    </tr>\n    <tr>\n      <th>53755</th>\n      <td>260</td>\n      <td>313</td>\n      <td>0.238102</td>\n      <td>0.298100</td>\n      <td>1.0</td>\n      <td>0.597937</td>\n      <td>0.644830</td>\n      <td>0.733008</td>\n      <td>0.722934</td>\n      <td>0.617180</td>\n      <td>...</td>\n      <td>0.154840</td>\n      <td>1.0</td>\n      <td>0.739583</td>\n      <td>0.854123</td>\n      <td>1.0</td>\n      <td>0.614540</td>\n      <td>0.622022</td>\n      <td>0.8</td>\n      <td>3</td>\n      <td>0.827586</td>\n    </tr>\n    <tr>\n      <th>53756</th>\n      <td>260</td>\n      <td>314</td>\n      <td>0.595222</td>\n      <td>0.736342</td>\n      <td>0.0</td>\n      <td>0.238089</td>\n      <td>0.017892</td>\n      <td>0.088067</td>\n      <td>0.082198</td>\n      <td>0.293184</td>\n      <td>...</td>\n      <td>0.999561</td>\n      <td>0.0</td>\n      <td>0.072917</td>\n      <td>0.000000</td>\n      <td>0.0</td>\n      <td>0.137517</td>\n      <td>0.144474</td>\n      <td>0.0</td>\n      <td>2</td>\n      <td>0.830239</td>\n    </tr>\n    <tr>\n      <th>53757</th>\n      <td>260</td>\n      <td>315</td>\n      <td>0.595203</td>\n      <td>0.738717</td>\n      <td>0.0</td>\n      <td>0.238089</td>\n      <td>0.021195</td>\n      <td>0.079155</td>\n      <td>0.102368</td>\n      <td>0.293184</td>\n      <td>...</td>\n      <td>0.995167</td>\n      <td>0.0</td>\n      <td>0.083333</td>\n      <td>0.000000</td>\n      <td>0.0</td>\n      <td>0.132716</td>\n      <td>0.134383</td>\n      <td>0.0</td>\n      <td>1</td>\n      <td>0.832891</td>\n    </tr>\n    <tr>\n      <th>53758</th>\n      <td>260</td>\n      <td>316</td>\n      <td>0.833260</td>\n      <td>0.997625</td>\n      <td>1.0</td>\n      <td>0.060269</td>\n      <td>0.193687</td>\n      <td>0.354544</td>\n      <td>0.293049</td>\n      <td>0.146592</td>\n      <td>...</td>\n      <td>0.389609</td>\n      <td>0.0</td>\n      <td>0.364583</td>\n      <td>0.651163</td>\n      <td>1.0</td>\n      <td>0.156722</td>\n      <td>0.161215</td>\n      <td>0.2</td>\n      <td>0</td>\n      <td>0.835544</td>\n    </tr>\n  </tbody>\n</table>\n<p>53759 rows × 29 columns</p>\n</div>"
     },
     "metadata": {},
     "execution_count": 16
    }
   ],
   "source": [
    "# normalize the columns in the training data.\n",
    "# MinMax normalization\n",
    "train_df['cycle_norm'] = train_df['cycle']\n",
    "cols_normalize = train_df.columns.difference(['id','cycle','RUL'])\n",
    "min_max_scaler = preprocessing.MinMaxScaler()\n",
    "norm_train_df = pd.DataFrame(min_max_scaler.fit_transform(train_df[cols_normalize]), \n",
    "                             columns=cols_normalize, \n",
    "                             index=train_df.index)\n",
    "join_df = train_df[train_df.columns.difference(cols_normalize)].join(norm_train_df)\n",
    "train_df = join_df.reindex(columns = train_df.columns)\n",
    "train_df"
   ]
  },
  {
   "cell_type": "code",
   "execution_count": 17,
   "metadata": {},
   "outputs": [
    {
     "output_type": "execute_result",
     "data": {
      "text/plain": "        id  cycle  setting1  setting2  setting3        s1        s2        s3  \\\n0        1      1  0.238019  0.297150       1.0  0.597937  0.639243  0.691329   \n1        1      2  0.476162  0.831354       1.0  0.626985  0.664861  0.647519   \n2        1      3  0.833282  0.997625       1.0  0.060269  0.189055  0.312512   \n3        1      4  0.999967  0.998812       1.0  0.000000  0.135525  0.286753   \n4        1      5  0.595089  0.737886       0.0  0.238089  0.012028  0.022001   \n...    ...    ...       ...       ...       ...       ...       ...       ...   \n33986  259    119  0.833210  0.997981       1.0  0.060269  0.185015  0.331523   \n33987  259    120  0.999967  0.998219       1.0  0.000000  0.128638  0.290703   \n33988  259    121  0.999955  0.997625       1.0  0.000000  0.130750  0.285244   \n33989  259    122  0.000057  0.000356       1.0  1.000000  0.984024  0.944915   \n33990  259    123  0.999888  0.997625       1.0  0.000000  0.131852  0.267029   \n\n             s4        s5  ...       s14       s15  s16       s17       s18  \\\n0      0.680395  0.617180  ...  0.670742  0.117564  1.0  0.694737  0.854123   \n1      0.534663  0.507937  ...  0.514944  0.337173  0.0  0.642105  0.864693   \n2      0.243225  0.146592  ...  0.514893  0.376695  0.0  0.315789  0.651163   \n3      0.242061  0.000000  ...  0.550269  0.394807  0.0  0.305263  0.627907   \n4      0.050986  0.293184  ...  0.036627  0.940070  0.0  0.021053  0.000000   \n...         ...       ...  ...       ...       ...  ...       ...       ...   \n33986  0.245972  0.146592  ...  0.605044  0.367175  0.0  0.326316  0.651163   \n33987  0.232087  0.000000  ...  0.656398  0.379287  0.0  0.305263  0.627907   \n33988  0.219835  0.000000  ...  0.631614  0.390177  0.0  0.294737  0.627907   \n33989  0.935747  1.000000  ...  0.792618  0.036188  1.0  0.947368  1.000000   \n33990  0.239759  0.000000  ...  0.648230  0.376176  0.0  0.294737  0.627907   \n\n       s19       s20       s21  mode  cycle_norm  \n0      1.0  0.625944  0.630724   0.8    0.000000  \n1      1.0  0.484214  0.496301   0.6    0.002732  \n2      1.0  0.164722  0.159476   1.0    0.005464  \n3      1.0  0.005834  0.016866   0.0    0.008197  \n4      0.0  0.141730  0.140123   0.4    0.010929  \n...    ...       ...       ...   ...         ...  \n33986  1.0  0.163349  0.159133   1.0    0.322404  \n33987  1.0  0.013384  0.016260   0.0    0.325137  \n33988  1.0  0.013384  0.020433   0.0    0.327869  \n33989  1.0  0.991764  0.985410   0.2    0.330601  \n33990  1.0  0.015443  0.012858   0.0    0.333333  \n\n[33991 rows x 28 columns]",
      "text/html": "<div>\n<style scoped>\n    .dataframe tbody tr th:only-of-type {\n        vertical-align: middle;\n    }\n\n    .dataframe tbody tr th {\n        vertical-align: top;\n    }\n\n    .dataframe thead th {\n        text-align: right;\n    }\n</style>\n<table border=\"1\" class=\"dataframe\">\n  <thead>\n    <tr style=\"text-align: right;\">\n      <th></th>\n      <th>id</th>\n      <th>cycle</th>\n      <th>setting1</th>\n      <th>setting2</th>\n      <th>setting3</th>\n      <th>s1</th>\n      <th>s2</th>\n      <th>s3</th>\n      <th>s4</th>\n      <th>s5</th>\n      <th>...</th>\n      <th>s14</th>\n      <th>s15</th>\n      <th>s16</th>\n      <th>s17</th>\n      <th>s18</th>\n      <th>s19</th>\n      <th>s20</th>\n      <th>s21</th>\n      <th>mode</th>\n      <th>cycle_norm</th>\n    </tr>\n  </thead>\n  <tbody>\n    <tr>\n      <th>0</th>\n      <td>1</td>\n      <td>1</td>\n      <td>0.238019</td>\n      <td>0.297150</td>\n      <td>1.0</td>\n      <td>0.597937</td>\n      <td>0.639243</td>\n      <td>0.691329</td>\n      <td>0.680395</td>\n      <td>0.617180</td>\n      <td>...</td>\n      <td>0.670742</td>\n      <td>0.117564</td>\n      <td>1.0</td>\n      <td>0.694737</td>\n      <td>0.854123</td>\n      <td>1.0</td>\n      <td>0.625944</td>\n      <td>0.630724</td>\n      <td>0.8</td>\n      <td>0.000000</td>\n    </tr>\n    <tr>\n      <th>1</th>\n      <td>1</td>\n      <td>2</td>\n      <td>0.476162</td>\n      <td>0.831354</td>\n      <td>1.0</td>\n      <td>0.626985</td>\n      <td>0.664861</td>\n      <td>0.647519</td>\n      <td>0.534663</td>\n      <td>0.507937</td>\n      <td>...</td>\n      <td>0.514944</td>\n      <td>0.337173</td>\n      <td>0.0</td>\n      <td>0.642105</td>\n      <td>0.864693</td>\n      <td>1.0</td>\n      <td>0.484214</td>\n      <td>0.496301</td>\n      <td>0.6</td>\n      <td>0.002732</td>\n    </tr>\n    <tr>\n      <th>2</th>\n      <td>1</td>\n      <td>3</td>\n      <td>0.833282</td>\n      <td>0.997625</td>\n      <td>1.0</td>\n      <td>0.060269</td>\n      <td>0.189055</td>\n      <td>0.312512</td>\n      <td>0.243225</td>\n      <td>0.146592</td>\n      <td>...</td>\n      <td>0.514893</td>\n      <td>0.376695</td>\n      <td>0.0</td>\n      <td>0.315789</td>\n      <td>0.651163</td>\n      <td>1.0</td>\n      <td>0.164722</td>\n      <td>0.159476</td>\n      <td>1.0</td>\n      <td>0.005464</td>\n    </tr>\n    <tr>\n      <th>3</th>\n      <td>1</td>\n      <td>4</td>\n      <td>0.999967</td>\n      <td>0.998812</td>\n      <td>1.0</td>\n      <td>0.000000</td>\n      <td>0.135525</td>\n      <td>0.286753</td>\n      <td>0.242061</td>\n      <td>0.000000</td>\n      <td>...</td>\n      <td>0.550269</td>\n      <td>0.394807</td>\n      <td>0.0</td>\n      <td>0.305263</td>\n      <td>0.627907</td>\n      <td>1.0</td>\n      <td>0.005834</td>\n      <td>0.016866</td>\n      <td>0.0</td>\n      <td>0.008197</td>\n    </tr>\n    <tr>\n      <th>4</th>\n      <td>1</td>\n      <td>5</td>\n      <td>0.595089</td>\n      <td>0.737886</td>\n      <td>0.0</td>\n      <td>0.238089</td>\n      <td>0.012028</td>\n      <td>0.022001</td>\n      <td>0.050986</td>\n      <td>0.293184</td>\n      <td>...</td>\n      <td>0.036627</td>\n      <td>0.940070</td>\n      <td>0.0</td>\n      <td>0.021053</td>\n      <td>0.000000</td>\n      <td>0.0</td>\n      <td>0.141730</td>\n      <td>0.140123</td>\n      <td>0.4</td>\n      <td>0.010929</td>\n    </tr>\n    <tr>\n      <th>...</th>\n      <td>...</td>\n      <td>...</td>\n      <td>...</td>\n      <td>...</td>\n      <td>...</td>\n      <td>...</td>\n      <td>...</td>\n      <td>...</td>\n      <td>...</td>\n      <td>...</td>\n      <td>...</td>\n      <td>...</td>\n      <td>...</td>\n      <td>...</td>\n      <td>...</td>\n      <td>...</td>\n      <td>...</td>\n      <td>...</td>\n      <td>...</td>\n      <td>...</td>\n      <td>...</td>\n    </tr>\n    <tr>\n      <th>33986</th>\n      <td>259</td>\n      <td>119</td>\n      <td>0.833210</td>\n      <td>0.997981</td>\n      <td>1.0</td>\n      <td>0.060269</td>\n      <td>0.185015</td>\n      <td>0.331523</td>\n      <td>0.245972</td>\n      <td>0.146592</td>\n      <td>...</td>\n      <td>0.605044</td>\n      <td>0.367175</td>\n      <td>0.0</td>\n      <td>0.326316</td>\n      <td>0.651163</td>\n      <td>1.0</td>\n      <td>0.163349</td>\n      <td>0.159133</td>\n      <td>1.0</td>\n      <td>0.322404</td>\n    </tr>\n    <tr>\n      <th>33987</th>\n      <td>259</td>\n      <td>120</td>\n      <td>0.999967</td>\n      <td>0.998219</td>\n      <td>1.0</td>\n      <td>0.000000</td>\n      <td>0.128638</td>\n      <td>0.290703</td>\n      <td>0.232087</td>\n      <td>0.000000</td>\n      <td>...</td>\n      <td>0.656398</td>\n      <td>0.379287</td>\n      <td>0.0</td>\n      <td>0.305263</td>\n      <td>0.627907</td>\n      <td>1.0</td>\n      <td>0.013384</td>\n      <td>0.016260</td>\n      <td>0.0</td>\n      <td>0.325137</td>\n    </tr>\n    <tr>\n      <th>33988</th>\n      <td>259</td>\n      <td>121</td>\n      <td>0.999955</td>\n      <td>0.997625</td>\n      <td>1.0</td>\n      <td>0.000000</td>\n      <td>0.130750</td>\n      <td>0.285244</td>\n      <td>0.219835</td>\n      <td>0.000000</td>\n      <td>...</td>\n      <td>0.631614</td>\n      <td>0.390177</td>\n      <td>0.0</td>\n      <td>0.294737</td>\n      <td>0.627907</td>\n      <td>1.0</td>\n      <td>0.013384</td>\n      <td>0.020433</td>\n      <td>0.0</td>\n      <td>0.327869</td>\n    </tr>\n    <tr>\n      <th>33989</th>\n      <td>259</td>\n      <td>122</td>\n      <td>0.000057</td>\n      <td>0.000356</td>\n      <td>1.0</td>\n      <td>1.000000</td>\n      <td>0.984024</td>\n      <td>0.944915</td>\n      <td>0.935747</td>\n      <td>1.000000</td>\n      <td>...</td>\n      <td>0.792618</td>\n      <td>0.036188</td>\n      <td>1.0</td>\n      <td>0.947368</td>\n      <td>1.000000</td>\n      <td>1.0</td>\n      <td>0.991764</td>\n      <td>0.985410</td>\n      <td>0.2</td>\n      <td>0.330601</td>\n    </tr>\n    <tr>\n      <th>33990</th>\n      <td>259</td>\n      <td>123</td>\n      <td>0.999888</td>\n      <td>0.997625</td>\n      <td>1.0</td>\n      <td>0.000000</td>\n      <td>0.131852</td>\n      <td>0.267029</td>\n      <td>0.239759</td>\n      <td>0.000000</td>\n      <td>...</td>\n      <td>0.648230</td>\n      <td>0.376176</td>\n      <td>0.0</td>\n      <td>0.294737</td>\n      <td>0.627907</td>\n      <td>1.0</td>\n      <td>0.015443</td>\n      <td>0.012858</td>\n      <td>0.0</td>\n      <td>0.333333</td>\n    </tr>\n  </tbody>\n</table>\n<p>33991 rows × 28 columns</p>\n</div>"
     },
     "metadata": {},
     "execution_count": 17
    }
   ],
   "source": [
    "# normalize the columns in the test data.\n",
    "# MinMax normalization\n",
    "td['cycle_norm'] = td['cycle']\n",
    "cols_normalize = td.columns.difference(['id','cycle'])\n",
    "min_max_scaler = preprocessing.MinMaxScaler()\n",
    "norm_train_df = pd.DataFrame(min_max_scaler.fit_transform(td[cols_normalize]), \n",
    "                             columns=cols_normalize, \n",
    "                             index=td.index)\n",
    "join_df = td[td.columns.difference(cols_normalize)].join(norm_train_df)\n",
    "td = join_df.reindex(columns = td.columns)\n",
    "td"
   ]
  },
  {
   "cell_type": "markdown",
   "metadata": {},
   "source": [
    "Keras LSTM layers expect an input in the shape of a numpy array of 3 dimensions (samples, time steps, features) where samples is the number of training sequences, time steps is the look back window or sequence length and features is the number of features of each sequence at each time step."
   ],
   "execution_count": null,
   "outputs": []
  },
  {
   "cell_type": "code",
   "execution_count": 18,
   "metadata": {},
   "outputs": [],
   "source": [
    "# function to reshape features into (samples, time steps, features) \n",
    "def gen_sequence(id_df, seq_length, seq_cols):\n",
    "    \"\"\" Only sequences that meet the window-length are considered, no padding is used. This means for testing\n",
    "    we need to drop those which are below the window-length. An alternative would be to pad sequences so that\n",
    "    we can use shorter ones \"\"\"\n",
    "    data_array = id_df[seq_cols].values\n",
    "    num_elements = data_array.shape[0]\n",
    "    for start, stop in zip(range(0, num_elements-seq_length), range(seq_length, num_elements)):\n",
    "        yield data_array[start:stop, :]\n",
    "    # For example id1 have 192 rows and sequence_length is equal to 50\n",
    "    # so zip iterate over two following list of numbers (0,112),(50,192)\n",
    "    # 0 50 -> from row 0 to row 50\n",
    "    # 1 51 -> from row 1 to row 51\n",
    "    # 2 52 -> from row 2 to row 52\n",
    "    # ...\n",
    "    # 111 191 -> from row 111 to 191"
   ]
  },
  {
   "cell_type": "code",
   "execution_count": 19,
   "metadata": {},
   "outputs": [],
   "source": [
    "# pick the feature columns \n",
    "sensor_cols = ['s' + str(i) for i in range(1,22)]\n",
    "sequence_cols = ['setting1', 'setting2', 'setting3','cycle_norm','mode']\n",
    "# sequence_cols = ['setting1', 'setting2', 'setting3','cycle_norm']\n",
    "sequence_cols.extend(sensor_cols)"
   ]
  },
  {
   "cell_type": "code",
   "execution_count": 20,
   "metadata": {},
   "outputs": [],
   "source": [
    "sequence_length = 20"
   ]
  },
  {
   "cell_type": "code",
   "execution_count": 21,
   "metadata": {},
   "outputs": [
    {
     "output_type": "execute_result",
     "data": {
      "text/plain": "(48559, 20, 26)"
     },
     "metadata": {},
     "execution_count": 21
    }
   ],
   "source": [
    "# generator for the sequences\n",
    "seq_gen = (list(gen_sequence(train_df[train_df['id']==id], sequence_length, sequence_cols)) \n",
    "           for id in train_df['id'].unique())\n",
    "\n",
    "# generate sequences and convert to numpy array\n",
    "seq_array = np.concatenate(list(seq_gen)).astype(np.float32)\n",
    "seq_array.shape"
   ]
  },
  {
   "cell_type": "code",
   "execution_count": 22,
   "metadata": {},
   "outputs": [],
   "source": [
    "# function to generate labels\n",
    "def gen_labels(id_df, seq_length, label):\n",
    "    data_array = id_df[label].values\n",
    "    num_elements = data_array.shape[0]\n",
    "    return data_array[seq_length:num_elements, :]"
   ]
  },
  {
   "cell_type": "code",
   "execution_count": 23,
   "metadata": {},
   "outputs": [
    {
     "output_type": "execute_result",
     "data": {
      "text/plain": "array([[128.],\n       [127.],\n       [126.],\n       ...,\n       [  2.],\n       [  1.],\n       [  0.]], dtype=float32)"
     },
     "metadata": {},
     "execution_count": 23
    }
   ],
   "source": [
    "# generate labels\n",
    "label_gen = [gen_labels(train_df[train_df['id']==id], sequence_length, ['RUL']) \n",
    "             for id in train_df['id'].unique()]\n",
    "label_array = np.concatenate(label_gen).astype(np.float32)\n",
    "label_array.shape\n",
    "label_array"
   ]
  },
  {
   "cell_type": "markdown",
   "metadata": {},
   "source": [
    "### LSTM Network\n",
    "Next, we build a deep network. The first layer is an LSTM layer with 100 units followed by another LSTM layer with 50 units. Dropout is also applied after each LSTM layer to control overfitting. Final layer is a Dense output layer with single unit and sigmoid activation since this is a binary classification problem."
   ],
   "execution_count": null,
   "outputs": []
  },
  {
   "cell_type": "markdown",
   "metadata": {},
   "source": [
    "### USE the model in github"
   ],
   "execution_count": null,
   "outputs": []
  },
  {
   "cell_type": "code",
   "execution_count": 24,
   "metadata": {},
   "outputs": [],
   "source": [
    "import keras.backend as K"
   ]
  },
  {
   "cell_type": "code",
   "execution_count": 33,
   "metadata": {},
   "outputs": [],
   "source": [
    "def r2_keras(y_true, y_pred):\n",
    "    \"\"\"Coefficient of Determination \n",
    "    \"\"\"\n",
    "    SS_res =  K.sum(K.square( y_true - y_pred ))\n",
    "    SS_tot = K.sum(K.square( y_true - K.mean(y_true) ) )\n",
    "    return ( 1 - SS_res/(SS_tot + K.epsilon()) )"
   ]
  },
  {
   "cell_type": "code",
   "execution_count": 34,
   "metadata": {},
   "outputs": [
    {
     "output_type": "stream",
     "name": "stdout",
     "text": "_________________________________________________________________\nLayer (type)                 Output Shape              Param #   \n=================================================================\nlstm_3 (LSTM)                (None, 20, 100)           50800     \n_________________________________________________________________\ndropout_3 (Dropout)          (None, 20, 100)           0         \n_________________________________________________________________\nlstm_4 (LSTM)                (None, 50)                30200     \n_________________________________________________________________\ndropout_4 (Dropout)          (None, 50)                0         \n_________________________________________________________________\ndense_2 (Dense)              (None, 1)                 51        \n_________________________________________________________________\nactivation_2 (Activation)    (None, 1)                 0         \n=================================================================\nTotal params: 81,051\nTrainable params: 81,051\nNon-trainable params: 0\n_________________________________________________________________\nNone\n"
    }
   ],
   "source": [
    "nb_features = seq_array.shape[2]\n",
    "nb_out = label_array.shape[1]\n",
    "\n",
    "model = Sequential()\n",
    "model.add(LSTM(\n",
    "         input_shape=(sequence_length, nb_features),\n",
    "         units=100,\n",
    "         return_sequences=True))\n",
    "model.add(Dropout(0.2))\n",
    "model.add(LSTM(\n",
    "          units=50,\n",
    "          return_sequences=False))\n",
    "model.add(Dropout(0.2))\n",
    "model.add(Dense(units=nb_out))\n",
    "model.add(Activation(\"linear\"))\n",
    "model.compile(loss='mean_squared_error', optimizer='rmsprop',metrics=['mae',r2_keras])\n",
    "\n",
    "print(model.summary())"
   ]
  },
  {
   "cell_type": "code",
   "execution_count": 27,
   "metadata": {},
   "outputs": [
    {
     "output_type": "error",
     "ename": "NameError",
     "evalue": "name 'model' is not defined",
     "traceback": [
      "\u001b[0;31m---------------------------------------------------------------------------\u001b[0m",
      "\u001b[0;31mNameError\u001b[0m                                 Traceback (most recent call last)",
      "\u001b[0;32m<ipython-input-27-67401396f241>\u001b[0m in \u001b[0;36m<module>\u001b[0;34m\u001b[0m\n\u001b[1;32m      1\u001b[0m \u001b[0;31m# fit the network\u001b[0m\u001b[0;34m\u001b[0m\u001b[0;34m\u001b[0m\u001b[0;34m\u001b[0m\u001b[0m\n\u001b[1;32m      2\u001b[0m \u001b[0mmodel_path\u001b[0m\u001b[0;34m=\u001b[0m\u001b[0;34m'4reg.h5'\u001b[0m\u001b[0;34m\u001b[0m\u001b[0;34m\u001b[0m\u001b[0m\n\u001b[0;32m----> 3\u001b[0;31m history = model.fit(seq_array, label_array, epochs=100, batch_size=200, validation_split=0.05, verbose=2,\n\u001b[0m\u001b[1;32m      4\u001b[0m           callbacks = [keras.callbacks.EarlyStopping(monitor='val_loss', min_delta=0, patience=10, verbose=0, mode='min'),\n\u001b[1;32m      5\u001b[0m                        keras.callbacks.ModelCheckpoint(model_path,monitor='val_loss', save_best_only=True, mode='min', verbose=0)]\n",
      "\u001b[0;31mNameError\u001b[0m: name 'model' is not defined"
     ]
    }
   ],
   "source": [
    "# fit the network\n",
    "model_path='4reg.h5'\n",
    "history = model.fit(seq_array, label_array, epochs=100, batch_size=200, validation_split=0.05, verbose=2,\n",
    "          callbacks = [keras.callbacks.EarlyStopping(monitor='val_loss', min_delta=0, patience=10, verbose=0, mode='min'),\n",
    "                       keras.callbacks.ModelCheckpoint(model_path,monitor='val_loss', save_best_only=True, mode='min', verbose=0)]\n",
    "          )\n",
    "\n",
    "# list all data in history\n",
    "print(history.history.keys())"
   ]
  },
  {
   "cell_type": "code",
   "execution_count": 35,
   "metadata": {},
   "outputs": [
    {
     "output_type": "stream",
     "name": "stdout",
     "text": "48559/48559 [==============================] - 27s 565us/step\n"
    },
    {
     "output_type": "execute_result",
     "data": {
      "text/plain": "array([[179.98935 ],\n       [178.33348 ],\n       [159.76498 ],\n       ...,\n       [ 12.370204],\n       [ 12.016957],\n       [ 13.830347]], dtype=float32)"
     },
     "metadata": {},
     "execution_count": 35
    }
   ],
   "source": [
    "model.load_weights('4reg.h5')\n",
    "ans = model.predict(seq_array,verbose=1)\n",
    "ans"
   ]
  },
  {
   "cell_type": "code",
   "execution_count": 39,
   "metadata": {},
   "outputs": [
    {
     "output_type": "stream",
     "name": "stdout",
     "text": "48559/48559 [==============================] - 13s 267us/step\nLoss: 1384.0967982289878\n"
    }
   ],
   "source": [
    "# training metrics\n",
    "scores = model.evaluate(seq_array, label_array, verbose=1, batch_size=200)\n",
    "print('Loss: {}'.format(scores[0]))"
   ]
  },
  {
   "cell_type": "markdown",
   "metadata": {},
   "source": [
    "### Calculate result"
   ]
  },
  {
   "cell_type": "code",
   "execution_count": 36,
   "metadata": {},
   "outputs": [],
   "source": [
    "# We pick the last sequence for each id in the test data\n",
    "test = [td[td['id']==id][sequence_cols].values[-sequence_length:] \n",
    "                       for id in td['id'].unique() if len(td[td['id']==id]) >= sequence_length]\n",
    "\n",
    "test = np.asarray(test).astype(np.float32)"
   ]
  },
  {
   "cell_type": "code",
   "execution_count": 38,
   "metadata": {},
   "outputs": [
    {
     "output_type": "stream",
     "name": "stdout",
     "text": "259/259 [==============================] - 0s 596us/step\n"
    },
    {
     "output_type": "execute_result",
     "data": {
      "text/plain": "array([[ 11.151736 ],\n       [149.32538  ],\n       [ 83.99304  ],\n       [110.665    ],\n       [ 16.787735 ],\n       [148.4408   ],\n       [ 15.351172 ],\n       [ 36.26513  ],\n       [  8.919941 ],\n       [137.01791  ],\n       [ 27.952438 ],\n       [123.181404 ],\n       [ 65.00417  ],\n       [  7.299381 ],\n       [ 78.21964  ],\n       [ 62.30776  ],\n       [ 58.372677 ],\n       [146.38222  ],\n       [ 23.510666 ],\n       [ 90.42477  ],\n       [ 18.411762 ],\n       [ 13.414752 ],\n       [146.5156   ],\n       [ 86.06526  ],\n       [ 71.485985 ],\n       [121.19422  ],\n       [144.36896  ],\n       [172.76967  ],\n       [ 87.05645  ],\n       [ 61.078037 ],\n       [100.587456 ],\n       [ 12.450218 ],\n       [ 50.081215 ],\n       [139.47684  ],\n       [109.716606 ],\n       [ 70.6876   ],\n       [115.29105  ],\n       [ 37.266308 ],\n       [ 41.961452 ],\n       [ 29.306286 ],\n       [ 36.114506 ],\n       [ 27.55508  ],\n       [ 71.12164  ],\n       [ 18.861294 ],\n       [  9.326402 ],\n       [ 54.509296 ],\n       [124.234116 ],\n       [ 49.336834 ],\n       [149.42662  ],\n       [ 15.466905 ],\n       [168.00258  ],\n       [ 17.668095 ],\n       [ 55.68376  ],\n       [ 99.85716  ],\n       [121.52563  ],\n       [130.82915  ],\n       [134.24454  ],\n       [ 19.188435 ],\n       [156.61273  ],\n       [ 67.47453  ],\n       [154.41866  ],\n       [ 43.861336 ],\n       [ 39.332912 ],\n       [  9.936146 ],\n       [ 45.764996 ],\n       [103.561485 ],\n       [125.14126  ],\n       [ 73.90161  ],\n       [ 81.75349  ],\n       [  9.558272 ],\n       [132.45624  ],\n       [121.40821  ],\n       [ 18.262777 ],\n       [121.05457  ],\n       [114.76568  ],\n       [ 27.291328 ],\n       [140.04022  ],\n       [ 72.838524 ],\n       [ 75.43343  ],\n       [  9.231968 ],\n       [133.9334   ],\n       [129.2661   ],\n       [159.0792   ],\n       [ 17.266972 ],\n       [ 30.998829 ],\n       [ 99.59411  ],\n       [ 21.971344 ],\n       [132.84613  ],\n       [132.00847  ],\n       [ 10.715994 ],\n       [ 21.195084 ],\n       [ 83.47317  ],\n       [128.73499  ],\n       [ 68.46418  ],\n       [ 99.448044 ],\n       [ 61.86712  ],\n       [ 17.69568  ],\n       [ 55.854183 ],\n       [ 15.159196 ],\n       [ 67.426384 ],\n       [168.32248  ],\n       [  9.955665 ],\n       [ 12.016119 ],\n       [ 95.73005  ],\n       [135.35999  ],\n       [114.9797   ],\n       [ 51.811802 ],\n       [ 95.52902  ],\n       [ 24.801823 ],\n       [ 62.43333  ],\n       [ 18.428308 ],\n       [ 69.10505  ],\n       [179.97502  ],\n       [ 89.57079  ],\n       [ 34.469955 ],\n       [ 13.845734 ],\n       [150.62076  ],\n       [ 76.044716 ],\n       [115.50979  ],\n       [ 22.931713 ],\n       [132.50702  ],\n       [179.59825  ],\n       [149.33136  ],\n       [  8.546675 ],\n       [ 88.24041  ],\n       [135.59622  ],\n       [ 49.27443  ],\n       [ 79.41566  ],\n       [ 94.6304   ],\n       [143.0176   ],\n       [139.67154  ],\n       [ 59.683697 ],\n       [ 59.93704  ],\n       [ 10.935833 ],\n       [107.43331  ],\n       [120.43595  ],\n       [138.33243  ],\n       [  7.3641605],\n       [ 36.811543 ],\n       [ 23.498474 ],\n       [143.26794  ],\n       [ 25.34887  ],\n       [ 64.156334 ],\n       [ 93.266335 ],\n       [108.14622  ],\n       [ 22.819244 ],\n       [152.68541  ],\n       [ 22.414833 ],\n       [133.52675  ],\n       [ 26.4388   ],\n       [ 65.74179  ],\n       [126.34922  ],\n       [ 83.40638  ],\n       [144.57947  ],\n       [127.83691  ],\n       [ 93.57168  ],\n       [119.76391  ],\n       [ 20.431515 ],\n       [ 13.266186 ],\n       [ 95.70899  ],\n       [ 26.640224 ],\n       [ 70.01885  ],\n       [ 28.909958 ],\n       [  7.131066 ],\n       [160.84012  ],\n       [120.11205  ],\n       [139.93481  ],\n       [105.17812  ],\n       [117.14086  ],\n       [131.64441  ],\n       [ 45.60911  ],\n       [ 53.90547  ],\n       [ 15.1291895],\n       [134.36807  ],\n       [117.45515  ],\n       [ 53.4235   ],\n       [ 20.183735 ],\n       [177.00128  ],\n       [ 47.855896 ],\n       [ 80.1618   ],\n       [ 74.76757  ],\n       [ 15.782264 ],\n       [ 56.138336 ],\n       [123.54291  ],\n       [ 17.734512 ],\n       [ 12.676815 ],\n       [133.87398  ],\n       [117.104294 ],\n       [ 95.45406  ],\n       [ 65.51366  ],\n       [150.48549  ],\n       [ 48.916447 ],\n       [ 17.335796 ],\n       [167.68576  ],\n       [ 51.164944 ],\n       [ 65.77862  ],\n       [143.57483  ],\n       [146.88136  ],\n       [ 98.10879  ],\n       [130.56078  ],\n       [173.83942  ],\n       [134.09724  ],\n       [ 46.685585 ],\n       [180.00127  ],\n       [167.2538   ],\n       [ 53.149418 ],\n       [ 52.869926 ],\n       [  8.822239 ],\n       [ 48.395077 ],\n       [ 10.380768 ],\n       [ 46.90991  ],\n       [ 74.5771   ],\n       [ 40.019108 ],\n       [133.33691  ],\n       [142.47433  ],\n       [ 80.10435  ],\n       [150.6383   ],\n       [159.12256  ],\n       [ 52.107044 ],\n       [140.03189  ],\n       [107.35384  ],\n       [ 67.90392  ],\n       [179.93912  ],\n       [144.86111  ],\n       [ 17.514818 ],\n       [ 31.606842 ],\n       [ 11.189781 ],\n       [144.80028  ],\n       [137.64662  ],\n       [ 84.37204  ],\n       [ 11.448776 ],\n       [ 72.89999  ],\n       [161.48938  ],\n       [102.077835 ],\n       [120.18261  ],\n       [ 22.053226 ],\n       [ 34.038147 ],\n       [165.6307   ],\n       [ 81.88952  ],\n       [130.91304  ],\n       [160.62857  ],\n       [ 11.115412 ],\n       [153.948    ],\n       [140.14796  ],\n       [ 12.758567 ],\n       [116.50012  ],\n       [135.47745  ],\n       [ 42.5379   ],\n       [165.66104  ],\n       [ 13.531201 ],\n       [114.85682  ],\n       [ 16.095642 ],\n       [ 92.43431  ],\n       [ 24.21986  ],\n       [ 69.725296 ],\n       [107.83184  ],\n       [113.1977   ],\n       [ 91.86264  ],\n       [100.594925 ]], dtype=float32)"
     },
     "metadata": {},
     "execution_count": 38
    }
   ],
   "source": [
    "result = model.predict(test,verbose=1)\n",
    "result"
   ]
  },
  {
   "cell_type": "code",
   "execution_count": 40,
   "metadata": {},
   "outputs": [
    {
     "output_type": "execute_result",
     "data": {
      "text/plain": "(259, 1)"
     },
     "metadata": {},
     "execution_count": 40
    }
   ],
   "source": [
    "result.shape"
   ]
  },
  {
   "cell_type": "markdown",
   "metadata": {},
   "source": [
    "---"
   ],
   "execution_count": null,
   "outputs": []
  }
 ]
}