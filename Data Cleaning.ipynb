{
 "cells": [
  {
   "cell_type": "markdown",
   "metadata": {},
   "source": [
    "# Data Cleaning\n",
    "封装了一个函数，专门初始化数据，返回一个DataFrame和dict，具体内容见下："
   ]
  },
  {
   "cell_type": "code",
   "execution_count": 1,
   "metadata": {},
   "outputs": [],
   "source": [
    "# Data Cleaning Implementation\n",
    "import pandas as pd\n",
    "\n",
    "\n",
    "def data_clean():\n",
    "    jet = pd.read_table('train_data.txt', sep=' ', header=None)\n",
    "    jet.drop([26, 27], axis=1, inplace=True)\n",
    "    jet_index_1 = jet.iloc[:, 0].tolist()\n",
    "    jet_index_2 = jet.iloc[:, 1].tolist()\n",
    "    jet_index = pd.MultiIndex.from_arrays(\n",
    "        [jet_index_1, jet_index_2], names=['id', 'flight'])\n",
    "    jet.set_index(jet_index, inplace=True)\n",
    "    jet.drop([0, 1], axis=1, inplace=True)\n",
    "    sensors = '''Altitude\n",
    "    Mach #\n",
    "    Power Setting (TRA)\n",
    "    12 Total temperature at fan inlet°R\n",
    "    T24 Total temperature at LPC outlet °R\n",
    "    T30 Total temperature at HPC outlet °R\n",
    "    T50 Total temperature at LPT outlet °R\n",
    "    P2 Pressure at fan inlet psia\n",
    "    P15 Total pressure in bypass-duct psia\n",
    "    P30 Total pressure at HPC outlet psia\n",
    "    Nf Physical fan speed rpm\n",
    "    Nc Physical core speed rpm\n",
    "    epr Engine pressure ratio (P50/P2) -\n",
    "    Ps30 Static pressure at HPC outlet psia\n",
    "    phi Ratio of fuel flow to Ps30 pps/psi\n",
    "    NRf Corrected fan speed rpm\n",
    "    NRc Corected core speed rpm\n",
    "    BPR Bypass Ratio-\n",
    "    farB Bumer fuel-air ratio\n",
    "    htBleed (Bleed Enthalpy)\n",
    "    Nf_dmd Demanded fan speed rpm\n",
    "    PCNFR_dmd Demanded corre dted fan speed rpm\n",
    "    w31 HPT cool ant bleed lbm/s\n",
    "    w32 LPT coolant bleed lbm/s'''\n",
    "    sensors = sensors.split(sep='\\n')\n",
    "    num_col = list(range(1, 25))\n",
    "    jet.columns = num_col\n",
    "    sensors_dict = dict(zip(num_col, sensors))\n",
    "    return jet, sensors_dict"
   ]
  },
  {
   "cell_type": "code",
   "execution_count": 2,
   "metadata": {},
   "outputs": [],
   "source": [
    "jet, sensor_dict = data_clean()"
   ]
  },
  {
   "cell_type": "code",
   "execution_count": 3,
   "metadata": {
    "scrolled": false
   },
   "outputs": [
    {
     "data": {
      "text/html": [
       "<div>\n",
       "<style scoped>\n",
       "    .dataframe tbody tr th:only-of-type {\n",
       "        vertical-align: middle;\n",
       "    }\n",
       "\n",
       "    .dataframe tbody tr th {\n",
       "        vertical-align: top;\n",
       "    }\n",
       "\n",
       "    .dataframe thead th {\n",
       "        text-align: right;\n",
       "    }\n",
       "</style>\n",
       "<table border=\"1\" class=\"dataframe\">\n",
       "  <thead>\n",
       "    <tr style=\"text-align: right;\">\n",
       "      <th></th>\n",
       "      <th></th>\n",
       "      <th>1</th>\n",
       "      <th>2</th>\n",
       "      <th>3</th>\n",
       "      <th>4</th>\n",
       "      <th>5</th>\n",
       "      <th>6</th>\n",
       "      <th>7</th>\n",
       "      <th>8</th>\n",
       "      <th>9</th>\n",
       "      <th>10</th>\n",
       "      <th>...</th>\n",
       "      <th>15</th>\n",
       "      <th>16</th>\n",
       "      <th>17</th>\n",
       "      <th>18</th>\n",
       "      <th>19</th>\n",
       "      <th>20</th>\n",
       "      <th>21</th>\n",
       "      <th>22</th>\n",
       "      <th>23</th>\n",
       "      <th>24</th>\n",
       "    </tr>\n",
       "    <tr>\n",
       "      <th>id</th>\n",
       "      <th>flight</th>\n",
       "      <th></th>\n",
       "      <th></th>\n",
       "      <th></th>\n",
       "      <th></th>\n",
       "      <th></th>\n",
       "      <th></th>\n",
       "      <th></th>\n",
       "      <th></th>\n",
       "      <th></th>\n",
       "      <th></th>\n",
       "      <th></th>\n",
       "      <th></th>\n",
       "      <th></th>\n",
       "      <th></th>\n",
       "      <th></th>\n",
       "      <th></th>\n",
       "      <th></th>\n",
       "      <th></th>\n",
       "      <th></th>\n",
       "      <th></th>\n",
       "      <th></th>\n",
       "    </tr>\n",
       "  </thead>\n",
       "  <tbody>\n",
       "    <tr>\n",
       "      <th rowspan=\"5\" valign=\"top\">1</th>\n",
       "      <th>1</th>\n",
       "      <td>34.9983</td>\n",
       "      <td>0.8400</td>\n",
       "      <td>100.0</td>\n",
       "      <td>449.44</td>\n",
       "      <td>555.32</td>\n",
       "      <td>1358.61</td>\n",
       "      <td>1137.23</td>\n",
       "      <td>5.48</td>\n",
       "      <td>8.00</td>\n",
       "      <td>194.64</td>\n",
       "      <td>...</td>\n",
       "      <td>183.06</td>\n",
       "      <td>2387.72</td>\n",
       "      <td>8048.56</td>\n",
       "      <td>9.3461</td>\n",
       "      <td>0.02</td>\n",
       "      <td>334</td>\n",
       "      <td>2223</td>\n",
       "      <td>100.00</td>\n",
       "      <td>14.73</td>\n",
       "      <td>8.8071</td>\n",
       "    </tr>\n",
       "    <tr>\n",
       "      <th>2</th>\n",
       "      <td>41.9982</td>\n",
       "      <td>0.8408</td>\n",
       "      <td>100.0</td>\n",
       "      <td>445.00</td>\n",
       "      <td>549.90</td>\n",
       "      <td>1353.22</td>\n",
       "      <td>1125.78</td>\n",
       "      <td>3.91</td>\n",
       "      <td>5.71</td>\n",
       "      <td>138.51</td>\n",
       "      <td>...</td>\n",
       "      <td>130.42</td>\n",
       "      <td>2387.66</td>\n",
       "      <td>8072.30</td>\n",
       "      <td>9.3774</td>\n",
       "      <td>0.02</td>\n",
       "      <td>330</td>\n",
       "      <td>2212</td>\n",
       "      <td>100.00</td>\n",
       "      <td>10.41</td>\n",
       "      <td>6.2665</td>\n",
       "    </tr>\n",
       "    <tr>\n",
       "      <th>3</th>\n",
       "      <td>24.9988</td>\n",
       "      <td>0.6218</td>\n",
       "      <td>60.0</td>\n",
       "      <td>462.54</td>\n",
       "      <td>537.31</td>\n",
       "      <td>1256.76</td>\n",
       "      <td>1047.45</td>\n",
       "      <td>7.05</td>\n",
       "      <td>9.02</td>\n",
       "      <td>175.71</td>\n",
       "      <td>...</td>\n",
       "      <td>164.22</td>\n",
       "      <td>2028.03</td>\n",
       "      <td>7864.87</td>\n",
       "      <td>10.8941</td>\n",
       "      <td>0.02</td>\n",
       "      <td>309</td>\n",
       "      <td>1915</td>\n",
       "      <td>84.93</td>\n",
       "      <td>14.08</td>\n",
       "      <td>8.6723</td>\n",
       "    </tr>\n",
       "    <tr>\n",
       "      <th>4</th>\n",
       "      <td>42.0077</td>\n",
       "      <td>0.8416</td>\n",
       "      <td>100.0</td>\n",
       "      <td>445.00</td>\n",
       "      <td>549.51</td>\n",
       "      <td>1354.03</td>\n",
       "      <td>1126.38</td>\n",
       "      <td>3.91</td>\n",
       "      <td>5.71</td>\n",
       "      <td>138.46</td>\n",
       "      <td>...</td>\n",
       "      <td>130.72</td>\n",
       "      <td>2387.61</td>\n",
       "      <td>8068.66</td>\n",
       "      <td>9.3528</td>\n",
       "      <td>0.02</td>\n",
       "      <td>329</td>\n",
       "      <td>2212</td>\n",
       "      <td>100.00</td>\n",
       "      <td>10.59</td>\n",
       "      <td>6.4701</td>\n",
       "    </tr>\n",
       "    <tr>\n",
       "      <th>5</th>\n",
       "      <td>25.0005</td>\n",
       "      <td>0.6203</td>\n",
       "      <td>60.0</td>\n",
       "      <td>462.54</td>\n",
       "      <td>537.07</td>\n",
       "      <td>1257.71</td>\n",
       "      <td>1047.93</td>\n",
       "      <td>7.05</td>\n",
       "      <td>9.03</td>\n",
       "      <td>175.05</td>\n",
       "      <td>...</td>\n",
       "      <td>164.31</td>\n",
       "      <td>2028.00</td>\n",
       "      <td>7861.23</td>\n",
       "      <td>10.8963</td>\n",
       "      <td>0.02</td>\n",
       "      <td>309</td>\n",
       "      <td>1915</td>\n",
       "      <td>84.93</td>\n",
       "      <td>14.13</td>\n",
       "      <td>8.5286</td>\n",
       "    </tr>\n",
       "  </tbody>\n",
       "</table>\n",
       "<p>5 rows × 24 columns</p>\n",
       "</div>"
      ],
      "text/plain": [
       "                1       2      3       4       5        6        7     8   \\\n",
       "id flight                                                                   \n",
       "1  1       34.9983  0.8400  100.0  449.44  555.32  1358.61  1137.23  5.48   \n",
       "   2       41.9982  0.8408  100.0  445.00  549.90  1353.22  1125.78  3.91   \n",
       "   3       24.9988  0.6218   60.0  462.54  537.31  1256.76  1047.45  7.05   \n",
       "   4       42.0077  0.8416  100.0  445.00  549.51  1354.03  1126.38  3.91   \n",
       "   5       25.0005  0.6203   60.0  462.54  537.07  1257.71  1047.93  7.05   \n",
       "\n",
       "             9       10   ...        15       16       17       18    19   20  \\\n",
       "id flight                 ...                                                   \n",
       "1  1       8.00  194.64   ...    183.06  2387.72  8048.56   9.3461  0.02  334   \n",
       "   2       5.71  138.51   ...    130.42  2387.66  8072.30   9.3774  0.02  330   \n",
       "   3       9.02  175.71   ...    164.22  2028.03  7864.87  10.8941  0.02  309   \n",
       "   4       5.71  138.46   ...    130.72  2387.61  8068.66   9.3528  0.02  329   \n",
       "   5       9.03  175.05   ...    164.31  2028.00  7861.23  10.8963  0.02  309   \n",
       "\n",
       "             21      22     23      24  \n",
       "id flight                               \n",
       "1  1       2223  100.00  14.73  8.8071  \n",
       "   2       2212  100.00  10.41  6.2665  \n",
       "   3       1915   84.93  14.08  8.6723  \n",
       "   4       2212  100.00  10.59  6.4701  \n",
       "   5       1915   84.93  14.13  8.5286  \n",
       "\n",
       "[5 rows x 24 columns]"
      ]
     },
     "execution_count": 3,
     "metadata": {},
     "output_type": "execute_result"
    }
   ],
   "source": [
    "jet.head()"
   ]
  },
  {
   "cell_type": "code",
   "execution_count": 18,
   "metadata": {},
   "outputs": [
    {
     "data": {
      "text/plain": [
       "{1: 'Altitude',\n",
       " 2: '    Mach #',\n",
       " 3: '    Power Setting (TRA)',\n",
       " 4: '    12 Total temperature at fan inlet°R',\n",
       " 5: '    T24 Total temperature at LPC outlet °R',\n",
       " 6: '    T30 Total temperature at HPC outlet °R',\n",
       " 7: '    T50 Total temperature at LPT outlet °R',\n",
       " 8: '    P2 Pressure at fan inlet psia',\n",
       " 9: '    P15 Total pressure in bypass-duct psia',\n",
       " 10: '    P30 Total pressure at HPC outlet psia',\n",
       " 11: '    Nf Physical fan speed rpm',\n",
       " 12: '    Nc Physical core speed rpm',\n",
       " 13: '    epr Engine pressure ratio (P50/P2) -',\n",
       " 14: '    Ps30 Static pressure at HPC outlet psia',\n",
       " 15: '    phi Ratio of fuel flow to Ps30 pps/psi',\n",
       " 16: '    NRf Corrected fan speed rpm',\n",
       " 17: '    NRc Corected core speed rpm',\n",
       " 18: '    BPR Bypass Ratio-',\n",
       " 19: '    farB Bumer fuel-air ratio',\n",
       " 20: '    htBleed (Bleed Enthalpy)',\n",
       " 21: '    Nf_dmd Demanded fan speed rpm',\n",
       " 22: '    PCNFR_dmd Demanded corre dted fan speed rpm',\n",
       " 23: '    w31 HPT cool ant bleed lbm/s',\n",
       " 24: '    w32 LPT coolant bleed lbm/s'}"
      ]
     },
     "execution_count": 18,
     "metadata": {},
     "output_type": "execute_result"
    }
   ],
   "source": [
    "sensor_dict"
   ]
  },
  {
   "cell_type": "markdown",
   "metadata": {},
   "source": [
    "# Data Visualization\n",
    "可见少部分传感器是二元的，大部分是连续分布的，传感器的参数也反映了不同的飞行模式。"
   ]
  },
  {
   "cell_type": "code",
   "execution_count": 5,
   "metadata": {},
   "outputs": [],
   "source": [
    "jet.hist(bins=20,figsize=(18,16));"
   ]
  },
  {
   "cell_type": "markdown",
   "metadata": {},
   "source": [
    "3,16,19,22传感器都只返回两个值"
   ]
  },
  {
   "cell_type": "markdown",
   "metadata": {},
   "source": [
    "# Clustering\n",
    "## 1. 对全集聚类\n",
    "使用k-means进行一个简单的聚类（**kmeans很可能不够合理**），分开六种飞行模式，方法是直接对训练数据总集（对总集聚类也可能不够合理）进行聚类。"
   ]
  },
  {
   "cell_type": "code",
   "execution_count": 6,
   "metadata": {},
   "outputs": [],
   "source": [
    "from sklearn import cluster"
   ]
  },
  {
   "cell_type": "code",
   "execution_count": 7,
   "metadata": {},
   "outputs": [],
   "source": [
    "k_cluster = cluster.KMeans(n_clusters=6) "
   ]
  },
  {
   "cell_type": "code",
   "execution_count": 8,
   "metadata": {},
   "outputs": [],
   "source": [
    "import numpy as np"
   ]
  },
  {
   "cell_type": "code",
   "execution_count": 9,
   "metadata": {},
   "outputs": [],
   "source": [
    "def max_min_normalize(df):  # 这里用的极值标准化 不知道用正态标准化会怎么样\n",
    "    return (df-df.min())/(df.max()-df.min())"
   ]
  },
  {
   "cell_type": "code",
   "execution_count": 10,
   "metadata": {},
   "outputs": [],
   "source": [
    "train_data = np.array(max_min_normalize(jet))"
   ]
  },
  {
   "cell_type": "code",
   "execution_count": 11,
   "metadata": {},
   "outputs": [
    {
     "data": {
      "text/plain": [
       "KMeans(algorithm='auto', copy_x=True, init='k-means++', max_iter=300,\n",
       "    n_clusters=6, n_init=10, n_jobs=1, precompute_distances='auto',\n",
       "    random_state=None, tol=0.0001, verbose=0)"
      ]
     },
     "execution_count": 11,
     "metadata": {},
     "output_type": "execute_result"
    }
   ],
   "source": [
    "k_cluster.fit(train_data)"
   ]
  },
  {
   "cell_type": "code",
   "execution_count": 12,
   "metadata": {},
   "outputs": [
    {
     "data": {
      "text/plain": [
       "{0, 1, 2, 3, 4, 5}"
      ]
     },
     "execution_count": 12,
     "metadata": {},
     "output_type": "execute_result"
    }
   ],
   "source": [
    "set(k_cluster.labels_) # 验证模式有几个"
   ]
  },
  {
   "cell_type": "code",
   "execution_count": 13,
   "metadata": {},
   "outputs": [
    {
     "data": {
      "text/html": [
       "<div>\n",
       "<style scoped>\n",
       "    .dataframe tbody tr th:only-of-type {\n",
       "        vertical-align: middle;\n",
       "    }\n",
       "\n",
       "    .dataframe tbody tr th {\n",
       "        vertical-align: top;\n",
       "    }\n",
       "\n",
       "    .dataframe thead th {\n",
       "        text-align: right;\n",
       "    }\n",
       "</style>\n",
       "<table border=\"1\" class=\"dataframe\">\n",
       "  <thead>\n",
       "    <tr style=\"text-align: right;\">\n",
       "      <th></th>\n",
       "      <th>0</th>\n",
       "      <th>1</th>\n",
       "      <th>2</th>\n",
       "      <th>3</th>\n",
       "      <th>4</th>\n",
       "      <th>5</th>\n",
       "      <th>6</th>\n",
       "      <th>7</th>\n",
       "      <th>8</th>\n",
       "      <th>9</th>\n",
       "      <th>...</th>\n",
       "      <th>14</th>\n",
       "      <th>15</th>\n",
       "      <th>16</th>\n",
       "      <th>17</th>\n",
       "      <th>18</th>\n",
       "      <th>19</th>\n",
       "      <th>20</th>\n",
       "      <th>21</th>\n",
       "      <th>22</th>\n",
       "      <th>23</th>\n",
       "    </tr>\n",
       "  </thead>\n",
       "  <tbody>\n",
       "    <tr>\n",
       "      <th>0</th>\n",
       "      <td>0.000036</td>\n",
       "      <td>0.000587</td>\n",
       "      <td>1.000000e+00</td>\n",
       "      <td>1.000000</td>\n",
       "      <td>0.983106</td>\n",
       "      <td>0.939161</td>\n",
       "      <td>0.926903</td>\n",
       "      <td>1.000000</td>\n",
       "      <td>0.999989</td>\n",
       "      <td>0.994131</td>\n",
       "      <td>...</td>\n",
       "      <td>0.995015</td>\n",
       "      <td>0.993440</td>\n",
       "      <td>0.698107</td>\n",
       "      <td>0.039011</td>\n",
       "      <td>1.000000e+00</td>\n",
       "      <td>0.939568</td>\n",
       "      <td>1.000000e+00</td>\n",
       "      <td>1.000000e+00</td>\n",
       "      <td>0.982081</td>\n",
       "      <td>0.982932</td>\n",
       "    </tr>\n",
       "    <tr>\n",
       "      <th>1</th>\n",
       "      <td>0.937576</td>\n",
       "      <td>0.998208</td>\n",
       "      <td>1.000000e+00</td>\n",
       "      <td>0.022535</td>\n",
       "      <td>0.150964</td>\n",
       "      <td>0.312376</td>\n",
       "      <td>0.253758</td>\n",
       "      <td>0.054811</td>\n",
       "      <td>0.054088</td>\n",
       "      <td>0.054171</td>\n",
       "      <td>...</td>\n",
       "      <td>0.053391</td>\n",
       "      <td>0.993398</td>\n",
       "      <td>0.558463</td>\n",
       "      <td>0.374695</td>\n",
       "      <td>5.934142e-14</td>\n",
       "      <td>0.304700</td>\n",
       "      <td>6.366023e-01</td>\n",
       "      <td>1.000000e+00</td>\n",
       "      <td>0.068360</td>\n",
       "      <td>0.073548</td>\n",
       "    </tr>\n",
       "    <tr>\n",
       "      <th>2</th>\n",
       "      <td>0.595197</td>\n",
       "      <td>0.736938</td>\n",
       "      <td>-1.293410e-13</td>\n",
       "      <td>0.238089</td>\n",
       "      <td>0.012249</td>\n",
       "      <td>0.051347</td>\n",
       "      <td>0.063907</td>\n",
       "      <td>0.293184</td>\n",
       "      <td>0.208664</td>\n",
       "      <td>0.092182</td>\n",
       "      <td>...</td>\n",
       "      <td>0.089923</td>\n",
       "      <td>0.001941</td>\n",
       "      <td>0.071647</td>\n",
       "      <td>0.944004</td>\n",
       "      <td>3.741452e-14</td>\n",
       "      <td>0.045293</td>\n",
       "      <td>7.938095e-14</td>\n",
       "      <td>-1.293410e-13</td>\n",
       "      <td>0.140015</td>\n",
       "      <td>0.144938</td>\n",
       "    </tr>\n",
       "    <tr>\n",
       "      <th>3</th>\n",
       "      <td>0.238121</td>\n",
       "      <td>0.297500</td>\n",
       "      <td>1.000000e+00</td>\n",
       "      <td>0.597937</td>\n",
       "      <td>0.636603</td>\n",
       "      <td>0.699667</td>\n",
       "      <td>0.691963</td>\n",
       "      <td>0.617180</td>\n",
       "      <td>0.615301</td>\n",
       "      <td>0.614589</td>\n",
       "      <td>...</td>\n",
       "      <td>0.614650</td>\n",
       "      <td>0.993612</td>\n",
       "      <td>0.682552</td>\n",
       "      <td>0.120433</td>\n",
       "      <td>1.000000e+00</td>\n",
       "      <td>0.694789</td>\n",
       "      <td>8.541226e-01</td>\n",
       "      <td>1.000000e+00</td>\n",
       "      <td>0.629159</td>\n",
       "      <td>0.631713</td>\n",
       "    </tr>\n",
       "    <tr>\n",
       "      <th>4</th>\n",
       "      <td>0.476171</td>\n",
       "      <td>0.831961</td>\n",
       "      <td>1.000000e+00</td>\n",
       "      <td>0.626985</td>\n",
       "      <td>0.659707</td>\n",
       "      <td>0.650853</td>\n",
       "      <td>0.545918</td>\n",
       "      <td>0.507937</td>\n",
       "      <td>0.499733</td>\n",
       "      <td>0.472216</td>\n",
       "      <td>...</td>\n",
       "      <td>0.471535</td>\n",
       "      <td>0.993498</td>\n",
       "      <td>0.514892</td>\n",
       "      <td>0.323729</td>\n",
       "      <td>2.858824e-14</td>\n",
       "      <td>0.645409</td>\n",
       "      <td>8.646934e-01</td>\n",
       "      <td>1.000000e+00</td>\n",
       "      <td>0.490689</td>\n",
       "      <td>0.493914</td>\n",
       "    </tr>\n",
       "    <tr>\n",
       "      <th>5</th>\n",
       "      <td>0.476171</td>\n",
       "      <td>0.831982</td>\n",
       "      <td>1.000000e+00</td>\n",
       "      <td>0.626985</td>\n",
       "      <td>0.665420</td>\n",
       "      <td>0.671023</td>\n",
       "      <td>0.574471</td>\n",
       "      <td>0.507937</td>\n",
       "      <td>0.499986</td>\n",
       "      <td>0.470307</td>\n",
       "      <td>...</td>\n",
       "      <td>0.469766</td>\n",
       "      <td>0.993930</td>\n",
       "      <td>0.528487</td>\n",
       "      <td>0.345639</td>\n",
       "      <td>1.000000e+00</td>\n",
       "      <td>0.666086</td>\n",
       "      <td>8.646934e-01</td>\n",
       "      <td>1.000000e+00</td>\n",
       "      <td>0.485199</td>\n",
       "      <td>0.488462</td>\n",
       "    </tr>\n",
       "  </tbody>\n",
       "</table>\n",
       "<p>6 rows × 24 columns</p>\n",
       "</div>"
      ],
      "text/plain": [
       "         0         1             2         3         4         5         6   \\\n",
       "0  0.000036  0.000587  1.000000e+00  1.000000  0.983106  0.939161  0.926903   \n",
       "1  0.937576  0.998208  1.000000e+00  0.022535  0.150964  0.312376  0.253758   \n",
       "2  0.595197  0.736938 -1.293410e-13  0.238089  0.012249  0.051347  0.063907   \n",
       "3  0.238121  0.297500  1.000000e+00  0.597937  0.636603  0.699667  0.691963   \n",
       "4  0.476171  0.831961  1.000000e+00  0.626985  0.659707  0.650853  0.545918   \n",
       "5  0.476171  0.831982  1.000000e+00  0.626985  0.665420  0.671023  0.574471   \n",
       "\n",
       "         7         8         9     ...           14        15        16  \\\n",
       "0  1.000000  0.999989  0.994131    ...     0.995015  0.993440  0.698107   \n",
       "1  0.054811  0.054088  0.054171    ...     0.053391  0.993398  0.558463   \n",
       "2  0.293184  0.208664  0.092182    ...     0.089923  0.001941  0.071647   \n",
       "3  0.617180  0.615301  0.614589    ...     0.614650  0.993612  0.682552   \n",
       "4  0.507937  0.499733  0.472216    ...     0.471535  0.993498  0.514892   \n",
       "5  0.507937  0.499986  0.470307    ...     0.469766  0.993930  0.528487   \n",
       "\n",
       "         17            18        19            20            21        22  \\\n",
       "0  0.039011  1.000000e+00  0.939568  1.000000e+00  1.000000e+00  0.982081   \n",
       "1  0.374695  5.934142e-14  0.304700  6.366023e-01  1.000000e+00  0.068360   \n",
       "2  0.944004  3.741452e-14  0.045293  7.938095e-14 -1.293410e-13  0.140015   \n",
       "3  0.120433  1.000000e+00  0.694789  8.541226e-01  1.000000e+00  0.629159   \n",
       "4  0.323729  2.858824e-14  0.645409  8.646934e-01  1.000000e+00  0.490689   \n",
       "5  0.345639  1.000000e+00  0.666086  8.646934e-01  1.000000e+00  0.485199   \n",
       "\n",
       "         23  \n",
       "0  0.982932  \n",
       "1  0.073548  \n",
       "2  0.144938  \n",
       "3  0.631713  \n",
       "4  0.493914  \n",
       "5  0.488462  \n",
       "\n",
       "[6 rows x 24 columns]"
      ]
     },
     "execution_count": 13,
     "metadata": {},
     "output_type": "execute_result"
    }
   ],
   "source": [
    "pd.DataFrame(k_cluster.cluster_centers_)  # 聚类中心，没什么用"
   ]
  },
  {
   "cell_type": "code",
   "execution_count": 14,
   "metadata": {},
   "outputs": [],
   "source": [
    "jet['mode'] = k_cluster.labels_  # jet追加一列"
   ]
  },
  {
   "cell_type": "code",
   "execution_count": 15,
   "metadata": {},
   "outputs": [],
   "source": [
    "jet_mode = [jet[jet['mode']==n] for n in range(6)]  # jet_mode "
   ]
  },
  {
   "cell_type": "markdown",
   "metadata": {},
   "source": [
    "## 2. 仅通过前三个指标进行聚类"
   ]
  },
  {
   "cell_type": "code",
   "execution_count": 21,
   "metadata": {},
   "outputs": [],
   "source": [
    "k_cluster_2 = cluster.KMeans(n_clusters=6)"
   ]
  },
  {
   "cell_type": "code",
   "execution_count": 22,
   "metadata": {},
   "outputs": [],
   "source": [
    "train_data_2 = train_data.transpose()[:3].transpose()"
   ]
  },
  {
   "cell_type": "code",
   "execution_count": 23,
   "metadata": {},
   "outputs": [
    {
     "data": {
      "text/plain": [
       "KMeans(algorithm='auto', copy_x=True, init='k-means++', max_iter=300,\n",
       "    n_clusters=6, n_init=10, n_jobs=1, precompute_distances='auto',\n",
       "    random_state=None, tol=0.0001, verbose=0)"
      ]
     },
     "execution_count": 23,
     "metadata": {},
     "output_type": "execute_result"
    }
   ],
   "source": [
    "k_cluster_2.fit(train_data_2)"
   ]
  },
  {
   "cell_type": "code",
   "execution_count": 24,
   "metadata": {},
   "outputs": [
    {
     "data": {
      "text/html": [
       "<div>\n",
       "<style scoped>\n",
       "    .dataframe tbody tr th:only-of-type {\n",
       "        vertical-align: middle;\n",
       "    }\n",
       "\n",
       "    .dataframe tbody tr th {\n",
       "        vertical-align: top;\n",
       "    }\n",
       "\n",
       "    .dataframe thead th {\n",
       "        text-align: right;\n",
       "    }\n",
       "</style>\n",
       "<table border=\"1\" class=\"dataframe\">\n",
       "  <thead>\n",
       "    <tr style=\"text-align: right;\">\n",
       "      <th></th>\n",
       "      <th>0</th>\n",
       "      <th>1</th>\n",
       "      <th>2</th>\n",
       "    </tr>\n",
       "  </thead>\n",
       "  <tbody>\n",
       "    <tr>\n",
       "      <th>0</th>\n",
       "      <td>0.238121</td>\n",
       "      <td>0.297500</td>\n",
       "      <td>1.000000e+00</td>\n",
       "    </tr>\n",
       "    <tr>\n",
       "      <th>1</th>\n",
       "      <td>0.999880</td>\n",
       "      <td>0.998201</td>\n",
       "      <td>1.000000e+00</td>\n",
       "    </tr>\n",
       "    <tr>\n",
       "      <th>2</th>\n",
       "      <td>0.595197</td>\n",
       "      <td>0.736938</td>\n",
       "      <td>-1.293410e-13</td>\n",
       "    </tr>\n",
       "    <tr>\n",
       "      <th>3</th>\n",
       "      <td>0.000036</td>\n",
       "      <td>0.000587</td>\n",
       "      <td>1.000000e+00</td>\n",
       "    </tr>\n",
       "    <tr>\n",
       "      <th>4</th>\n",
       "      <td>0.476171</td>\n",
       "      <td>0.831966</td>\n",
       "      <td>1.000000e+00</td>\n",
       "    </tr>\n",
       "    <tr>\n",
       "      <th>5</th>\n",
       "      <td>0.833247</td>\n",
       "      <td>0.998219</td>\n",
       "      <td>1.000000e+00</td>\n",
       "    </tr>\n",
       "  </tbody>\n",
       "</table>\n",
       "</div>"
      ],
      "text/plain": [
       "          0         1             2\n",
       "0  0.238121  0.297500  1.000000e+00\n",
       "1  0.999880  0.998201  1.000000e+00\n",
       "2  0.595197  0.736938 -1.293410e-13\n",
       "3  0.000036  0.000587  1.000000e+00\n",
       "4  0.476171  0.831966  1.000000e+00\n",
       "5  0.833247  0.998219  1.000000e+00"
      ]
     },
     "execution_count": 24,
     "metadata": {},
     "output_type": "execute_result"
    }
   ],
   "source": [
    "pd.DataFrame(k_cluster_2.cluster_centers_)"
   ]
  },
  {
   "cell_type": "code",
   "execution_count": 25,
   "metadata": {},
   "outputs": [],
   "source": [
    "jet['mode2'] = k_cluster_2.labels_"
   ]
  },
  {
   "cell_type": "code",
   "execution_count": 26,
   "metadata": {},
   "outputs": [],
   "source": [
    "jet_mode_2 = [jet[jet['mode2']==n] for n in range(6)]"
   ]
  },
  {
   "cell_type": "code",
   "execution_count": 27,
   "metadata": {},
   "outputs": [],
   "source": [
    "import matplotlib.pyplot as plt\n",
    "\n",
    "\n",
    "def comp_cluster(k):\n",
    "    plt.figure(figsize=(10, 8))\n",
    "    for i in range(6):\n",
    "        plt.hist(jet_mode[i][k], bins=8)\n",
    "    plt.title(sensor_dict[k])\n",
    "    plt.show()\n",
    "\n",
    "\n",
    "def comp_cluster_2(k):\n",
    "    plt.figure(figsize=(10, 8))\n",
    "    for i in range(6):\n",
    "        plt.hist(jet_mode_2[i][k], bins=8)\n",
    "    plt.title(sensors_dict[k])\n",
    "    plt.show()"
   ]
  },
  {
   "cell_type": "code",
   "execution_count": null,
   "metadata": {},
   "outputs": [],
   "source": [
    "for i in range(1,25):\n",
    "    comp_cluster(i)\n",
    "    comp_cluster_2(i)\n",
    "    print('_'*50)\n",
    "#     print('Cluster centers:')\n",
    "#     print([float(format(k_cluster.cluster_centers_[t][i-1],'.3g')) for t in range(6)])\n",
    "#     print('-'*100)"
   ]
  },
  {
   "cell_type": "markdown",
   "metadata": {},
   "source": [
    "可以明显对比出两种方法的不同"
   ]
  },
  {
   "cell_type": "code",
   "execution_count": null,
   "metadata": {},
   "outputs": [],
   "source": []
  }
 ],
 "metadata": {
  "kernelspec": {
   "display_name": "Python 3",
   "language": "python",
   "name": "python3"
  },
  "language_info": {
   "codemirror_mode": {
    "name": "ipython",
    "version": 3
   },
   "file_extension": ".py",
   "mimetype": "text/x-python",
   "name": "python",
   "nbconvert_exporter": "python",
   "pygments_lexer": "ipython3",
   "version": "3.7.0"
  }
 },
 "nbformat": 4,
 "nbformat_minor": 2
}
